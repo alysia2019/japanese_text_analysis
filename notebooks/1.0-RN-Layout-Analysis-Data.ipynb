{
 "cells": [
  {
   "cell_type": "code",
   "execution_count": null,
   "metadata": {},
   "outputs": [],
   "source": [
    "from pathlib import Path\n",
    "from pathlib import Path\n",
    "import numpy as np\n",
    "import pandas as pd\n",
    "import bs4 as BeautifulSoup\n",
    "from io import BytesIO\n",
    "from PIL import Image as pi\n",
    "from ipywidgets import HBox, VBox, Layout, HTML\n",
    "from ipywidgets import Image as Image_widget\n",
    "\n",
    "import drawSvg as draw\n",
    "import cairosvg\n",
    "\n",
    "try:\n",
    "    from fastai.vision import *\n",
    "    from fastai.metrics import error_rate\n",
    "    fastai_imported = True\n",
    "except Exception as ex:\n",
    "    print('Switch to fastapi-cpu kernel to train or use model.')\n",
    "    fastai_imported = False"
   ]
  },
  {
   "cell_type": "code",
   "execution_count": null,
   "metadata": {},
   "outputs": [],
   "source": [
    "doc_image = pi.open('/Users/ray/data/PRImA_Layout_Analysis_Dataset/Images/00000086.tif')"
   ]
  },
  {
   "cell_type": "code",
   "execution_count": null,
   "metadata": {},
   "outputs": [],
   "source": [
    "doc_image.size"
   ]
  },
  {
   "cell_type": "code",
   "execution_count": null,
   "metadata": {},
   "outputs": [],
   "source": [
    "!cat /Users/ray/data/PRImA_Layout_Analysis_Dataset/XML/00000086.xml"
   ]
  },
  {
   "cell_type": "code",
   "execution_count": null,
   "metadata": {},
   "outputs": [],
   "source": [
    "with open('/Users/ray/data/PRImA_Layout_Analysis_Dataset/XML/00000086.xml') as fp:\n",
    "    soup = BeautifulSoup.BeautifulSoup(fp)"
   ]
  },
  {
   "cell_type": "code",
   "execution_count": null,
   "metadata": {},
   "outputs": [],
   "source": [
    "tags = soup.find_all('textregion')"
   ]
  },
  {
   "cell_type": "code",
   "execution_count": null,
   "metadata": {},
   "outputs": [],
   "source": [
    "for tag in tags:\n",
    "    print(len(tag.find_all('point')))\n",
    "    print(tag['type'])"
   ]
  },
  {
   "cell_type": "code",
   "execution_count": null,
   "metadata": {},
   "outputs": [],
   "source": [
    "tag.attrs"
   ]
  },
  {
   "cell_type": "code",
   "execution_count": null,
   "metadata": {},
   "outputs": [],
   "source": [
    "width, height = doc_image.size\n",
    "d = draw.Drawing(width, height, origin = (0, -height))\n",
    "for tag in tags:\n",
    "    count = 0\n",
    "    p = draw.Path(stroke_width=2, stroke='black',\n",
    "              fill='#eeee00', fill_opacity=0.5)\n",
    "    for t in tag.find_all('point'):\n",
    "        x = int(t['x'])\n",
    "        y = -int(t['y'])\n",
    "        if count == 0:\n",
    "            p.M(x, y)\n",
    "        else:\n",
    "            p.L(x,y)\n",
    "        count += 1\n",
    "    p.Z()\n",
    "    d.append(p)"
   ]
  },
  {
   "cell_type": "code",
   "execution_count": null,
   "metadata": {},
   "outputs": [],
   "source": [
    "print(d.asSvg())"
   ]
  },
  {
   "cell_type": "code",
   "execution_count": null,
   "metadata": {},
   "outputs": [],
   "source": [
    "path = Path('/Users/ray/data/PRImA_Layout_Analysis_Dataset/Images')\n",
    "b = BytesIO()\n",
    "im = pi.open(path / '00000086.tif')\n",
    "im.save(b, format='png')"
   ]
  },
  {
   "cell_type": "code",
   "execution_count": null,
   "metadata": {},
   "outputs": [],
   "source": [
    "png = cairosvg.svg2png(d.asSvg())\n",
    "mask = Image_widget(value=png, layout=Layout(width='40%', height='600px', border='1px solid black'))\n",
    "document_image = Image_widget(value=b.getvalue(), layout=Layout(width='40%', height='600px', border='1px solid black'))\n",
    "HBox([mask, document_image])"
   ]
  },
  {
   "cell_type": "code",
   "execution_count": null,
   "metadata": {},
   "outputs": [],
   "source": [
    "out = BytesIO()\n",
    "cairosvg.svg2png(d.asSvg(), write_to=out)\n",
    "png = pi.open(out)"
   ]
  },
  {
   "cell_type": "code",
   "execution_count": null,
   "metadata": {},
   "outputs": [],
   "source": [
    "background = im.convert(\"RGBA\")\n",
    "foreground = png.convert(\"RGBA\")\n",
    "\n",
    "merged = pi.alpha_composite(background, foreground)"
   ]
  },
  {
   "cell_type": "code",
   "execution_count": null,
   "metadata": {},
   "outputs": [],
   "source": [
    "merged"
   ]
  },
  {
   "cell_type": "code",
   "execution_count": null,
   "metadata": {},
   "outputs": [],
   "source": []
  }
 ],
 "metadata": {
  "kernelspec": {
   "display_name": "Python [conda env:fastai-cpu]",
   "language": "python",
   "name": "conda-env-fastai-cpu-py"
  },
  "language_info": {
   "codemirror_mode": {
    "name": "ipython",
    "version": 3
   },
   "file_extension": ".py",
   "mimetype": "text/x-python",
   "name": "python",
   "nbconvert_exporter": "python",
   "pygments_lexer": "ipython3",
   "version": "3.6.8"
  },
  "toc": {
   "base_numbering": 1,
   "nav_menu": {},
   "number_sections": true,
   "sideBar": true,
   "skip_h1_title": false,
   "title_cell": "Table of Contents",
   "title_sidebar": "Contents",
   "toc_cell": false,
   "toc_position": {},
   "toc_section_display": true,
   "toc_window_display": false
  }
 },
 "nbformat": 4,
 "nbformat_minor": 2
}
