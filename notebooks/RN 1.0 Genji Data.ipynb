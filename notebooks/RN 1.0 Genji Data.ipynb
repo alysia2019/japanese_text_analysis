{
 "cells": [
  {
   "cell_type": "code",
   "execution_count": 1,
   "metadata": {},
   "outputs": [],
   "source": [
    "import requests\n",
    "from bs4 import BeautifulSoup, NavigableString, Tag\n",
    "import lxml\n",
    "import json\n",
    "\n",
    "import unicodedata\n",
    "from ipywidgets import HTML"
   ]
  },
  {
   "cell_type": "code",
   "execution_count": 2,
   "metadata": {},
   "outputs": [],
   "source": [
    "base_url = 'http://jti.lib.virginia.edu/japanese/genji/'"
   ]
  },
  {
   "cell_type": "code",
   "execution_count": 3,
   "metadata": {},
   "outputs": [],
   "source": [
    "toc_url = 'http://jti.lib.virginia.edu/japanese/genji/tocmodern.html'\n",
    "s = requests.Session()\n",
    "r = s.get(toc_url)\n",
    "GM_toc = r.text"
   ]
  },
  {
   "cell_type": "code",
   "execution_count": 4,
   "metadata": {},
   "outputs": [],
   "source": [
    "# Links chapters start at 1 (instead of python 0 based counting).\n",
    "no_chapters = 54\n",
    "chapters = [n for n in range(1, no_chapters+1)]\n",
    "top_level_links = ['Mur' + str(chapter).zfill(2) + 'GM.html' for chapter in chapters]"
   ]
  },
  {
   "cell_type": "code",
   "execution_count": 5,
   "metadata": {},
   "outputs": [
    {
     "data": {
      "text/plain": [
       "['Mur01GM.html']"
      ]
     },
     "execution_count": 5,
     "metadata": {},
     "output_type": "execute_result"
    }
   ],
   "source": [
    "top_level_links[:1]"
   ]
  },
  {
   "cell_type": "code",
   "execution_count": 6,
   "metadata": {},
   "outputs": [
    {
     "name": "stdout",
     "output_type": "stream",
     "text": [
      "桐壷 帚木 空蝉 夕顔 若紫 末摘花 紅葉賀 花宴 葵 賢木 花散里 須磨 明石 澪標 蓬生 関屋 絵合 松風 薄雲 朝顔 少女 玉鬘 初音 胡蝶 蛍 常夏 篝火 野分 行幸 藤袴 真木柱 梅枝 藤裏葉 若菜上 若菜下 柏木 横笛 鈴虫 夕霧 御法 幻 匂兵部卿 紅梅 竹河 橋姫 椎本 総角 早蕨 宿木 東屋 浮舟 蜻蛉 手習 夢浮橋 "
     ]
    }
   ],
   "source": [
    "genji_data = {}\n",
    "for chapter in chapters:\n",
    "    chapter_url = base_url + top_level_links[chapter - 1] # Account for 1-based chapter numbering.\n",
    "    r = s.get(chapter_url)\n",
    "    \n",
    "    # HTML(r.text)\n",
    "    text = r.text\n",
    "    text = unicodedata.normalize('NFKC', text) # Hex encoded whitespace \\x3000\n",
    "    \n",
    "    soup = BeautifulSoup(text, 'html.parser')\n",
    "    \n",
    "    headings = soup.find_all('h2')\n",
    "    tags = headings[0].find_all('a')\n",
    "    chapter_name = tags[0]['name'].strip()\n",
    "    print(chapter_name, end=' ')\n",
    "    anchors = []\n",
    "    for ol in soup.find_all('ol'):\n",
    "        for anchor in ol.find_all('a'):\n",
    "            if 'href' in anchor.attrs:\n",
    "                anchors.append(anchor['href'].replace('#', ''))\n",
    "                link_url = chapter_url + '#' + anchor['href']\n",
    "#                 print(anchor.text, link_url)\n",
    "#         print('='*40)\n",
    "    paragraphs = soup.find_all('p')\n",
    "    sections = {}\n",
    "    for paragraph in paragraphs[1:]:\n",
    "#         print(len(paragraph.find_all('a')))\n",
    "        for anchor in paragraph.find_all('a'):\n",
    "#             print(anchor.attrs)\n",
    "            if anchor['name'] in anchors:\n",
    "#                 print(anchor['name'])\n",
    "                blocks = []\n",
    "                for tag in anchor:\n",
    "                    if isinstance(tag, NavigableString):\n",
    "                        block = str(tag)\n",
    "                        if block != '\\n':\n",
    "                            blocks.append(block)\n",
    "#                         print(block)\n",
    "#                         print('='*40)\n",
    "                sections[anchor['name']] = blocks\n",
    "    genji_data[chapter_name] = sections"
   ]
  },
  {
   "cell_type": "code",
   "execution_count": null,
   "metadata": {},
   "outputs": [],
   "source": [
    "print(len(genji_data.keys()))"
   ]
  },
  {
   "cell_type": "code",
   "execution_count": null,
   "metadata": {},
   "outputs": [],
   "source": [
    "with open('genji_data.json', 'w') as fp:\n",
    "    json.dump(genji_data, fp)"
   ]
  }
 ],
 "metadata": {
  "kernelspec": {
   "display_name": "Python 3",
   "language": "python",
   "name": "python3"
  },
  "language_info": {
   "codemirror_mode": {
    "name": "ipython",
    "version": 3
   },
   "file_extension": ".py",
   "mimetype": "text/x-python",
   "name": "python",
   "nbconvert_exporter": "python",
   "pygments_lexer": "ipython3",
   "version": "3.7.3"
  }
 },
 "nbformat": 4,
 "nbformat_minor": 2
}
