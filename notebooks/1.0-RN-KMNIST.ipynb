{
 "cells": [
  {
   "cell_type": "code",
   "execution_count": null,
   "metadata": {},
   "outputs": [],
   "source": [
    "import struct\n",
    "import numpy as np\n",
    "from io import BytesIO\n",
    "from PIL import Image as pi\n",
    "from ipywidgets import Image, HBox, VBox, Layout, HTML"
   ]
  },
  {
   "cell_type": "code",
   "execution_count": null,
   "metadata": {},
   "outputs": [],
   "source": [
    "with open('/Users/ray/data/kmnist/t10k-images-idx3-ubyte', 'rb') as f:\n",
    "    magic, size = struct.unpack(\">II\", f.read(8))\n",
    "    nrows, ncols = struct.unpack(\">II\", f.read(8))\n",
    "    data = np.fromfile(f, dtype=np.dtype(np.uint8).newbyteorder('>'))\n",
    "    data = data.reshape((size, nrows, ncols))\n",
    "\n",
    "print(magic, size, nrows, ncols)"
   ]
  },
  {
   "cell_type": "code",
   "execution_count": null,
   "metadata": {},
   "outputs": [],
   "source": [
    "images = [pi.fromarray(data[n,:,:]) for n in range(len(data))]"
   ]
  },
  {
   "cell_type": "code",
   "execution_count": null,
   "metadata": {},
   "outputs": [],
   "source": [
    "images = []\n",
    "for n in range(len(data)):\n",
    "    b = BytesIO()\n",
    "    im = pi.fromarray(data[n,:,:])\n",
    "    im.save(b, format='png')\n",
    "    images.append(b.getvalue())"
   ]
  },
  {
   "cell_type": "code",
   "execution_count": null,
   "metadata": {},
   "outputs": [],
   "source": [
    "# Grid of relearned kanji images.\n",
    "z_container_layout = Layout(border='0px solid  grey', width='50px', length='50px')\n",
    "a_container_layout = Layout(border='0px solid red')\n",
    "b_container_layout = Layout(border='0px solid green', justify_content='flex-start')\n",
    "c_container_layout = Layout(border='0px solid black', width='50%', flex_direction='column', justify_content='space-around')\n",
    "no_boxes_per_line = 10\n",
    "fig1 = VBox(children=[HBox(children=[VBox(children=[Image(value=image, layout=z_container_layout)], layout=a_container_layout) \n",
    "                     for image in images[10*m:10*m+10]], layout=b_container_layout) for m in range(13)], layout=c_container_layout)"
   ]
  },
  {
   "cell_type": "code",
   "execution_count": null,
   "metadata": {},
   "outputs": [],
   "source": [
    "with open('/Users/ray/data/kmnist/t10k-labels-idx1-ubyte', 'rb') as f:\n",
    "    magic, size = struct.unpack(\">II\", f.read(8))\n",
    "    labels = np.fromfile(f, dtype=np.dtype(np.uint8).newbyteorder('>'))\n",
    "\n",
    "print(magic, size, nrows, ncols)"
   ]
  },
  {
   "cell_type": "code",
   "execution_count": null,
   "metadata": {},
   "outputs": [],
   "source": [
    "for label in labels:\n",
    "    pass\n",
    "type(label)"
   ]
  },
  {
   "cell_type": "code",
   "execution_count": null,
   "metadata": {},
   "outputs": [],
   "source": [
    "# Grid of labels.\n",
    "a_container_layout = Layout(border='0px solid red')\n",
    "b_container_layout = Layout(border='0px solid green', justify_content='space-between')\n",
    "c_container_layout = Layout(border='0px solid black', width='50%', flex_direction='column', justify_content='space-around')\n",
    "no_boxes_per_line = 10\n",
    "fig2 = VBox(children=[HBox(children=[HBox(children=[HTML(value=str(label))], layout=a_container_layout) \n",
    "                     for label in labels[no_boxes_per_line*m:no_boxes_per_line*m+no_boxes_per_line]], layout=b_container_layout) for m in range(13)],\n",
    "     layout=c_container_layout)"
   ]
  },
  {
   "cell_type": "code",
   "execution_count": null,
   "metadata": {},
   "outputs": [],
   "source": [
    "HBox(children=[fig1, fig2], layout=Layout(border='0px solid black', justify_content='space-around'))"
   ]
  },
  {
   "cell_type": "code",
   "execution_count": null,
   "metadata": {},
   "outputs": [],
   "source": [
    "!ls /Users/ray/data/kmnist/"
   ]
  },
  {
   "cell_type": "code",
   "execution_count": null,
   "metadata": {},
   "outputs": [],
   "source": [
    "len(labels)"
   ]
  },
  {
   "cell_type": "code",
   "execution_count": null,
   "metadata": {},
   "outputs": [],
   "source": []
  }
 ],
 "metadata": {
  "kernelspec": {
   "display_name": "Python 3",
   "language": "python",
   "name": "python3"
  },
  "language_info": {
   "codemirror_mode": {
    "name": "ipython",
    "version": 3
   },
   "file_extension": ".py",
   "mimetype": "text/x-python",
   "name": "python",
   "nbconvert_exporter": "python",
   "pygments_lexer": "ipython3",
   "version": "3.7.3"
  }
 },
 "nbformat": 4,
 "nbformat_minor": 2
}
