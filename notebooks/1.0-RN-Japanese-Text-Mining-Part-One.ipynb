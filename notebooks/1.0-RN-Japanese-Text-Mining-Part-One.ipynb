{
 "cells": [
  {
   "cell_type": "markdown",
   "metadata": {},
   "source": [
    "# An Introduction to Japanese Text Mining: Part One\n",
    "\n",
    "![Japanese Text Mining](images/japanese_text_mining.jpg)\n",
    "Check out the [Emory University workshop blog](https://scholarblogs.emory.edu/japanese-text-mining/) on Japanese Text Mining. The example notebook cells below repeat the steps in the [tutorial](http://history.emory.edu/RAVINA/JF_text_mining/Guides/Jtextmining_intro_part1.html) of Mark Ravina using python instead of R."
   ]
  },
  {
   "cell_type": "markdown",
   "metadata": {},
   "source": [
    "## Imports"
   ]
  },
  {
   "cell_type": "code",
   "execution_count": 1,
   "metadata": {},
   "outputs": [],
   "source": [
    "import pandas as pd\n",
    "import plotly_express as px"
   ]
  },
  {
   "cell_type": "markdown",
   "metadata": {},
   "source": [
    "## Data Structures\n",
    "\n",
    "Pandas `DataFrame` is the main python analogue of `R`'s `dataframe`."
   ]
  },
  {
   "cell_type": "code",
   "execution_count": 2,
   "metadata": {},
   "outputs": [],
   "source": [
    "meiroku_zasshi_url = 'http://history.emory.edu/RAVINA/JF_text_mining/Guides/data/meiroku_zasshi.txt'\n",
    "Meiroku_df = pd.read_csv(meiroku_zasshi_url, sep=' ')"
   ]
  },
  {
   "cell_type": "code",
   "execution_count": 3,
   "metadata": {},
   "outputs": [
    {
     "data": {
      "text/html": [
       "<div>\n",
       "<style scoped>\n",
       "    .dataframe tbody tr th:only-of-type {\n",
       "        vertical-align: middle;\n",
       "    }\n",
       "\n",
       "    .dataframe tbody tr th {\n",
       "        vertical-align: top;\n",
       "    }\n",
       "\n",
       "    .dataframe thead th {\n",
       "        text-align: right;\n",
       "    }\n",
       "</style>\n",
       "<table border=\"1\" class=\"dataframe\">\n",
       "  <thead>\n",
       "    <tr style=\"text-align: right;\">\n",
       "      <th></th>\n",
       "      <th>year</th>\n",
       "      <th>issue</th>\n",
       "      <th>title</th>\n",
       "      <th>author</th>\n",
       "      <th>text</th>\n",
       "    </tr>\n",
       "  </thead>\n",
       "  <tbody>\n",
       "    <tr>\n",
       "      <th>1</th>\n",
       "      <td>1874</td>\n",
       "      <td>1</td>\n",
       "      <td>洋字を以て国語を書するの論</td>\n",
       "      <td>西周</td>\n",
       "      <td>洋字 を 以 て 國語 を 書する の 論 　 西 周 吾輩 日常 二三 朋友 の 盍簪 に...</td>\n",
       "    </tr>\n",
       "    <tr>\n",
       "      <th>2</th>\n",
       "      <td>1874</td>\n",
       "      <td>1</td>\n",
       "      <td>開化の度に因て改文字を発すべきの論</td>\n",
       "      <td>西村茂樹</td>\n",
       "      <td>西村 茂樹 西 先生 の 文字 論 を 再三 熟讀 する に 其 論説 痛快 精到 少し も...</td>\n",
       "    </tr>\n",
       "    <tr>\n",
       "      <th>3</th>\n",
       "      <td>1874</td>\n",
       "      <td>2</td>\n",
       "      <td>福沢先生の論に荅ふ</td>\n",
       "      <td>加藤弘之</td>\n",
       "      <td>福澤 先生 の 學者 職分 論 は 慶應 義塾 出版 の 學問 の 勸め 第 四 編 に 見...</td>\n",
       "    </tr>\n",
       "    <tr>\n",
       "      <th>4</th>\n",
       "      <td>1874</td>\n",
       "      <td>2</td>\n",
       "      <td>学者職分論の評</td>\n",
       "      <td>森有礼</td>\n",
       "      <td>學者 職分 論 の 評 　 森 有禮 民權 を 立る の 一 篇 意 は 懇 を 盡し 論 ...</td>\n",
       "    </tr>\n",
       "    <tr>\n",
       "      <th>5</th>\n",
       "      <td>1874</td>\n",
       "      <td>2</td>\n",
       "      <td>学者職分論の評</td>\n",
       "      <td>津田真道</td>\n",
       "      <td>學者 職分 論 の 評 　 津田 眞道 國家 を 人身 に 譬ふる は 可 なり 政府 は ...</td>\n",
       "    </tr>\n",
       "  </tbody>\n",
       "</table>\n",
       "</div>"
      ],
      "text/plain": [
       "   year  issue              title author  \\\n",
       "1  1874      1      洋字を以て国語を書するの論     西周   \n",
       "2  1874      1  開化の度に因て改文字を発すべきの論   西村茂樹   \n",
       "3  1874      2          福沢先生の論に荅ふ   加藤弘之   \n",
       "4  1874      2            学者職分論の評    森有礼   \n",
       "5  1874      2            学者職分論の評   津田真道   \n",
       "\n",
       "                                                text  \n",
       "1  洋字 を 以 て 國語 を 書する の 論 　 西 周 吾輩 日常 二三 朋友 の 盍簪 に...  \n",
       "2  西村 茂樹 西 先生 の 文字 論 を 再三 熟讀 する に 其 論説 痛快 精到 少し も...  \n",
       "3  福澤 先生 の 學者 職分 論 は 慶應 義塾 出版 の 學問 の 勸め 第 四 編 に 見...  \n",
       "4  學者 職分 論 の 評 　 森 有禮 民權 を 立る の 一 篇 意 は 懇 を 盡し 論 ...  \n",
       "5  學者 職分 論 の 評 　 津田 眞道 國家 を 人身 に 譬ふる は 可 なり 政府 は ...  "
      ]
     },
     "execution_count": 3,
     "metadata": {},
     "output_type": "execute_result"
    }
   ],
   "source": [
    "Meiroku_df.head()"
   ]
  },
  {
   "cell_type": "code",
   "execution_count": 4,
   "metadata": {},
   "outputs": [
    {
     "data": {
      "text/plain": [
       "151    西村茂樹\n",
       "152      西周\n",
       "153    津田真道\n",
       "154    西村茂樹\n",
       "155     阪谷素\n",
       "Name: author, dtype: object"
      ]
     },
     "execution_count": 4,
     "metadata": {},
     "output_type": "execute_result"
    }
   ],
   "source": [
    "Meiroku_df.author.tail()"
   ]
  },
  {
   "cell_type": "code",
   "execution_count": 5,
   "metadata": {},
   "outputs": [
    {
     "data": {
      "text/plain": [
       "array(['西周', '西村茂樹', '加藤弘之', '森有礼', '津田真道', '杉亨二', '箕作麟祥', '柴田昌吉',\n",
       "       '清水卯三郎', '箕作秋坪', '中村正直', '阪谷素', '神田孝平', '福沢諭吉', '柏原孝章', '津田仙'],\n",
       "      dtype=object)"
      ]
     },
     "execution_count": 5,
     "metadata": {},
     "output_type": "execute_result"
    }
   ],
   "source": [
    "Meiroku_df.author.unique()"
   ]
  },
  {
   "cell_type": "code",
   "execution_count": 6,
   "metadata": {},
   "outputs": [
    {
     "data": {
      "text/plain": [
       "'西村茂樹'"
      ]
     },
     "execution_count": 6,
     "metadata": {},
     "output_type": "execute_result"
    }
   ],
   "source": [
    "Meiroku_df.author[2]"
   ]
  },
  {
   "cell_type": "code",
   "execution_count": 7,
   "metadata": {},
   "outputs": [
    {
     "data": {
      "text/plain": [
       "2    西村茂樹\n",
       "3    加藤弘之\n",
       "4     森有礼\n",
       "5    津田真道\n",
       "Name: author, dtype: object"
      ]
     },
     "execution_count": 7,
     "metadata": {},
     "output_type": "execute_result"
    }
   ],
   "source": [
    "Meiroku_df.author[1:5]"
   ]
  },
  {
   "cell_type": "code",
   "execution_count": null,
   "metadata": {},
   "outputs": [],
   "source": [
    "Meiroku_df.loc[2, 'author']"
   ]
  },
  {
   "cell_type": "code",
   "execution_count": 10,
   "metadata": {},
   "outputs": [
    {
     "data": {
      "text/html": [
       "<div>\n",
       "<style scoped>\n",
       "    .dataframe tbody tr th:only-of-type {\n",
       "        vertical-align: middle;\n",
       "    }\n",
       "\n",
       "    .dataframe tbody tr th {\n",
       "        vertical-align: top;\n",
       "    }\n",
       "\n",
       "    .dataframe thead th {\n",
       "        text-align: right;\n",
       "    }\n",
       "</style>\n",
       "<table border=\"1\" class=\"dataframe\">\n",
       "  <thead>\n",
       "    <tr style=\"text-align: right;\">\n",
       "      <th></th>\n",
       "      <th>title</th>\n",
       "      <th>author</th>\n",
       "    </tr>\n",
       "  </thead>\n",
       "  <tbody>\n",
       "    <tr>\n",
       "      <th>2</th>\n",
       "      <td>開化の度に因て改文字を発すべきの論</td>\n",
       "      <td>西村茂樹</td>\n",
       "    </tr>\n",
       "    <tr>\n",
       "      <th>6</th>\n",
       "      <td>非学者職分論</td>\n",
       "      <td>西周</td>\n",
       "    </tr>\n",
       "    <tr>\n",
       "      <th>7</th>\n",
       "      <td>開化第一話</td>\n",
       "      <td>森有礼</td>\n",
       "    </tr>\n",
       "    <tr>\n",
       "      <th>8</th>\n",
       "      <td>陳言一則</td>\n",
       "      <td>西村茂樹</td>\n",
       "    </tr>\n",
       "    <tr>\n",
       "      <th>10</th>\n",
       "      <td>峨国彼得王の遺訓</td>\n",
       "      <td>杉亨二</td>\n",
       "    </tr>\n",
       "    <tr>\n",
       "      <th>12</th>\n",
       "      <td>駁旧相公議一題</td>\n",
       "      <td>西周</td>\n",
       "    </tr>\n",
       "  </tbody>\n",
       "</table>\n",
       "</div>"
      ],
      "text/plain": [
       "                title author\n",
       "2   開化の度に因て改文字を発すべきの論   西村茂樹\n",
       "6              非学者職分論     西周\n",
       "7               開化第一話    森有礼\n",
       "8                陳言一則   西村茂樹\n",
       "10           峨国彼得王の遺訓    杉亨二\n",
       "12            駁旧相公議一題     西周"
      ]
     },
     "execution_count": 10,
     "metadata": {},
     "output_type": "execute_result"
    }
   ],
   "source": [
    "from itertools import chain\n",
    "rows = list(chain([2], range(6,9), [10, 12]))\n",
    "Meiroku_df.loc[rows, ('title', 'author')]"
   ]
  },
  {
   "cell_type": "code",
   "execution_count": 11,
   "metadata": {},
   "outputs": [
    {
     "data": {
      "text/plain": [
       "1        西周\n",
       "2      西村茂樹\n",
       "3      加藤弘之\n",
       "4       森有礼\n",
       "5      津田真道\n",
       "6        西周\n",
       "7       森有礼\n",
       "8      西村茂樹\n",
       "9       森有礼\n",
       "10      杉亨二\n",
       "11     津田真道\n",
       "12       西周\n",
       "13     箕作麟祥\n",
       "14     加藤弘之\n",
       "15      杉亨二\n",
       "16       西周\n",
       "17       西周\n",
       "18     津田真道\n",
       "19       西周\n",
       "20      杉亨二\n",
       "21     箕作麟祥\n",
       "22     加藤弘之\n",
       "23     津田真道\n",
       "24       西周\n",
       "25     加藤弘之\n",
       "26      森有礼\n",
       "27     柴田昌吉\n",
       "28      森有礼\n",
       "29     加藤弘之\n",
       "30     箕作麟祥\n",
       "       ... \n",
       "126    中村正直\n",
       "127    西村茂樹\n",
       "128    柏原孝章\n",
       "129    神田孝平\n",
       "130     杉亨二\n",
       "131    神田孝平\n",
       "132    津田真道\n",
       "133    中村正直\n",
       "134     阪谷素\n",
       "135    津田真道\n",
       "136     阪谷素\n",
       "137    西村茂樹\n",
       "138    西村茂樹\n",
       "139    中村正直\n",
       "140    神田孝平\n",
       "141      西周\n",
       "142     阪谷素\n",
       "143      西周\n",
       "144    西村茂樹\n",
       "145    中村正直\n",
       "146      西周\n",
       "147     阪谷素\n",
       "148    津田真道\n",
       "149     津田仙\n",
       "150     阪谷素\n",
       "151    西村茂樹\n",
       "152      西周\n",
       "153    津田真道\n",
       "154    西村茂樹\n",
       "155     阪谷素\n",
       "Name: author, Length: 155, dtype: object"
      ]
     },
     "execution_count": 11,
     "metadata": {},
     "output_type": "execute_result"
    }
   ],
   "source": [
    "Meiroku_df.loc[:, 'author']"
   ]
  },
  {
   "cell_type": "code",
   "execution_count": 12,
   "metadata": {},
   "outputs": [
    {
     "data": {
      "text/plain": [
       "1    1874\n",
       "2    1874\n",
       "3    1874\n",
       "4    1874\n",
       "5    1874\n",
       "6    1874\n",
       "Name: year, dtype: int64"
      ]
     },
     "execution_count": 12,
     "metadata": {},
     "output_type": "execute_result"
    }
   ],
   "source": [
    "Meiroku_df.loc[1:6, 'year']"
   ]
  },
  {
   "cell_type": "markdown",
   "metadata": {},
   "source": [
    "## Assignment and Subsetting"
   ]
  },
  {
   "cell_type": "code",
   "execution_count": 13,
   "metadata": {},
   "outputs": [],
   "source": [
    "# Author Nishi Amane\n",
    "mask = Meiroku_df.author == '西周'\n",
    "Nishi_articles_df = Meiroku_df[mask]"
   ]
  },
  {
   "cell_type": "code",
   "execution_count": 14,
   "metadata": {},
   "outputs": [
    {
     "data": {
      "text/plain": [
       "1       洋字を以て国語を書するの論\n",
       "6              非学者職分論\n",
       "12            駁旧相公議一題\n",
       "16             教門論（一）\n",
       "17             煉火石造の説\n",
       "19             教門論（二）\n",
       "24             教門論（三）\n",
       "38             教門論（四）\n",
       "42             教門論（五）\n",
       "52             教門論（六）\n",
       "58              知説（一）\n",
       "69                愛敵論\n",
       "72              知説（二）\n",
       "77                情実説\n",
       "79                秘密説\n",
       "87              知説（三）\n",
       "92              知説（四）\n",
       "97     内地旅行（十一月十六日演説）\n",
       "102             知説（五）\n",
       "112            網羅議院の説\n",
       "123             国民気風論\n",
       "141          人世三宝説（一）\n",
       "143          人世三宝説（二）\n",
       "146          人世三宝説（三）\n",
       "152          人世三宝説（四）\n",
       "Name: title, dtype: object"
      ]
     },
     "execution_count": 14,
     "metadata": {},
     "output_type": "execute_result"
    }
   ],
   "source": [
    "Nishi_articles_df.title"
   ]
  },
  {
   "cell_type": "code",
   "execution_count": 15,
   "metadata": {},
   "outputs": [
    {
     "data": {
      "text/html": [
       "<div>\n",
       "<style scoped>\n",
       "    .dataframe tbody tr th:only-of-type {\n",
       "        vertical-align: middle;\n",
       "    }\n",
       "\n",
       "    .dataframe tbody tr th {\n",
       "        vertical-align: top;\n",
       "    }\n",
       "\n",
       "    .dataframe thead th {\n",
       "        text-align: right;\n",
       "    }\n",
       "</style>\n",
       "<table border=\"1\" class=\"dataframe\">\n",
       "  <thead>\n",
       "    <tr style=\"text-align: right;\">\n",
       "      <th></th>\n",
       "      <th>year</th>\n",
       "      <th>issue</th>\n",
       "      <th>title</th>\n",
       "      <th>author</th>\n",
       "      <th>text</th>\n",
       "    </tr>\n",
       "  </thead>\n",
       "  <tbody>\n",
       "    <tr>\n",
       "      <th>1</th>\n",
       "      <td>1874</td>\n",
       "      <td>1</td>\n",
       "      <td>洋字を以て国語を書するの論</td>\n",
       "      <td>西周</td>\n",
       "      <td>洋字 を 以 て 國語 を 書する の 論 　 西 周 吾輩 日常 二三 朋友 の 盍簪 に...</td>\n",
       "    </tr>\n",
       "    <tr>\n",
       "      <th>6</th>\n",
       "      <td>1874</td>\n",
       "      <td>2</td>\n",
       "      <td>非学者職分論</td>\n",
       "      <td>西周</td>\n",
       "      <td>非 學者 職分 論 　 西 周 本論 立意 明快 然り と 雖 間然 する なき ヿ 能は ...</td>\n",
       "    </tr>\n",
       "    <tr>\n",
       "      <th>12</th>\n",
       "      <td>1874</td>\n",
       "      <td>3</td>\n",
       "      <td>駁旧相公議一題</td>\n",
       "      <td>西周</td>\n",
       "      <td>駁 舊 相公 議 一 題 　 西 周 余 舊 參議 諸公 左院 に 建白 し 民撰 議院 を...</td>\n",
       "    </tr>\n",
       "    <tr>\n",
       "      <th>16</th>\n",
       "      <td>1874</td>\n",
       "      <td>4</td>\n",
       "      <td>教門論（一）</td>\n",
       "      <td>西周</td>\n",
       "      <td>教門 論 一 　 西 周 教門 は 信 に 因 て 立つ 者 なり 信 は 知 の 及 所 ...</td>\n",
       "    </tr>\n",
       "    <tr>\n",
       "      <th>17</th>\n",
       "      <td>1874</td>\n",
       "      <td>4</td>\n",
       "      <td>煉火石造の説</td>\n",
       "      <td>西周</td>\n",
       "      <td>煉火 石造 の 説 　 西 周 余 曾て 歐洲 に 遊 て 煉火 石造 の 家屋 を 見る ...</td>\n",
       "    </tr>\n",
       "    <tr>\n",
       "      <th>19</th>\n",
       "      <td>1874</td>\n",
       "      <td>5</td>\n",
       "      <td>教門論（二）</td>\n",
       "      <td>西周</td>\n",
       "      <td>教門 論 二 　 西 周 政府 既に 教門 と 相 連絡 する の 脉 を 絶ち 政治 の ...</td>\n",
       "    </tr>\n",
       "    <tr>\n",
       "      <th>24</th>\n",
       "      <td>1874</td>\n",
       "      <td>6</td>\n",
       "      <td>教門論（三）</td>\n",
       "      <td>西周</td>\n",
       "      <td>○ 教門 論 三 　 西 周 或 曰く 政府 教門 と の 脉絡 を 絶つ 前論 の 如く ...</td>\n",
       "    </tr>\n",
       "    <tr>\n",
       "      <th>38</th>\n",
       "      <td>1874</td>\n",
       "      <td>8</td>\n",
       "      <td>教門論（四）</td>\n",
       "      <td>西周</td>\n",
       "      <td>○ 教門 論 五 　 西 周 或 曰く 民信 の 強ゆ ざる は 既に 命 を 聽く 然ら ...</td>\n",
       "    </tr>\n",
       "    <tr>\n",
       "      <th>42</th>\n",
       "      <td>1874</td>\n",
       "      <td>9</td>\n",
       "      <td>教門論（五）</td>\n",
       "      <td>西周</td>\n",
       "      <td>教門 論 六 　 西 周 或 曰く 子 も 亦 教門 に 於 て 撰 所 あり や 曰く 有...</td>\n",
       "    </tr>\n",
       "    <tr>\n",
       "      <th>52</th>\n",
       "      <td>1874</td>\n",
       "      <td>12</td>\n",
       "      <td>教門論（六）</td>\n",
       "      <td>西周</td>\n",
       "      <td>○ 教門 論 七 　 西 周 或 曰く 子 既に 上帝 ある を 信 之 を 推尊 奉戴 す...</td>\n",
       "    </tr>\n",
       "    <tr>\n",
       "      <th>58</th>\n",
       "      <td>1874</td>\n",
       "      <td>14</td>\n",
       "      <td>知説（一）</td>\n",
       "      <td>西周</td>\n",
       "      <td>○ 知説 一 　 西 周 智 は 人心 一部 の 本質 意 と 情 と 伴 たる 者 なり ...</td>\n",
       "    </tr>\n",
       "    <tr>\n",
       "      <th>69</th>\n",
       "      <td>1874</td>\n",
       "      <td>16</td>\n",
       "      <td>愛敵論</td>\n",
       "      <td>西周</td>\n",
       "      <td>○ 愛敵 論 　 西 周 爾 に 敵する 者 は 之 を 愛せよ 此 一 訣 遽か に 見れ...</td>\n",
       "    </tr>\n",
       "    <tr>\n",
       "      <th>72</th>\n",
       "      <td>1874</td>\n",
       "      <td>17</td>\n",
       "      <td>知説（二）</td>\n",
       "      <td>西周</td>\n",
       "      <td>○ 知説 二 　 西 周 前説 既に 智 の 發し て 材 と なる の 度量 を 論 故 ...</td>\n",
       "    </tr>\n",
       "    <tr>\n",
       "      <th>77</th>\n",
       "      <td>1874</td>\n",
       "      <td>18</td>\n",
       "      <td>情実説</td>\n",
       "      <td>西周</td>\n",
       "      <td>情實 説 　 西 周 人 木石 に し て む か 情實 あり 何 能 然る を 得 む や...</td>\n",
       "    </tr>\n",
       "    <tr>\n",
       "      <th>79</th>\n",
       "      <td>1874</td>\n",
       "      <td>19</td>\n",
       "      <td>秘密説</td>\n",
       "      <td>西周</td>\n",
       "      <td>○ 秘密 説 　 西 周 如此き 題號 を 掲 其 主論 の 如何 たる を 論 人々 其 ...</td>\n",
       "    </tr>\n",
       "    <tr>\n",
       "      <th>87</th>\n",
       "      <td>1874</td>\n",
       "      <td>20</td>\n",
       "      <td>知説（三）</td>\n",
       "      <td>西周</td>\n",
       "      <td>○ 知説 三 　 西 周 余 今 方さに 人知 の 結構 組織 する 者 發し て 學術 と...</td>\n",
       "    </tr>\n",
       "    <tr>\n",
       "      <th>92</th>\n",
       "      <td>1874</td>\n",
       "      <td>22</td>\n",
       "      <td>知説（四）</td>\n",
       "      <td>西周</td>\n",
       "      <td>○ 知説 四 　 西 周 前篇 既に 學 を 講究 する の 方法 を 論 たり 而て 又 ...</td>\n",
       "    </tr>\n",
       "    <tr>\n",
       "      <th>97</th>\n",
       "      <td>1874</td>\n",
       "      <td>23</td>\n",
       "      <td>内地旅行（十一月十六日演説）</td>\n",
       "      <td>西周</td>\n",
       "      <td>○ 内地 旅行 十 一 月 十 六 日 演説 　 西 周 内地 旅行 外題 を 茲 へ 投 ...</td>\n",
       "    </tr>\n",
       "    <tr>\n",
       "      <th>102</th>\n",
       "      <td>1874</td>\n",
       "      <td>25</td>\n",
       "      <td>知説（五）</td>\n",
       "      <td>西周</td>\n",
       "      <td>○ 知説 五 　 西 周 凡そ 百學 の 中 に 就 て 普通 の 學 と 稱す は 文 數...</td>\n",
       "    </tr>\n",
       "  </tbody>\n",
       "</table>\n",
       "</div>"
      ],
      "text/plain": [
       "     year  issue           title author  \\\n",
       "1    1874      1   洋字を以て国語を書するの論     西周   \n",
       "6    1874      2          非学者職分論     西周   \n",
       "12   1874      3         駁旧相公議一題     西周   \n",
       "16   1874      4          教門論（一）     西周   \n",
       "17   1874      4          煉火石造の説     西周   \n",
       "19   1874      5          教門論（二）     西周   \n",
       "24   1874      6          教門論（三）     西周   \n",
       "38   1874      8          教門論（四）     西周   \n",
       "42   1874      9          教門論（五）     西周   \n",
       "52   1874     12          教門論（六）     西周   \n",
       "58   1874     14           知説（一）     西周   \n",
       "69   1874     16             愛敵論     西周   \n",
       "72   1874     17           知説（二）     西周   \n",
       "77   1874     18             情実説     西周   \n",
       "79   1874     19             秘密説     西周   \n",
       "87   1874     20           知説（三）     西周   \n",
       "92   1874     22           知説（四）     西周   \n",
       "97   1874     23  内地旅行（十一月十六日演説）     西周   \n",
       "102  1874     25           知説（五）     西周   \n",
       "\n",
       "                                                  text  \n",
       "1    洋字 を 以 て 國語 を 書する の 論 　 西 周 吾輩 日常 二三 朋友 の 盍簪 に...  \n",
       "6    非 學者 職分 論 　 西 周 本論 立意 明快 然り と 雖 間然 する なき ヿ 能は ...  \n",
       "12   駁 舊 相公 議 一 題 　 西 周 余 舊 參議 諸公 左院 に 建白 し 民撰 議院 を...  \n",
       "16   教門 論 一 　 西 周 教門 は 信 に 因 て 立つ 者 なり 信 は 知 の 及 所 ...  \n",
       "17   煉火 石造 の 説 　 西 周 余 曾て 歐洲 に 遊 て 煉火 石造 の 家屋 を 見る ...  \n",
       "19   教門 論 二 　 西 周 政府 既に 教門 と 相 連絡 する の 脉 を 絶ち 政治 の ...  \n",
       "24   ○ 教門 論 三 　 西 周 或 曰く 政府 教門 と の 脉絡 を 絶つ 前論 の 如く ...  \n",
       "38   ○ 教門 論 五 　 西 周 或 曰く 民信 の 強ゆ ざる は 既に 命 を 聽く 然ら ...  \n",
       "42   教門 論 六 　 西 周 或 曰く 子 も 亦 教門 に 於 て 撰 所 あり や 曰く 有...  \n",
       "52   ○ 教門 論 七 　 西 周 或 曰く 子 既に 上帝 ある を 信 之 を 推尊 奉戴 す...  \n",
       "58   ○ 知説 一 　 西 周 智 は 人心 一部 の 本質 意 と 情 と 伴 たる 者 なり ...  \n",
       "69   ○ 愛敵 論 　 西 周 爾 に 敵する 者 は 之 を 愛せよ 此 一 訣 遽か に 見れ...  \n",
       "72   ○ 知説 二 　 西 周 前説 既に 智 の 發し て 材 と なる の 度量 を 論 故 ...  \n",
       "77   情實 説 　 西 周 人 木石 に し て む か 情實 あり 何 能 然る を 得 む や...  \n",
       "79   ○ 秘密 説 　 西 周 如此き 題號 を 掲 其 主論 の 如何 たる を 論 人々 其 ...  \n",
       "87   ○ 知説 三 　 西 周 余 今 方さに 人知 の 結構 組織 する 者 發し て 學術 と...  \n",
       "92   ○ 知説 四 　 西 周 前篇 既に 學 を 講究 する の 方法 を 論 たり 而て 又 ...  \n",
       "97   ○ 内地 旅行 十 一 月 十 六 日 演説 　 西 周 内地 旅行 外題 を 茲 へ 投 ...  \n",
       "102  ○ 知説 五 　 西 周 凡そ 百學 の 中 に 就 て 普通 の 學 と 稱す は 文 數...  "
      ]
     },
     "execution_count": 15,
     "metadata": {},
     "output_type": "execute_result"
    }
   ],
   "source": [
    "Nishi_articles_df[Nishi_articles_df.year == 1874]"
   ]
  },
  {
   "cell_type": "markdown",
   "metadata": {},
   "source": [
    "## Functions and more Subsetting"
   ]
  },
  {
   "cell_type": "markdown",
   "metadata": {},
   "source": [
    "Available methods for the python `string` class ignoring `dunder` (double underscore) functions."
   ]
  },
  {
   "cell_type": "code",
   "execution_count": 16,
   "metadata": {},
   "outputs": [
    {
     "name": "stdout",
     "output_type": "stream",
     "text": [
      "['capitalize', 'casefold', 'center', 'count', 'encode', 'endswith', 'expandtabs', 'find', 'format', 'format_map', 'index', 'isalnum', 'isalpha', 'isascii', 'isdecimal', 'isdigit', 'isidentifier', 'islower', 'isnumeric', 'isprintable', 'isspace', 'istitle', 'isupper', 'join', 'ljust', 'lower', 'lstrip', 'maketrans', 'partition', 'replace', 'rfind', 'rindex', 'rjust', 'rpartition', 'rsplit', 'rstrip', 'split', 'splitlines', 'startswith', 'strip', 'swapcase', 'title', 'translate', 'upper', 'zfill']\n"
     ]
    }
   ],
   "source": [
    "function = str\n",
    "print([s for s in dir(function) if '__' not in s])"
   ]
  },
  {
   "cell_type": "code",
   "execution_count": 18,
   "metadata": {},
   "outputs": [
    {
     "data": {
      "text/html": [
       "<div>\n",
       "<style scoped>\n",
       "    .dataframe tbody tr th:only-of-type {\n",
       "        vertical-align: middle;\n",
       "    }\n",
       "\n",
       "    .dataframe tbody tr th {\n",
       "        vertical-align: top;\n",
       "    }\n",
       "\n",
       "    .dataframe thead th {\n",
       "        text-align: right;\n",
       "    }\n",
       "</style>\n",
       "<table border=\"1\" class=\"dataframe\">\n",
       "  <thead>\n",
       "    <tr style=\"text-align: right;\">\n",
       "      <th></th>\n",
       "      <th>year</th>\n",
       "      <th>issue</th>\n",
       "      <th>title</th>\n",
       "      <th>author</th>\n",
       "      <th>text</th>\n",
       "      <th>女_count</th>\n",
       "      <th>女</th>\n",
       "    </tr>\n",
       "  </thead>\n",
       "  <tbody>\n",
       "    <tr>\n",
       "      <th>1</th>\n",
       "      <td>1874</td>\n",
       "      <td>1</td>\n",
       "      <td>洋字を以て国語を書するの論</td>\n",
       "      <td>西周</td>\n",
       "      <td>洋字 を 以 て 國語 を 書する の 論 　 西 周 吾輩 日常 二三 朋友 の 盍簪 に...</td>\n",
       "      <td>1</td>\n",
       "      <td>1</td>\n",
       "    </tr>\n",
       "    <tr>\n",
       "      <th>18</th>\n",
       "      <td>1874</td>\n",
       "      <td>5</td>\n",
       "      <td>保護税を非とする説</td>\n",
       "      <td>津田真道</td>\n",
       "      <td>保護 税 を 非 と する 説 　 津田 眞道 近今 我 國 各港 出入 品 額 の 比較 ...</td>\n",
       "      <td>1</td>\n",
       "      <td>1</td>\n",
       "    </tr>\n",
       "    <tr>\n",
       "      <th>20</th>\n",
       "      <td>1874</td>\n",
       "      <td>5</td>\n",
       "      <td>北亜米利加合衆国の自立</td>\n",
       "      <td>杉亨二</td>\n",
       "      <td>北 亞米利加 合衆 國 の 自立 　 杉 亨二 英人 北 亞米利加 に 移り 植民 地 を ...</td>\n",
       "      <td>1</td>\n",
       "      <td>1</td>\n",
       "    </tr>\n",
       "    <tr>\n",
       "      <th>33</th>\n",
       "      <td>1874</td>\n",
       "      <td>7</td>\n",
       "      <td>平仮名の説</td>\n",
       "      <td>清水卯三郎</td>\n",
       "      <td>○ 平假名 の 説 　 清水 卯三郎 維新 の 際 論者 文字 を 通用 に 便せ ん と ...</td>\n",
       "      <td>1</td>\n",
       "      <td>1</td>\n",
       "    </tr>\n",
       "    <tr>\n",
       "      <th>35</th>\n",
       "      <td>1874</td>\n",
       "      <td>8</td>\n",
       "      <td>妻妾論（一）</td>\n",
       "      <td>森有礼</td>\n",
       "      <td>○ 妻妾 論 の 一 　 森 有禮 夫婦 の 交 は 人倫 の 大本 なり 其 本 立 て ...</td>\n",
       "      <td>2</td>\n",
       "      <td>2</td>\n",
       "    </tr>\n",
       "  </tbody>\n",
       "</table>\n",
       "</div>"
      ],
      "text/plain": [
       "    year  issue          title author  \\\n",
       "1   1874      1  洋字を以て国語を書するの論     西周   \n",
       "18  1874      5      保護税を非とする説   津田真道   \n",
       "20  1874      5    北亜米利加合衆国の自立    杉亨二   \n",
       "33  1874      7          平仮名の説  清水卯三郎   \n",
       "35  1874      8         妻妾論（一）    森有礼   \n",
       "\n",
       "                                                 text  女_count  女  \n",
       "1   洋字 を 以 て 國語 を 書する の 論 　 西 周 吾輩 日常 二三 朋友 の 盍簪 に...        1  1  \n",
       "18  保護 税 を 非 と する 説 　 津田 眞道 近今 我 國 各港 出入 品 額 の 比較 ...        1  1  \n",
       "20  北 亞米利加 合衆 國 の 自立 　 杉 亨二 英人 北 亞米利加 に 移り 植民 地 を ...        1  1  \n",
       "33  ○ 平假名 の 説 　 清水 卯三郎 維新 の 際 論者 文字 を 通用 に 便せ ん と ...        1  1  \n",
       "35  ○ 妻妾 論 の 一 　 森 有禮 夫婦 の 交 は 人倫 の 大本 なり 其 本 立 て ...        2  2  "
      ]
     },
     "execution_count": 18,
     "metadata": {},
     "output_type": "execute_result"
    }
   ],
   "source": [
    "mask = Meiroku_df.text.str.count('女') != 0\n",
    "Meiroku_df['女'] = Meiroku_df.text.str.count('女')\n",
    "Meiroku_df[mask].head()"
   ]
  },
  {
   "cell_type": "code",
   "execution_count": 21,
   "metadata": {},
   "outputs": [],
   "source": [
    "# Drop our new column.\n",
    "# Meiroku_df = Meiroku_df.drop(['女_count'], axis=1)"
   ]
  },
  {
   "cell_type": "code",
   "execution_count": 22,
   "metadata": {},
   "outputs": [],
   "source": [
    "mask = Meiroku_df.text.str.count('女') != 0\n",
    "Meiroku_df['女'] = Meiroku_df.text.str.count(' 女 ')"
   ]
  },
  {
   "cell_type": "code",
   "execution_count": 23,
   "metadata": {},
   "outputs": [
    {
     "data": {
      "text/html": [
       "<div>\n",
       "<style scoped>\n",
       "    .dataframe tbody tr th:only-of-type {\n",
       "        vertical-align: middle;\n",
       "    }\n",
       "\n",
       "    .dataframe tbody tr th {\n",
       "        vertical-align: top;\n",
       "    }\n",
       "\n",
       "    .dataframe thead th {\n",
       "        text-align: right;\n",
       "    }\n",
       "</style>\n",
       "<table border=\"1\" class=\"dataframe\">\n",
       "  <thead>\n",
       "    <tr style=\"text-align: right;\">\n",
       "      <th></th>\n",
       "      <th>year</th>\n",
       "      <th>issue</th>\n",
       "      <th>title</th>\n",
       "      <th>author</th>\n",
       "      <th>text</th>\n",
       "      <th>女</th>\n",
       "    </tr>\n",
       "  </thead>\n",
       "  <tbody>\n",
       "    <tr>\n",
       "      <th>1</th>\n",
       "      <td>1874</td>\n",
       "      <td>1</td>\n",
       "      <td>洋字を以て国語を書するの論</td>\n",
       "      <td>西周</td>\n",
       "      <td>洋字 を 以 て 國語 を 書する の 論 　 西 周 吾輩 日常 二三 朋友 の 盍簪 に...</td>\n",
       "      <td>0</td>\n",
       "    </tr>\n",
       "    <tr>\n",
       "      <th>18</th>\n",
       "      <td>1874</td>\n",
       "      <td>5</td>\n",
       "      <td>保護税を非とする説</td>\n",
       "      <td>津田真道</td>\n",
       "      <td>保護 税 を 非 と する 説 　 津田 眞道 近今 我 國 各港 出入 品 額 の 比較 ...</td>\n",
       "      <td>0</td>\n",
       "    </tr>\n",
       "    <tr>\n",
       "      <th>20</th>\n",
       "      <td>1874</td>\n",
       "      <td>5</td>\n",
       "      <td>北亜米利加合衆国の自立</td>\n",
       "      <td>杉亨二</td>\n",
       "      <td>北 亞米利加 合衆 國 の 自立 　 杉 亨二 英人 北 亞米利加 に 移り 植民 地 を ...</td>\n",
       "      <td>0</td>\n",
       "    </tr>\n",
       "    <tr>\n",
       "      <th>33</th>\n",
       "      <td>1874</td>\n",
       "      <td>7</td>\n",
       "      <td>平仮名の説</td>\n",
       "      <td>清水卯三郎</td>\n",
       "      <td>○ 平假名 の 説 　 清水 卯三郎 維新 の 際 論者 文字 を 通用 に 便せ ん と ...</td>\n",
       "      <td>0</td>\n",
       "    </tr>\n",
       "    <tr>\n",
       "      <th>35</th>\n",
       "      <td>1874</td>\n",
       "      <td>8</td>\n",
       "      <td>妻妾論（一）</td>\n",
       "      <td>森有礼</td>\n",
       "      <td>○ 妻妾 論 の 一 　 森 有禮 夫婦 の 交 は 人倫 の 大本 なり 其 本 立 て ...</td>\n",
       "      <td>0</td>\n",
       "    </tr>\n",
       "    <tr>\n",
       "      <th>36</th>\n",
       "      <td>1874</td>\n",
       "      <td>8</td>\n",
       "      <td>教育談</td>\n",
       "      <td>箕作秋坪</td>\n",
       "      <td>教育 談 　 箕作 秋坪 人 の 幼穉 なる 意 を 加へ て 之 を 保護 せ 必 病み ...</td>\n",
       "      <td>1</td>\n",
       "    </tr>\n",
       "    <tr>\n",
       "      <th>40</th>\n",
       "      <td>1874</td>\n",
       "      <td>9</td>\n",
       "      <td>運送論</td>\n",
       "      <td>津田真道</td>\n",
       "      <td>○ 運送 論 　 津田 眞道 余 弱冠 の 比 始て 洋文 を 學び 魯國 大帝 の 傳 を...</td>\n",
       "      <td>0</td>\n",
       "    </tr>\n",
       "    <tr>\n",
       "      <th>48</th>\n",
       "      <td>1874</td>\n",
       "      <td>11</td>\n",
       "      <td>政論（二）</td>\n",
       "      <td>津田真道</td>\n",
       "      <td>政論 の 二 　 津田 眞道 六合 溟漠 窮極 する 所 を 知ら 吾 地球 の 如き 特 ...</td>\n",
       "      <td>0</td>\n",
       "    </tr>\n",
       "    <tr>\n",
       "      <th>49</th>\n",
       "      <td>1874</td>\n",
       "      <td>11</td>\n",
       "      <td>妻妾論（二）</td>\n",
       "      <td>森有礼</td>\n",
       "      <td>○ 妻妾 論 の 二 　 森 有禮  を 正 する は 歐米 諸州 の 通習 に し て 倫...</td>\n",
       "      <td>0</td>\n",
       "    </tr>\n",
       "    <tr>\n",
       "      <th>53</th>\n",
       "      <td>1874</td>\n",
       "      <td>12</td>\n",
       "      <td>政論（三）</td>\n",
       "      <td>津田真道</td>\n",
       "      <td>○ 政論 の 三 　 津田 眞道 前 參議 副島 氏 等 民撰 議院 の 建言 あり て よ...</td>\n",
       "      <td>0</td>\n",
       "    </tr>\n",
       "    <tr>\n",
       "      <th>55</th>\n",
       "      <td>1874</td>\n",
       "      <td>13</td>\n",
       "      <td>米国政教（三）</td>\n",
       "      <td>加藤弘之</td>\n",
       "      <td>○ 米國 政教 第 六 號 の 　 加藤 弘之 譯 　 第 四 章 神道 猶 教法 と 云ふ...</td>\n",
       "      <td>0</td>\n",
       "    </tr>\n",
       "    <tr>\n",
       "      <th>57</th>\n",
       "      <td>1874</td>\n",
       "      <td>13</td>\n",
       "      <td>民選議院を立るには先政体を定むべきの疑問</td>\n",
       "      <td>阪谷素</td>\n",
       "      <td>○ 民選 議院 を 立る に は 先 政體 を 定む べき の 疑問 　 阪谷 素 民選 議...</td>\n",
       "      <td>0</td>\n",
       "    </tr>\n",
       "    <tr>\n",
       "      <th>62</th>\n",
       "      <td>1874</td>\n",
       "      <td>15</td>\n",
       "      <td>妻妾論（三）</td>\n",
       "      <td>森有礼</td>\n",
       "      <td>○ 妻妾 論 の 三 　 森 有禮 道 の 未 明 なら や 強 は 弱 を 壓し 智 は ...</td>\n",
       "      <td>1</td>\n",
       "    </tr>\n",
       "    <tr>\n",
       "      <th>67</th>\n",
       "      <td>1874</td>\n",
       "      <td>16</td>\n",
       "      <td>人間公共の説（一）</td>\n",
       "      <td>杉亨二</td>\n",
       "      <td>人間 公共 の 説 　 杉 亨二 西人 の 説 に 云 太古 の 一 男 一 女 あり と ...</td>\n",
       "      <td>1</td>\n",
       "    </tr>\n",
       "    <tr>\n",
       "      <th>68</th>\n",
       "      <td>1874</td>\n",
       "      <td>16</td>\n",
       "      <td>西学一斑（五）</td>\n",
       "      <td>中村正直</td>\n",
       "      <td>西學 一斑 前號 の 　 ○ 　 中村 正 第 十 六 回 百 年 千 五百 一 年 至 千...</td>\n",
       "      <td>0</td>\n",
       "    </tr>\n",
       "    <tr>\n",
       "      <th>75</th>\n",
       "      <td>1874</td>\n",
       "      <td>18</td>\n",
       "      <td>人間公共の説（二）</td>\n",
       "      <td>杉亨二</td>\n",
       "      <td>○ 人間 公共 の 説 二 　 杉 亨二 凡そ 法 を 立て 制 を 設け 律 を 定め 式...</td>\n",
       "      <td>1</td>\n",
       "    </tr>\n",
       "    <tr>\n",
       "      <th>81</th>\n",
       "      <td>1874</td>\n",
       "      <td>19</td>\n",
       "      <td>尊異説</td>\n",
       "      <td>阪谷素</td>\n",
       "      <td>○ 尊 異説 　 阪谷 素 凡 物 の 親和 する 固有 の 合同 性 あれ ば なり 其 ...</td>\n",
       "      <td>0</td>\n",
       "    </tr>\n",
       "    <tr>\n",
       "      <th>83</th>\n",
       "      <td>1874</td>\n",
       "      <td>20</td>\n",
       "      <td>新聞紙論</td>\n",
       "      <td>津田真道</td>\n",
       "      <td>○ 新聞 紙 論 　 津田 眞道 余 甞て 出板 自由 の 論 を 著し て 人々 其 言は...</td>\n",
       "      <td>0</td>\n",
       "    </tr>\n",
       "    <tr>\n",
       "      <th>84</th>\n",
       "      <td>1874</td>\n",
       "      <td>20</td>\n",
       "      <td>妻妾論（四）</td>\n",
       "      <td>森有礼</td>\n",
       "      <td>○ 妻妾 論 の 四 　 森 有禮 女子 人 の 妻 と 爲り 家 を 治る や 其 責 既...</td>\n",
       "      <td>1</td>\n",
       "    </tr>\n",
       "    <tr>\n",
       "      <th>85</th>\n",
       "      <td>1874</td>\n",
       "      <td>20</td>\n",
       "      <td>狐説の疑</td>\n",
       "      <td>阪谷素</td>\n",
       "      <td>○ 狐説 の 疑 　 阪谷 素 狐 の 黠獸 たる 東西 一 なり 然 日本 支那 に 於 ...</td>\n",
       "      <td>0</td>\n",
       "    </tr>\n",
       "    <tr>\n",
       "      <th>86</th>\n",
       "      <td>1874</td>\n",
       "      <td>20</td>\n",
       "      <td>狐説の広義</td>\n",
       "      <td>阪谷素</td>\n",
       "      <td>○ 狐説 の 廣義 　 阪谷 素 狐 の 魅せ ざる 前説 既に 論ず 假使ひ 能 魅する ...</td>\n",
       "      <td>0</td>\n",
       "    </tr>\n",
       "    <tr>\n",
       "      <th>87</th>\n",
       "      <td>1874</td>\n",
       "      <td>20</td>\n",
       "      <td>知説（三）</td>\n",
       "      <td>西周</td>\n",
       "      <td>○ 知説 三 　 西 周 余 今 方さに 人知 の 結構 組織 する 者 發し て 學術 と...</td>\n",
       "      <td>0</td>\n",
       "    </tr>\n",
       "    <tr>\n",
       "      <th>91</th>\n",
       "      <td>1874</td>\n",
       "      <td>21</td>\n",
       "      <td>女飾の疑</td>\n",
       "      <td>阪谷素</td>\n",
       "      <td>○ 女飾 の 疑 　 阪谷 素 彼此 風習 の 異 なる 甲是 乙非 大抵 其 説 を 異 ...</td>\n",
       "      <td>18</td>\n",
       "    </tr>\n",
       "    <tr>\n",
       "      <th>93</th>\n",
       "      <td>1874</td>\n",
       "      <td>22</td>\n",
       "      <td>夫婦有別論</td>\n",
       "      <td>津田真道</td>\n",
       "      <td>○ 夫婦 有別 論 　 津田 眞道 夫婦 有別 是 舜 契 に 命 て 敷教へ しむる 所 ...</td>\n",
       "      <td>1</td>\n",
       "    </tr>\n",
       "    <tr>\n",
       "      <th>102</th>\n",
       "      <td>1874</td>\n",
       "      <td>25</td>\n",
       "      <td>知説（五）</td>\n",
       "      <td>西周</td>\n",
       "      <td>○ 知説 五 　 西 周 凡そ 百學 の 中 に 就 て 普通 の 學 と 稱す は 文 數...</td>\n",
       "      <td>0</td>\n",
       "    </tr>\n",
       "    <tr>\n",
       "      <th>105</th>\n",
       "      <td>1875</td>\n",
       "      <td>26</td>\n",
       "      <td>内地旅行西先生の説を駁す</td>\n",
       "      <td>福沢諭吉</td>\n",
       "      <td>○ 内地 旅行 西 先生 の 説 を 駁す 　 福澤 諭吉 外國 人 の 内地 旅行 に 付...</td>\n",
       "      <td>1</td>\n",
       "    </tr>\n",
       "    <tr>\n",
       "      <th>108</th>\n",
       "      <td>1875</td>\n",
       "      <td>27</td>\n",
       "      <td>妻妾論（五）</td>\n",
       "      <td>森有礼</td>\n",
       "      <td>○ 妻妾 論 五 　 森 有禮 從來 我 邦 にて 妻 と 云ひ 妾 と 云ひ 稱呼 を 異...</td>\n",
       "      <td>2</td>\n",
       "    </tr>\n",
       "    <tr>\n",
       "      <th>110</th>\n",
       "      <td>1875</td>\n",
       "      <td>28</td>\n",
       "      <td>民選議院変則論（二）</td>\n",
       "      <td>阪谷素</td>\n",
       "      <td>○ 民選 議院 變則 論 前號 の 　 阪谷 素 さて 民選 議院 を 早々 起す と 申し...</td>\n",
       "      <td>1</td>\n",
       "    </tr>\n",
       "    <tr>\n",
       "      <th>119</th>\n",
       "      <td>1875</td>\n",
       "      <td>31</td>\n",
       "      <td>夫婦同権の流弊論</td>\n",
       "      <td>加藤弘之</td>\n",
       "      <td>○ 夫婦 同權 の 流 論 　 加藤 弘之 森 福澤 兩 先生 の 夫婦 同權 論 出 し ...</td>\n",
       "      <td>1</td>\n",
       "    </tr>\n",
       "    <tr>\n",
       "      <th>121</th>\n",
       "      <td>1875</td>\n",
       "      <td>31</td>\n",
       "      <td>教門論疑問（三）</td>\n",
       "      <td>柏原孝章</td>\n",
       "      <td>○ 教門 論 疑問 第 三 　 柏原 孝章 上世 の 歴史 を 見る に 大抵 荒唐 疑ふ ...</td>\n",
       "      <td>0</td>\n",
       "    </tr>\n",
       "    <tr>\n",
       "      <th>122</th>\n",
       "      <td>1875</td>\n",
       "      <td>31</td>\n",
       "      <td>男女同数論</td>\n",
       "      <td>福沢諭吉</td>\n",
       "      <td>○ 男女 同數 論 　 福澤 諭吉 近日 男女 同權 の 議論 甚 喧 し て 孰れ か 是...</td>\n",
       "      <td>4</td>\n",
       "    </tr>\n",
       "    <tr>\n",
       "      <th>124</th>\n",
       "      <td>1875</td>\n",
       "      <td>32</td>\n",
       "      <td>妾説の疑（三月一日）</td>\n",
       "      <td>阪谷素</td>\n",
       "      <td>○ 妾説 の 疑 三 月 一日 　 阪谷 素 小子 二 月 一日 の 演説 は 承乏 副急 ...</td>\n",
       "      <td>11</td>\n",
       "    </tr>\n",
       "    <tr>\n",
       "      <th>126</th>\n",
       "      <td>1875</td>\n",
       "      <td>33</td>\n",
       "      <td>善良なる母を造る説（明治八年三月十六日演説）</td>\n",
       "      <td>中村正直</td>\n",
       "      <td>○ なる 母 を 造る 説 明治 八 年 三 月 十 六 日 演説 　 中村 正 余 前 に...</td>\n",
       "      <td>0</td>\n",
       "    </tr>\n",
       "    <tr>\n",
       "      <th>130</th>\n",
       "      <td>1875</td>\n",
       "      <td>34</td>\n",
       "      <td>想像鎖国説（明治八年三月十六日演説）</td>\n",
       "      <td>杉亨二</td>\n",
       "      <td>○ 想像 鎖國 説 明治 八 年 三 月 十 六 日 演説 　 杉 亨二 世間 に は 常 ...</td>\n",
       "      <td>0</td>\n",
       "    </tr>\n",
       "    <tr>\n",
       "      <th>132</th>\n",
       "      <td>1875</td>\n",
       "      <td>34</td>\n",
       "      <td>情欲論</td>\n",
       "      <td>津田真道</td>\n",
       "      <td>○ 情欲 論 　 津田 眞道 情欲 は 吾人 天賦 の 尤 重切 なる 者 に し て 吾人...</td>\n",
       "      <td>0</td>\n",
       "    </tr>\n",
       "    <tr>\n",
       "      <th>134</th>\n",
       "      <td>1875</td>\n",
       "      <td>35</td>\n",
       "      <td>天降説（一）（明治八年四月一日演説）</td>\n",
       "      <td>阪谷素</td>\n",
       "      <td>○ 天降 説 明治 八 年 四 月 一日 演説 　 阪谷 素 地球 上下 なし 所謂 彼の ...</td>\n",
       "      <td>2</td>\n",
       "    </tr>\n",
       "    <tr>\n",
       "      <th>135</th>\n",
       "      <td>1875</td>\n",
       "      <td>35</td>\n",
       "      <td>夫婦同権弁</td>\n",
       "      <td>津田真道</td>\n",
       "      <td>○ 夫婦 同權 辨 　 津田 眞道 夫婦 同權 と 云ふ ヿ 今 流行 の 言 と 見え て...</td>\n",
       "      <td>1</td>\n",
       "    </tr>\n",
       "    <tr>\n",
       "      <th>136</th>\n",
       "      <td>1875</td>\n",
       "      <td>36</td>\n",
       "      <td>天降説（二）</td>\n",
       "      <td>阪谷素</td>\n",
       "      <td>○ 天降 説 の 　 阪谷 素 上觀 下觀 の 義 各國 上 に 就 て 之 を 觀る 國 ...</td>\n",
       "      <td>0</td>\n",
       "    </tr>\n",
       "    <tr>\n",
       "      <th>147</th>\n",
       "      <td>1875</td>\n",
       "      <td>40</td>\n",
       "      <td>養精神一説（一）</td>\n",
       "      <td>阪谷素</td>\n",
       "      <td>○ 養 精神 一説 　 阪谷 素 學問 涵養 を 以 て 知識 を 長じ 財政 公共 の 政...</td>\n",
       "      <td>1</td>\n",
       "    </tr>\n",
       "    <tr>\n",
       "      <th>150</th>\n",
       "      <td>1875</td>\n",
       "      <td>41</td>\n",
       "      <td>養精神一説（二）</td>\n",
       "      <td>阪谷素</td>\n",
       "      <td>○ 養 精神 一説 二 　 阪谷 素 船 あり 颶風 に 遇ふ 之 に の 客 歌舞 する ...</td>\n",
       "      <td>0</td>\n",
       "    </tr>\n",
       "    <tr>\n",
       "      <th>155</th>\n",
       "      <td>1875</td>\n",
       "      <td>43</td>\n",
       "      <td>尊王攘夷説</td>\n",
       "      <td>阪谷素</td>\n",
       "      <td>○ 尊王 攘夷 説 　 阪谷 素 今 に 尊王 攘夷 など と 謂ふ 説 を 持出し な ば...</td>\n",
       "      <td>1</td>\n",
       "    </tr>\n",
       "  </tbody>\n",
       "</table>\n",
       "</div>"
      ],
      "text/plain": [
       "     year  issue                   title author  \\\n",
       "1    1874      1           洋字を以て国語を書するの論     西周   \n",
       "18   1874      5               保護税を非とする説   津田真道   \n",
       "20   1874      5             北亜米利加合衆国の自立    杉亨二   \n",
       "33   1874      7                   平仮名の説  清水卯三郎   \n",
       "35   1874      8                  妻妾論（一）    森有礼   \n",
       "36   1874      8                     教育談   箕作秋坪   \n",
       "40   1874      9                     運送論   津田真道   \n",
       "48   1874     11                   政論（二）   津田真道   \n",
       "49   1874     11                  妻妾論（二）    森有礼   \n",
       "53   1874     12                   政論（三）   津田真道   \n",
       "55   1874     13                 米国政教（三）   加藤弘之   \n",
       "57   1874     13    民選議院を立るには先政体を定むべきの疑問    阪谷素   \n",
       "62   1874     15                  妻妾論（三）    森有礼   \n",
       "67   1874     16               人間公共の説（一）    杉亨二   \n",
       "68   1874     16                 西学一斑（五）   中村正直   \n",
       "75   1874     18               人間公共の説（二）    杉亨二   \n",
       "81   1874     19                     尊異説    阪谷素   \n",
       "83   1874     20                    新聞紙論   津田真道   \n",
       "84   1874     20                  妻妾論（四）    森有礼   \n",
       "85   1874     20                    狐説の疑    阪谷素   \n",
       "86   1874     20                   狐説の広義    阪谷素   \n",
       "87   1874     20                   知説（三）     西周   \n",
       "91   1874     21                    女飾の疑    阪谷素   \n",
       "93   1874     22                   夫婦有別論   津田真道   \n",
       "102  1874     25                   知説（五）     西周   \n",
       "105  1875     26            内地旅行西先生の説を駁す   福沢諭吉   \n",
       "108  1875     27                  妻妾論（五）    森有礼   \n",
       "110  1875     28              民選議院変則論（二）    阪谷素   \n",
       "119  1875     31                夫婦同権の流弊論   加藤弘之   \n",
       "121  1875     31                教門論疑問（三）   柏原孝章   \n",
       "122  1875     31                   男女同数論   福沢諭吉   \n",
       "124  1875     32              妾説の疑（三月一日）    阪谷素   \n",
       "126  1875     33  善良なる母を造る説（明治八年三月十六日演説）   中村正直   \n",
       "130  1875     34      想像鎖国説（明治八年三月十六日演説）    杉亨二   \n",
       "132  1875     34                     情欲論   津田真道   \n",
       "134  1875     35      天降説（一）（明治八年四月一日演説）    阪谷素   \n",
       "135  1875     35                   夫婦同権弁   津田真道   \n",
       "136  1875     36                  天降説（二）    阪谷素   \n",
       "147  1875     40                養精神一説（一）    阪谷素   \n",
       "150  1875     41                養精神一説（二）    阪谷素   \n",
       "155  1875     43                   尊王攘夷説    阪谷素   \n",
       "\n",
       "                                                  text   女  \n",
       "1    洋字 を 以 て 國語 を 書する の 論 　 西 周 吾輩 日常 二三 朋友 の 盍簪 に...   0  \n",
       "18   保護 税 を 非 と する 説 　 津田 眞道 近今 我 國 各港 出入 品 額 の 比較 ...   0  \n",
       "20   北 亞米利加 合衆 國 の 自立 　 杉 亨二 英人 北 亞米利加 に 移り 植民 地 を ...   0  \n",
       "33   ○ 平假名 の 説 　 清水 卯三郎 維新 の 際 論者 文字 を 通用 に 便せ ん と ...   0  \n",
       "35   ○ 妻妾 論 の 一 　 森 有禮 夫婦 の 交 は 人倫 の 大本 なり 其 本 立 て ...   0  \n",
       "36   教育 談 　 箕作 秋坪 人 の 幼穉 なる 意 を 加へ て 之 を 保護 せ 必 病み ...   1  \n",
       "40   ○ 運送 論 　 津田 眞道 余 弱冠 の 比 始て 洋文 を 學び 魯國 大帝 の 傳 を...   0  \n",
       "48   政論 の 二 　 津田 眞道 六合 溟漠 窮極 する 所 を 知ら 吾 地球 の 如き 特 ...   0  \n",
       "49   ○ 妻妾 論 の 二 　 森 有禮  を 正 する は 歐米 諸州 の 通習 に し て 倫...   0  \n",
       "53   ○ 政論 の 三 　 津田 眞道 前 參議 副島 氏 等 民撰 議院 の 建言 あり て よ...   0  \n",
       "55   ○ 米國 政教 第 六 號 の 　 加藤 弘之 譯 　 第 四 章 神道 猶 教法 と 云ふ...   0  \n",
       "57   ○ 民選 議院 を 立る に は 先 政體 を 定む べき の 疑問 　 阪谷 素 民選 議...   0  \n",
       "62   ○ 妻妾 論 の 三 　 森 有禮 道 の 未 明 なら や 強 は 弱 を 壓し 智 は ...   1  \n",
       "67   人間 公共 の 説 　 杉 亨二 西人 の 説 に 云 太古 の 一 男 一 女 あり と ...   1  \n",
       "68   西學 一斑 前號 の 　 ○ 　 中村 正 第 十 六 回 百 年 千 五百 一 年 至 千...   0  \n",
       "75   ○ 人間 公共 の 説 二 　 杉 亨二 凡そ 法 を 立て 制 を 設け 律 を 定め 式...   1  \n",
       "81   ○ 尊 異説 　 阪谷 素 凡 物 の 親和 する 固有 の 合同 性 あれ ば なり 其 ...   0  \n",
       "83   ○ 新聞 紙 論 　 津田 眞道 余 甞て 出板 自由 の 論 を 著し て 人々 其 言は...   0  \n",
       "84   ○ 妻妾 論 の 四 　 森 有禮 女子 人 の 妻 と 爲り 家 を 治る や 其 責 既...   1  \n",
       "85   ○ 狐説 の 疑 　 阪谷 素 狐 の 黠獸 たる 東西 一 なり 然 日本 支那 に 於 ...   0  \n",
       "86   ○ 狐説 の 廣義 　 阪谷 素 狐 の 魅せ ざる 前説 既に 論ず 假使ひ 能 魅する ...   0  \n",
       "87   ○ 知説 三 　 西 周 余 今 方さに 人知 の 結構 組織 する 者 發し て 學術 と...   0  \n",
       "91   ○ 女飾 の 疑 　 阪谷 素 彼此 風習 の 異 なる 甲是 乙非 大抵 其 説 を 異 ...  18  \n",
       "93   ○ 夫婦 有別 論 　 津田 眞道 夫婦 有別 是 舜 契 に 命 て 敷教へ しむる 所 ...   1  \n",
       "102  ○ 知説 五 　 西 周 凡そ 百學 の 中 に 就 て 普通 の 學 と 稱す は 文 數...   0  \n",
       "105  ○ 内地 旅行 西 先生 の 説 を 駁す 　 福澤 諭吉 外國 人 の 内地 旅行 に 付...   1  \n",
       "108  ○ 妻妾 論 五 　 森 有禮 從來 我 邦 にて 妻 と 云ひ 妾 と 云ひ 稱呼 を 異...   2  \n",
       "110  ○ 民選 議院 變則 論 前號 の 　 阪谷 素 さて 民選 議院 を 早々 起す と 申し...   1  \n",
       "119  ○ 夫婦 同權 の 流 論 　 加藤 弘之 森 福澤 兩 先生 の 夫婦 同權 論 出 し ...   1  \n",
       "121  ○ 教門 論 疑問 第 三 　 柏原 孝章 上世 の 歴史 を 見る に 大抵 荒唐 疑ふ ...   0  \n",
       "122  ○ 男女 同數 論 　 福澤 諭吉 近日 男女 同權 の 議論 甚 喧 し て 孰れ か 是...   4  \n",
       "124  ○ 妾説 の 疑 三 月 一日 　 阪谷 素 小子 二 月 一日 の 演説 は 承乏 副急 ...  11  \n",
       "126  ○ なる 母 を 造る 説 明治 八 年 三 月 十 六 日 演説 　 中村 正 余 前 に...   0  \n",
       "130  ○ 想像 鎖國 説 明治 八 年 三 月 十 六 日 演説 　 杉 亨二 世間 に は 常 ...   0  \n",
       "132  ○ 情欲 論 　 津田 眞道 情欲 は 吾人 天賦 の 尤 重切 なる 者 に し て 吾人...   0  \n",
       "134  ○ 天降 説 明治 八 年 四 月 一日 演説 　 阪谷 素 地球 上下 なし 所謂 彼の ...   2  \n",
       "135  ○ 夫婦 同權 辨 　 津田 眞道 夫婦 同權 と 云ふ ヿ 今 流行 の 言 と 見え て...   1  \n",
       "136  ○ 天降 説 の 　 阪谷 素 上觀 下觀 の 義 各國 上 に 就 て 之 を 觀る 國 ...   0  \n",
       "147  ○ 養 精神 一説 　 阪谷 素 學問 涵養 を 以 て 知識 を 長じ 財政 公共 の 政...   1  \n",
       "150  ○ 養 精神 一説 二 　 阪谷 素 船 あり 颶風 に 遇ふ 之 に の 客 歌舞 する ...   0  \n",
       "155  ○ 尊王 攘夷 説 　 阪谷 素 今 に 尊王 攘夷 など と 謂ふ 説 を 持出し な ば...   1  "
      ]
     },
     "execution_count": 23,
     "metadata": {},
     "output_type": "execute_result"
    }
   ],
   "source": [
    "Meiroku_df[mask]"
   ]
  },
  {
   "cell_type": "markdown",
   "metadata": {},
   "source": [
    "We can now use the same tricks as before to subset a data frame. Let’s select every essay in the Meiroku zasshi that used the characters 女 more than 自由."
   ]
  },
  {
   "cell_type": "code",
   "execution_count": 24,
   "metadata": {},
   "outputs": [],
   "source": [
    "mask = Meiroku_df.text.str.count('自由') != 0\n",
    "Meiroku_df['自由'] = Meiroku_df.text.str.count('自由')"
   ]
  },
  {
   "cell_type": "code",
   "execution_count": 25,
   "metadata": {},
   "outputs": [
    {
     "name": "stdout",
     "output_type": "stream",
     "text": [
      "There are 17 articles containing the string \" 女 \" and 56 articles containing \"自由\".\n"
     ]
    }
   ],
   "source": [
    "print('There are {} articles containing the string \" 女 \" and {} articles containing \"自由\".'.format(\n",
    "    len(Meiroku_df[Meiroku_df['女'] > 0]), len(Meiroku_df[Meiroku_df['自由'] >  0])))"
   ]
  },
  {
   "cell_type": "markdown",
   "metadata": {},
   "source": [
    "We can, of course, add additional criteria, such as choosing only works by Mori Arinori that use 女 more than 自由. We can either subset in several steps . . ."
   ]
  },
  {
   "cell_type": "code",
   "execution_count": 26,
   "metadata": {},
   "outputs": [
    {
     "data": {
      "text/plain": [
       "35     妻妾論（一）\n",
       "49     妻妾論（二）\n",
       "62     妻妾論（三）\n",
       "84     妻妾論（四）\n",
       "108    妻妾論（五）\n",
       "Name: title, dtype: object"
      ]
     },
     "execution_count": 26,
     "metadata": {},
     "output_type": "execute_result"
    }
   ],
   "source": [
    "mask = (Meiroku_df.text.str.count('女') > Meiroku_df.text.str.count('自由'))\n",
    "mask = mask & (Meiroku_df.author == '森有礼')\n",
    "Meiroku_df[mask].title"
   ]
  },
  {
   "cell_type": "markdown",
   "metadata": {},
   "source": [
    "You can also combine conditions with the “or” operator | , the uppercase version of the “backslash.” If you want the titles of essays written by either Mori Arinori or Katō Hiroyuki."
   ]
  },
  {
   "cell_type": "code",
   "execution_count": 27,
   "metadata": {},
   "outputs": [
    {
     "data": {
      "text/plain": [
       "3                      福沢先生の論に荅ふ\n",
       "4                        学者職分論の評\n",
       "7                          開化第一話\n",
       "9                    民撰議院設立建言書之評\n",
       "14        ブルンチュリ氏国法汎論摘訳民選議院不可立の論\n",
       "22                       米国政教（一）\n",
       "25                       米国政教（二）\n",
       "26                            宗教\n",
       "28                         独立国権義\n",
       "29                         武官の恭順\n",
       "35                        妻妾論（一）\n",
       "49                        妻妾論（二）\n",
       "55                       米国政教（三）\n",
       "62                        妻妾論（三）\n",
       "74                          軽国政府\n",
       "84                        妻妾論（四）\n",
       "108                       妻妾論（五）\n",
       "115              明六社第一年回役員改選に付演説\n",
       "119                     夫婦同権の流弊論\n",
       "125    〔第三十一号「夫婦同権の流弊論」に対するコメント〕\n",
       "Name: title, dtype: object"
      ]
     },
     "execution_count": 27,
     "metadata": {},
     "output_type": "execute_result"
    }
   ],
   "source": [
    "mask = (Meiroku_df.author == '森有礼') | (Meiroku_df.author == '加藤弘之')\n",
    "Meiroku_df[mask].title"
   ]
  },
  {
   "cell_type": "markdown",
   "metadata": {},
   "source": [
    "## Colocation — A basic data visualization"
   ]
  },
  {
   "cell_type": "code",
   "execution_count": 32,
   "metadata": {},
   "outputs": [
    {
     "data": {
      "application/vnd.plotly.v1+json": {
       "config": {
        "linkText": "Export to plot.ly",
        "plotlyServerURL": "https://plot.ly",
        "showLink": false
       },
       "data": [
        {
         "hoverlabel": {
          "namelength": 0
         },
         "hovertemplate": "<b>%{hovertext}</b><br><br>女=%{x}<br>自由=%{y}",
         "hovertext": [
          "西周",
          "西村茂樹",
          "加藤弘之",
          "森有礼",
          "津田真道",
          "西周",
          "森有礼",
          "西村茂樹",
          "森有礼",
          "杉亨二",
          "津田真道",
          "西周",
          "箕作麟祥",
          "加藤弘之",
          "杉亨二",
          "西周",
          "西周",
          "津田真道",
          "西周",
          "杉亨二",
          "箕作麟祥",
          "加藤弘之",
          "津田真道",
          "西周",
          "加藤弘之",
          "森有礼",
          "柴田昌吉",
          "森有礼",
          "加藤弘之",
          "箕作麟祥",
          "杉亨二",
          "津田真道",
          "清水卯三郎",
          "津田真道",
          "森有礼",
          "箕作秋坪",
          "杉亨二",
          "西周",
          "津田真道",
          "津田真道",
          "箕作麟祥",
          "西周",
          "津田真道",
          "津田真道",
          "杉亨二",
          "中村正直",
          "阪谷素",
          "津田真道",
          "森有礼",
          "中村正直",
          "阪谷素",
          "西周",
          "津田真道",
          "中村正直",
          "加藤弘之",
          "津田真道",
          "阪谷素",
          "西周",
          "箕作麟祥",
          "杉亨二",
          "津田真道",
          "森有礼",
          "中村正直",
          "阪谷素",
          "津田真道",
          "津田真道",
          "杉亨二",
          "中村正直",
          "西周",
          "神田孝平",
          "津田真道",
          "西周",
          "津田真道",
          "加藤弘之",
          "杉亨二",
          "阪谷素",
          "西周",
          "神田孝平",
          "西周",
          "神田孝平",
          "阪谷素",
          "杉亨二",
          "津田真道",
          "森有礼",
          "阪谷素",
          "阪谷素",
          "西周",
          "福沢諭吉",
          "津田真道",
          "杉亨二",
          "阪谷素",
          "西周",
          "津田真道",
          "阪谷素",
          "清水卯三郎",
          "神田孝平",
          "西周",
          "神田孝平",
          "中村正直",
          "津田真道",
          "杉亨二",
          "西周",
          "阪谷素",
          "津田真道",
          "福沢諭吉",
          "津田真道",
          "神田孝平",
          "森有礼",
          "阪谷素",
          "阪谷素",
          "西村茂樹",
          "西周",
          "西村茂樹",
          "柏原孝章",
          "森有礼",
          "津田真道",
          "柏原孝章",
          "中村正直",
          "加藤弘之",
          "西村茂樹",
          "柏原孝章",
          "福沢諭吉",
          "西周",
          "阪谷素",
          "森有礼",
          "中村正直",
          "西村茂樹",
          "柏原孝章",
          "神田孝平",
          "杉亨二",
          "神田孝平",
          "津田真道",
          "中村正直",
          "阪谷素",
          "津田真道",
          "阪谷素",
          "西村茂樹",
          "西村茂樹",
          "中村正直",
          "神田孝平",
          "西周",
          "阪谷素",
          "西周",
          "西村茂樹",
          "中村正直",
          "西周",
          "阪谷素",
          "津田真道",
          "津田仙",
          "阪谷素",
          "西村茂樹",
          "西周",
          "津田真道",
          "西村茂樹",
          "阪谷素"
         ],
         "legendgroup": "",
         "marker": {
          "color": "#636efa",
          "symbol": "circle"
         },
         "mode": "markers",
         "name": "",
         "showlegend": false,
         "type": "scatter",
         "uid": "88b5e7ea-9d7a-4241-84a6-a30386859fb8",
         "x": [
          0,
          0,
          0,
          0,
          0,
          0,
          0,
          0,
          0,
          0,
          0,
          0,
          0,
          0,
          0,
          0,
          0,
          0,
          0,
          0,
          0,
          0,
          0,
          0,
          0,
          0,
          0,
          0,
          0,
          0,
          0,
          0,
          0,
          0,
          0,
          1,
          0,
          0,
          0,
          0,
          0,
          0,
          0,
          0,
          0,
          0,
          0,
          0,
          0,
          0,
          0,
          0,
          0,
          0,
          0,
          0,
          0,
          0,
          0,
          0,
          0,
          1,
          0,
          0,
          0,
          0,
          1,
          0,
          0,
          0,
          0,
          0,
          0,
          0,
          1,
          0,
          0,
          0,
          0,
          0,
          0,
          0,
          0,
          1,
          0,
          0,
          0,
          0,
          0,
          0,
          18,
          0,
          1,
          0,
          0,
          0,
          0,
          0,
          0,
          0,
          0,
          0,
          0,
          0,
          1,
          0,
          0,
          2,
          0,
          1,
          0,
          0,
          0,
          0,
          0,
          0,
          0,
          0,
          1,
          0,
          0,
          4,
          0,
          11,
          0,
          0,
          0,
          0,
          0,
          0,
          0,
          0,
          0,
          2,
          1,
          0,
          0,
          0,
          0,
          0,
          0,
          0,
          0,
          0,
          0,
          0,
          1,
          0,
          0,
          0,
          0,
          0,
          0,
          0,
          1
         ],
         "xaxis": "x",
         "y": [
          0,
          1,
          0,
          0,
          2,
          0,
          0,
          0,
          0,
          0,
          2,
          0,
          7,
          0,
          0,
          0,
          0,
          0,
          0,
          1,
          7,
          12,
          9,
          0,
          10,
          4,
          0,
          9,
          1,
          0,
          2,
          0,
          0,
          0,
          0,
          0,
          0,
          0,
          0,
          1,
          16,
          0,
          0,
          2,
          0,
          1,
          1,
          3,
          0,
          0,
          1,
          0,
          1,
          1,
          10,
          2,
          0,
          0,
          22,
          0,
          0,
          2,
          3,
          0,
          0,
          3,
          3,
          0,
          0,
          1,
          0,
          0,
          0,
          0,
          0,
          2,
          0,
          0,
          0,
          0,
          0,
          0,
          1,
          0,
          0,
          1,
          0,
          0,
          0,
          1,
          4,
          0,
          0,
          0,
          0,
          1,
          1,
          0,
          2,
          4,
          8,
          0,
          2,
          0,
          1,
          0,
          0,
          0,
          1,
          1,
          0,
          0,
          14,
          0,
          1,
          3,
          0,
          0,
          2,
          0,
          0,
          0,
          0,
          4,
          0,
          0,
          0,
          0,
          0,
          7,
          0,
          6,
          0,
          6,
          0,
          3,
          0,
          54,
          0,
          0,
          0,
          0,
          0,
          1,
          0,
          0,
          0,
          0,
          0,
          0,
          3,
          0,
          0,
          0,
          0
         ],
         "yaxis": "y"
        }
       ],
       "layout": {
        "autosize": true,
        "grid": {
         "xaxes": [
          "x"
         ],
         "xgap": 0.1,
         "xside": "bottom",
         "yaxes": [
          "y"
         ],
         "ygap": 0.1,
         "yside": "left"
        },
        "legend": {
         "tracegroupgap": 0
        },
        "margin": {
         "t": 60
        },
        "template": {
         "data": {
          "bar": [
           {
            "marker": {
             "line": {
              "color": "#E5ECF6",
              "width": 0.5
             }
            },
            "type": "bar"
           }
          ],
          "barpolar": [
           {
            "marker": {
             "line": {
              "color": "#E5ECF6",
              "width": 0.5
             }
            },
            "type": "barpolar"
           }
          ],
          "carpet": [
           {
            "aaxis": {
             "endlinecolor": "#2a3f5f",
             "gridcolor": "white",
             "linecolor": "white",
             "minorgridcolor": "white",
             "startlinecolor": "#2a3f5f"
            },
            "baxis": {
             "endlinecolor": "#2a3f5f",
             "gridcolor": "white",
             "linecolor": "white",
             "minorgridcolor": "white",
             "startlinecolor": "#2a3f5f"
            },
            "type": "carpet"
           }
          ],
          "choropleth": [
           {
            "colorbar": {
             "outlinewidth": 0,
             "ticks": ""
            },
            "type": "choropleth"
           }
          ],
          "contour": [
           {
            "colorbar": {
             "outlinewidth": 0,
             "ticks": ""
            },
            "colorscale": [
             [
              0,
              "#0508b8"
             ],
             [
              0.0893854748603352,
              "#1910d8"
             ],
             [
              0.1787709497206704,
              "#3c19f0"
             ],
             [
              0.2681564245810056,
              "#6b1cfb"
             ],
             [
              0.3575418994413408,
              "#981cfd"
             ],
             [
              0.44692737430167595,
              "#bf1cfd"
             ],
             [
              0.5363128491620112,
              "#dd2bfd"
             ],
             [
              0.6256983240223464,
              "#f246fe"
             ],
             [
              0.7150837988826816,
              "#fc67fd"
             ],
             [
              0.8044692737430168,
              "#fe88fc"
             ],
             [
              0.8938547486033519,
              "#fea5fd"
             ],
             [
              0.9832402234636871,
              "#febefe"
             ],
             [
              1,
              "#fec3fe"
             ]
            ],
            "type": "contour"
           }
          ],
          "contourcarpet": [
           {
            "colorbar": {
             "outlinewidth": 0,
             "ticks": ""
            },
            "type": "contourcarpet"
           }
          ],
          "heatmap": [
           {
            "colorbar": {
             "outlinewidth": 0,
             "ticks": ""
            },
            "colorscale": [
             [
              0,
              "#0508b8"
             ],
             [
              0.0893854748603352,
              "#1910d8"
             ],
             [
              0.1787709497206704,
              "#3c19f0"
             ],
             [
              0.2681564245810056,
              "#6b1cfb"
             ],
             [
              0.3575418994413408,
              "#981cfd"
             ],
             [
              0.44692737430167595,
              "#bf1cfd"
             ],
             [
              0.5363128491620112,
              "#dd2bfd"
             ],
             [
              0.6256983240223464,
              "#f246fe"
             ],
             [
              0.7150837988826816,
              "#fc67fd"
             ],
             [
              0.8044692737430168,
              "#fe88fc"
             ],
             [
              0.8938547486033519,
              "#fea5fd"
             ],
             [
              0.9832402234636871,
              "#febefe"
             ],
             [
              1,
              "#fec3fe"
             ]
            ],
            "type": "heatmap"
           }
          ],
          "heatmapgl": [
           {
            "colorbar": {
             "outlinewidth": 0,
             "ticks": ""
            },
            "type": "heatmapgl"
           }
          ],
          "histogram": [
           {
            "marker": {
             "colorbar": {
              "outlinewidth": 0,
              "ticks": ""
             }
            },
            "type": "histogram"
           }
          ],
          "histogram2d": [
           {
            "colorbar": {
             "outlinewidth": 0,
             "ticks": ""
            },
            "colorscale": [
             [
              0,
              "#0508b8"
             ],
             [
              0.0893854748603352,
              "#1910d8"
             ],
             [
              0.1787709497206704,
              "#3c19f0"
             ],
             [
              0.2681564245810056,
              "#6b1cfb"
             ],
             [
              0.3575418994413408,
              "#981cfd"
             ],
             [
              0.44692737430167595,
              "#bf1cfd"
             ],
             [
              0.5363128491620112,
              "#dd2bfd"
             ],
             [
              0.6256983240223464,
              "#f246fe"
             ],
             [
              0.7150837988826816,
              "#fc67fd"
             ],
             [
              0.8044692737430168,
              "#fe88fc"
             ],
             [
              0.8938547486033519,
              "#fea5fd"
             ],
             [
              0.9832402234636871,
              "#febefe"
             ],
             [
              1,
              "#fec3fe"
             ]
            ],
            "type": "histogram2d"
           }
          ],
          "histogram2dcontour": [
           {
            "colorbar": {
             "outlinewidth": 0,
             "ticks": ""
            },
            "colorscale": [
             [
              0,
              "#0508b8"
             ],
             [
              0.0893854748603352,
              "#1910d8"
             ],
             [
              0.1787709497206704,
              "#3c19f0"
             ],
             [
              0.2681564245810056,
              "#6b1cfb"
             ],
             [
              0.3575418994413408,
              "#981cfd"
             ],
             [
              0.44692737430167595,
              "#bf1cfd"
             ],
             [
              0.5363128491620112,
              "#dd2bfd"
             ],
             [
              0.6256983240223464,
              "#f246fe"
             ],
             [
              0.7150837988826816,
              "#fc67fd"
             ],
             [
              0.8044692737430168,
              "#fe88fc"
             ],
             [
              0.8938547486033519,
              "#fea5fd"
             ],
             [
              0.9832402234636871,
              "#febefe"
             ],
             [
              1,
              "#fec3fe"
             ]
            ],
            "type": "histogram2dcontour"
           }
          ],
          "mesh3d": [
           {
            "colorbar": {
             "outlinewidth": 0,
             "ticks": ""
            },
            "type": "mesh3d"
           }
          ],
          "parcoords": [
           {
            "line": {
             "colorbar": {
              "outlinewidth": 0,
              "ticks": ""
             }
            },
            "type": "parcoords"
           }
          ],
          "scatter": [
           {
            "marker": {
             "colorbar": {
              "outlinewidth": 0,
              "ticks": ""
             }
            },
            "type": "scatter"
           }
          ],
          "scatter3d": [
           {
            "marker": {
             "colorbar": {
              "outlinewidth": 0,
              "ticks": ""
             }
            },
            "type": "scatter3d"
           }
          ],
          "scattercarpet": [
           {
            "marker": {
             "colorbar": {
              "outlinewidth": 0,
              "ticks": ""
             }
            },
            "type": "scattercarpet"
           }
          ],
          "scattergeo": [
           {
            "marker": {
             "colorbar": {
              "outlinewidth": 0,
              "ticks": ""
             }
            },
            "type": "scattergeo"
           }
          ],
          "scattergl": [
           {
            "marker": {
             "colorbar": {
              "outlinewidth": 0,
              "ticks": ""
             }
            },
            "type": "scattergl"
           }
          ],
          "scattermapbox": [
           {
            "marker": {
             "colorbar": {
              "outlinewidth": 0,
              "ticks": ""
             }
            },
            "type": "scattermapbox"
           }
          ],
          "scatterpolar": [
           {
            "marker": {
             "colorbar": {
              "outlinewidth": 0,
              "ticks": ""
             }
            },
            "type": "scatterpolar"
           }
          ],
          "scatterpolargl": [
           {
            "marker": {
             "colorbar": {
              "outlinewidth": 0,
              "ticks": ""
             }
            },
            "type": "scatterpolargl"
           }
          ],
          "scatterternary": [
           {
            "marker": {
             "colorbar": {
              "outlinewidth": 0,
              "ticks": ""
             }
            },
            "type": "scatterternary"
           }
          ],
          "surface": [
           {
            "colorbar": {
             "outlinewidth": 0,
             "ticks": ""
            },
            "type": "surface"
           }
          ],
          "table": [
           {
            "cells": {
             "fill": {
              "color": "#EBF0F8"
             },
             "line": {
              "color": "white"
             }
            },
            "header": {
             "fill": {
              "color": "#C8D4E3"
             },
             "line": {
              "color": "white"
             }
            },
            "type": "table"
           }
          ]
         },
         "layout": {
          "annotationdefaults": {
           "arrowcolor": "#506784",
           "arrowhead": 0,
           "arrowwidth": 1
          },
          "colorscale": {
           "diverging": [
            [
             0,
             "#8e0152"
            ],
            [
             0.1,
             "#c51b7d"
            ],
            [
             0.2,
             "#de77ae"
            ],
            [
             0.3,
             "#f1b6da"
            ],
            [
             0.4,
             "#fde0ef"
            ],
            [
             0.5,
             "#f7f7f7"
            ],
            [
             0.6,
             "#e6f5d0"
            ],
            [
             0.7,
             "#b8e186"
            ],
            [
             0.8,
             "#7fbc41"
            ],
            [
             0.9,
             "#4d9221"
            ],
            [
             1,
             "#276419"
            ]
           ],
           "sequential": [
            [
             0,
             "#0508b8"
            ],
            [
             0.0893854748603352,
             "#1910d8"
            ],
            [
             0.1787709497206704,
             "#3c19f0"
            ],
            [
             0.2681564245810056,
             "#6b1cfb"
            ],
            [
             0.3575418994413408,
             "#981cfd"
            ],
            [
             0.44692737430167595,
             "#bf1cfd"
            ],
            [
             0.5363128491620112,
             "#dd2bfd"
            ],
            [
             0.6256983240223464,
             "#f246fe"
            ],
            [
             0.7150837988826816,
             "#fc67fd"
            ],
            [
             0.8044692737430168,
             "#fe88fc"
            ],
            [
             0.8938547486033519,
             "#fea5fd"
            ],
            [
             0.9832402234636871,
             "#febefe"
            ],
            [
             1,
             "#fec3fe"
            ]
           ],
           "sequentialminus": [
            [
             0,
             "#0508b8"
            ],
            [
             0.0893854748603352,
             "#1910d8"
            ],
            [
             0.1787709497206704,
             "#3c19f0"
            ],
            [
             0.2681564245810056,
             "#6b1cfb"
            ],
            [
             0.3575418994413408,
             "#981cfd"
            ],
            [
             0.44692737430167595,
             "#bf1cfd"
            ],
            [
             0.5363128491620112,
             "#dd2bfd"
            ],
            [
             0.6256983240223464,
             "#f246fe"
            ],
            [
             0.7150837988826816,
             "#fc67fd"
            ],
            [
             0.8044692737430168,
             "#fe88fc"
            ],
            [
             0.8938547486033519,
             "#fea5fd"
            ],
            [
             0.9832402234636871,
             "#febefe"
            ],
            [
             1,
             "#fec3fe"
            ]
           ]
          },
          "colorway": [
           "#636efa",
           "#EF553B",
           "#00cc96",
           "#ab63fa",
           "#19d3f3",
           "#e763fa",
           "#FECB52",
           "#FFA15A",
           "#FF6692",
           "#B6E880"
          ],
          "font": {
           "color": "#2a3f5f"
          },
          "geo": {
           "bgcolor": "white",
           "lakecolor": "white",
           "landcolor": "#E5ECF6",
           "showlakes": true,
           "showland": true,
           "subunitcolor": "white"
          },
          "hoverlabel": {
           "align": "left"
          },
          "hovermode": "closest",
          "mapbox": {
           "style": "light"
          },
          "paper_bgcolor": "white",
          "plot_bgcolor": "#E5ECF6",
          "polar": {
           "angularaxis": {
            "gridcolor": "white",
            "linecolor": "white",
            "ticks": ""
           },
           "bgcolor": "#E5ECF6",
           "radialaxis": {
            "gridcolor": "white",
            "linecolor": "white",
            "ticks": ""
           }
          },
          "scene": {
           "xaxis": {
            "backgroundcolor": "#E5ECF6",
            "gridcolor": "white",
            "gridwidth": 2,
            "linecolor": "white",
            "showbackground": true,
            "ticks": "",
            "zerolinecolor": "white"
           },
           "yaxis": {
            "backgroundcolor": "#E5ECF6",
            "gridcolor": "white",
            "gridwidth": 2,
            "linecolor": "white",
            "showbackground": true,
            "ticks": "",
            "zerolinecolor": "white"
           },
           "zaxis": {
            "backgroundcolor": "#E5ECF6",
            "gridcolor": "white",
            "gridwidth": 2,
            "linecolor": "white",
            "showbackground": true,
            "ticks": "",
            "zerolinecolor": "white"
           }
          },
          "shapedefaults": {
           "fillcolor": "#506784",
           "line": {
            "width": 0
           },
           "opacity": 0.4
          },
          "ternary": {
           "aaxis": {
            "gridcolor": "white",
            "linecolor": "white",
            "ticks": ""
           },
           "baxis": {
            "gridcolor": "white",
            "linecolor": "white",
            "ticks": ""
           },
           "bgcolor": "#E5ECF6",
           "caxis": {
            "gridcolor": "white",
            "linecolor": "white",
            "ticks": ""
           }
          },
          "title": {
           "x": 0.05
          },
          "xaxis": {
           "automargin": true,
           "gridcolor": "white",
           "linecolor": "white",
           "ticks": "",
           "zerolinecolor": "white",
           "zerolinewidth": 2
          },
          "yaxis": {
           "automargin": true,
           "gridcolor": "white",
           "linecolor": "white",
           "ticks": "",
           "zerolinecolor": "white",
           "zerolinewidth": 2
          }
         }
        },
        "xaxis": {
         "autorange": true,
         "range": [
          -1.1292657704239915,
          19.12926577042399
         ],
         "title": {
          "text": "女"
         },
         "type": "linear"
        },
        "yaxis": {
         "autorange": true,
         "range": [
          -3.5535055350553506,
          57.55350553505535
         ],
         "title": {
          "text": "自由"
         },
         "type": "linear"
        }
       }
      },
      "image/png": "[encoded data removed]",
      "text/html": [
       "<div>\n",
       "        \n",
       "        \n",
       "            <div id=\"1853bea0-431c-44ee-b2f6-0bfda14c03f2\" class=\"plotly-graph-div\" style=\"height:600px; width:100%;\"></div>\n",
       "            <script type=\"text/javascript\">\n",
       "                require([\"plotly\"], function(Plotly) {\n",
       "                    window.PLOTLYENV=window.PLOTLYENV || {};\n",
       "                    window.PLOTLYENV.BASE_URL='https://plot.ly';\n",
       "                    \n",
       "                if (document.getElementById(\"1853bea0-431c-44ee-b2f6-0bfda14c03f2\")) {\n",
       "                    Plotly.newPlot(\n",
       "                        '1853bea0-431c-44ee-b2f6-0bfda14c03f2',\n",
       "                        [{\"hoverlabel\": {\"namelength\": 0}, \"hovertemplate\": \"<b>%{hovertext}</b><br><br>\\u5973=%{x}<br>\\u81ea\\u7531=%{y}\", \"hovertext\": [\"\\u897f\\u5468\", \"\\u897f\\u6751\\u8302\\u6a39\", \"\\u52a0\\u85e4\\u5f18\\u4e4b\", \"\\u68ee\\u6709\\u793c\", \"\\u6d25\\u7530\\u771f\\u9053\", \"\\u897f\\u5468\", \"\\u68ee\\u6709\\u793c\", \"\\u897f\\u6751\\u8302\\u6a39\", \"\\u68ee\\u6709\\u793c\", \"\\u6749\\u4ea8\\u4e8c\", \"\\u6d25\\u7530\\u771f\\u9053\", \"\\u897f\\u5468\", \"\\u7b95\\u4f5c\\u9e9f\\u7965\", \"\\u52a0\\u85e4\\u5f18\\u4e4b\", \"\\u6749\\u4ea8\\u4e8c\", \"\\u897f\\u5468\", \"\\u897f\\u5468\", \"\\u6d25\\u7530\\u771f\\u9053\", \"\\u897f\\u5468\", \"\\u6749\\u4ea8\\u4e8c\", \"\\u7b95\\u4f5c\\u9e9f\\u7965\", \"\\u52a0\\u85e4\\u5f18\\u4e4b\", \"\\u6d25\\u7530\\u771f\\u9053\", \"\\u897f\\u5468\", \"\\u52a0\\u85e4\\u5f18\\u4e4b\", \"\\u68ee\\u6709\\u793c\", \"\\u67f4\\u7530\\u660c\\u5409\", \"\\u68ee\\u6709\\u793c\", \"\\u52a0\\u85e4\\u5f18\\u4e4b\", \"\\u7b95\\u4f5c\\u9e9f\\u7965\", \"\\u6749\\u4ea8\\u4e8c\", \"\\u6d25\\u7530\\u771f\\u9053\", \"\\u6e05\\u6c34\\u536f\\u4e09\\u90ce\", \"\\u6d25\\u7530\\u771f\\u9053\", \"\\u68ee\\u6709\\u793c\", \"\\u7b95\\u4f5c\\u79cb\\u576a\", \"\\u6749\\u4ea8\\u4e8c\", \"\\u897f\\u5468\", \"\\u6d25\\u7530\\u771f\\u9053\", \"\\u6d25\\u7530\\u771f\\u9053\", \"\\u7b95\\u4f5c\\u9e9f\\u7965\", \"\\u897f\\u5468\", \"\\u6d25\\u7530\\u771f\\u9053\", \"\\u6d25\\u7530\\u771f\\u9053\", \"\\u6749\\u4ea8\\u4e8c\", \"\\u4e2d\\u6751\\u6b63\\u76f4\", \"\\u962a\\u8c37\\u7d20\", \"\\u6d25\\u7530\\u771f\\u9053\", \"\\u68ee\\u6709\\u793c\", \"\\u4e2d\\u6751\\u6b63\\u76f4\", \"\\u962a\\u8c37\\u7d20\", \"\\u897f\\u5468\", \"\\u6d25\\u7530\\u771f\\u9053\", \"\\u4e2d\\u6751\\u6b63\\u76f4\", \"\\u52a0\\u85e4\\u5f18\\u4e4b\", \"\\u6d25\\u7530\\u771f\\u9053\", \"\\u962a\\u8c37\\u7d20\", \"\\u897f\\u5468\", \"\\u7b95\\u4f5c\\u9e9f\\u7965\", \"\\u6749\\u4ea8\\u4e8c\", \"\\u6d25\\u7530\\u771f\\u9053\", \"\\u68ee\\u6709\\u793c\", \"\\u4e2d\\u6751\\u6b63\\u76f4\", \"\\u962a\\u8c37\\u7d20\", \"\\u6d25\\u7530\\u771f\\u9053\", \"\\u6d25\\u7530\\u771f\\u9053\", \"\\u6749\\u4ea8\\u4e8c\", \"\\u4e2d\\u6751\\u6b63\\u76f4\", \"\\u897f\\u5468\", \"\\u795e\\u7530\\u5b5d\\u5e73\", \"\\u6d25\\u7530\\u771f\\u9053\", \"\\u897f\\u5468\", \"\\u6d25\\u7530\\u771f\\u9053\", \"\\u52a0\\u85e4\\u5f18\\u4e4b\", \"\\u6749\\u4ea8\\u4e8c\", \"\\u962a\\u8c37\\u7d20\", \"\\u897f\\u5468\", \"\\u795e\\u7530\\u5b5d\\u5e73\", \"\\u897f\\u5468\", \"\\u795e\\u7530\\u5b5d\\u5e73\", \"\\u962a\\u8c37\\u7d20\", \"\\u6749\\u4ea8\\u4e8c\", \"\\u6d25\\u7530\\u771f\\u9053\", \"\\u68ee\\u6709\\u793c\", \"\\u962a\\u8c37\\u7d20\", \"\\u962a\\u8c37\\u7d20\", \"\\u897f\\u5468\", \"\\u798f\\u6ca2\\u8aed\\u5409\", \"\\u6d25\\u7530\\u771f\\u9053\", \"\\u6749\\u4ea8\\u4e8c\", \"\\u962a\\u8c37\\u7d20\", \"\\u897f\\u5468\", \"\\u6d25\\u7530\\u771f\\u9053\", \"\\u962a\\u8c37\\u7d20\", \"\\u6e05\\u6c34\\u536f\\u4e09\\u90ce\", \"\\u795e\\u7530\\u5b5d\\u5e73\", \"\\u897f\\u5468\", \"\\u795e\\u7530\\u5b5d\\u5e73\", \"\\u4e2d\\u6751\\u6b63\\u76f4\", \"\\u6d25\\u7530\\u771f\\u9053\", \"\\u6749\\u4ea8\\u4e8c\", \"\\u897f\\u5468\", \"\\u962a\\u8c37\\u7d20\", \"\\u6d25\\u7530\\u771f\\u9053\", \"\\u798f\\u6ca2\\u8aed\\u5409\", \"\\u6d25\\u7530\\u771f\\u9053\", \"\\u795e\\u7530\\u5b5d\\u5e73\", \"\\u68ee\\u6709\\u793c\", \"\\u962a\\u8c37\\u7d20\", \"\\u962a\\u8c37\\u7d20\", \"\\u897f\\u6751\\u8302\\u6a39\", \"\\u897f\\u5468\", \"\\u897f\\u6751\\u8302\\u6a39\", \"\\u67cf\\u539f\\u5b5d\\u7ae0\", \"\\u68ee\\u6709\\u793c\", \"\\u6d25\\u7530\\u771f\\u9053\", \"\\u67cf\\u539f\\u5b5d\\u7ae0\", \"\\u4e2d\\u6751\\u6b63\\u76f4\", \"\\u52a0\\u85e4\\u5f18\\u4e4b\", \"\\u897f\\u6751\\u8302\\u6a39\", \"\\u67cf\\u539f\\u5b5d\\u7ae0\", \"\\u798f\\u6ca2\\u8aed\\u5409\", \"\\u897f\\u5468\", \"\\u962a\\u8c37\\u7d20\", \"\\u68ee\\u6709\\u793c\", \"\\u4e2d\\u6751\\u6b63\\u76f4\", \"\\u897f\\u6751\\u8302\\u6a39\", \"\\u67cf\\u539f\\u5b5d\\u7ae0\", \"\\u795e\\u7530\\u5b5d\\u5e73\", \"\\u6749\\u4ea8\\u4e8c\", \"\\u795e\\u7530\\u5b5d\\u5e73\", \"\\u6d25\\u7530\\u771f\\u9053\", \"\\u4e2d\\u6751\\u6b63\\u76f4\", \"\\u962a\\u8c37\\u7d20\", \"\\u6d25\\u7530\\u771f\\u9053\", \"\\u962a\\u8c37\\u7d20\", \"\\u897f\\u6751\\u8302\\u6a39\", \"\\u897f\\u6751\\u8302\\u6a39\", \"\\u4e2d\\u6751\\u6b63\\u76f4\", \"\\u795e\\u7530\\u5b5d\\u5e73\", \"\\u897f\\u5468\", \"\\u962a\\u8c37\\u7d20\", \"\\u897f\\u5468\", \"\\u897f\\u6751\\u8302\\u6a39\", \"\\u4e2d\\u6751\\u6b63\\u76f4\", \"\\u897f\\u5468\", \"\\u962a\\u8c37\\u7d20\", \"\\u6d25\\u7530\\u771f\\u9053\", \"\\u6d25\\u7530\\u4ed9\", \"\\u962a\\u8c37\\u7d20\", \"\\u897f\\u6751\\u8302\\u6a39\", \"\\u897f\\u5468\", \"\\u6d25\\u7530\\u771f\\u9053\", \"\\u897f\\u6751\\u8302\\u6a39\", \"\\u962a\\u8c37\\u7d20\"], \"legendgroup\": \"\", \"marker\": {\"color\": \"#636efa\", \"symbol\": \"circle\"}, \"mode\": \"markers\", \"name\": \"\", \"showlegend\": false, \"type\": \"scatter\", \"uid\": \"88b5e7ea-9d7a-4241-84a6-a30386859fb8\", \"x\": [0, 0, 0, 0, 0, 0, 0, 0, 0, 0, 0, 0, 0, 0, 0, 0, 0, 0, 0, 0, 0, 0, 0, 0, 0, 0, 0, 0, 0, 0, 0, 0, 0, 0, 0, 1, 0, 0, 0, 0, 0, 0, 0, 0, 0, 0, 0, 0, 0, 0, 0, 0, 0, 0, 0, 0, 0, 0, 0, 0, 0, 1, 0, 0, 0, 0, 1, 0, 0, 0, 0, 0, 0, 0, 1, 0, 0, 0, 0, 0, 0, 0, 0, 1, 0, 0, 0, 0, 0, 0, 18, 0, 1, 0, 0, 0, 0, 0, 0, 0, 0, 0, 0, 0, 1, 0, 0, 2, 0, 1, 0, 0, 0, 0, 0, 0, 0, 0, 1, 0, 0, 4, 0, 11, 0, 0, 0, 0, 0, 0, 0, 0, 0, 2, 1, 0, 0, 0, 0, 0, 0, 0, 0, 0, 0, 0, 1, 0, 0, 0, 0, 0, 0, 0, 1], \"xaxis\": \"x\", \"y\": [0, 1, 0, 0, 2, 0, 0, 0, 0, 0, 2, 0, 7, 0, 0, 0, 0, 0, 0, 1, 7, 12, 9, 0, 10, 4, 0, 9, 1, 0, 2, 0, 0, 0, 0, 0, 0, 0, 0, 1, 16, 0, 0, 2, 0, 1, 1, 3, 0, 0, 1, 0, 1, 1, 10, 2, 0, 0, 22, 0, 0, 2, 3, 0, 0, 3, 3, 0, 0, 1, 0, 0, 0, 0, 0, 2, 0, 0, 0, 0, 0, 0, 1, 0, 0, 1, 0, 0, 0, 1, 4, 0, 0, 0, 0, 1, 1, 0, 2, 4, 8, 0, 2, 0, 1, 0, 0, 0, 1, 1, 0, 0, 14, 0, 1, 3, 0, 0, 2, 0, 0, 0, 0, 4, 0, 0, 0, 0, 0, 7, 0, 6, 0, 6, 0, 3, 0, 54, 0, 0, 0, 0, 0, 1, 0, 0, 0, 0, 0, 0, 3, 0, 0, 0, 0], \"yaxis\": \"y\"}],\n",
       "                        {\"grid\": {\"xaxes\": [\"x\"], \"xgap\": 0.1, \"xside\": \"bottom\", \"yaxes\": [\"y\"], \"ygap\": 0.1, \"yside\": \"left\"}, \"height\": 600, \"legend\": {\"tracegroupgap\": 0}, \"margin\": {\"t\": 60}, \"template\": {\"data\": {\"bar\": [{\"marker\": {\"line\": {\"color\": \"#E5ECF6\", \"width\": 0.5}}, \"type\": \"bar\"}], \"barpolar\": [{\"marker\": {\"line\": {\"color\": \"#E5ECF6\", \"width\": 0.5}}, \"type\": \"barpolar\"}], \"carpet\": [{\"aaxis\": {\"endlinecolor\": \"#2a3f5f\", \"gridcolor\": \"white\", \"linecolor\": \"white\", \"minorgridcolor\": \"white\", \"startlinecolor\": \"#2a3f5f\"}, \"baxis\": {\"endlinecolor\": \"#2a3f5f\", \"gridcolor\": \"white\", \"linecolor\": \"white\", \"minorgridcolor\": \"white\", \"startlinecolor\": \"#2a3f5f\"}, \"type\": \"carpet\"}], \"choropleth\": [{\"colorbar\": {\"outlinewidth\": 0, \"ticks\": \"\"}, \"type\": \"choropleth\"}], \"contour\": [{\"colorbar\": {\"outlinewidth\": 0, \"ticks\": \"\"}, \"colorscale\": [[0.0, \"#0508b8\"], [0.0893854748603352, \"#1910d8\"], [0.1787709497206704, \"#3c19f0\"], [0.2681564245810056, \"#6b1cfb\"], [0.3575418994413408, \"#981cfd\"], [0.44692737430167595, \"#bf1cfd\"], [0.5363128491620112, \"#dd2bfd\"], [0.6256983240223464, \"#f246fe\"], [0.7150837988826816, \"#fc67fd\"], [0.8044692737430168, \"#fe88fc\"], [0.8938547486033519, \"#fea5fd\"], [0.9832402234636871, \"#febefe\"], [1.0, \"#fec3fe\"]], \"type\": \"contour\"}], \"contourcarpet\": [{\"colorbar\": {\"outlinewidth\": 0, \"ticks\": \"\"}, \"type\": \"contourcarpet\"}], \"heatmap\": [{\"colorbar\": {\"outlinewidth\": 0, \"ticks\": \"\"}, \"colorscale\": [[0.0, \"#0508b8\"], [0.0893854748603352, \"#1910d8\"], [0.1787709497206704, \"#3c19f0\"], [0.2681564245810056, \"#6b1cfb\"], [0.3575418994413408, \"#981cfd\"], [0.44692737430167595, \"#bf1cfd\"], [0.5363128491620112, \"#dd2bfd\"], [0.6256983240223464, \"#f246fe\"], [0.7150837988826816, \"#fc67fd\"], [0.8044692737430168, \"#fe88fc\"], [0.8938547486033519, \"#fea5fd\"], [0.9832402234636871, \"#febefe\"], [1.0, \"#fec3fe\"]], \"type\": \"heatmap\"}], \"heatmapgl\": [{\"colorbar\": {\"outlinewidth\": 0, \"ticks\": \"\"}, \"type\": \"heatmapgl\"}], \"histogram\": [{\"marker\": {\"colorbar\": {\"outlinewidth\": 0, \"ticks\": \"\"}}, \"type\": \"histogram\"}], \"histogram2d\": [{\"colorbar\": {\"outlinewidth\": 0, \"ticks\": \"\"}, \"colorscale\": [[0.0, \"#0508b8\"], [0.0893854748603352, \"#1910d8\"], [0.1787709497206704, \"#3c19f0\"], [0.2681564245810056, \"#6b1cfb\"], [0.3575418994413408, \"#981cfd\"], [0.44692737430167595, \"#bf1cfd\"], [0.5363128491620112, \"#dd2bfd\"], [0.6256983240223464, \"#f246fe\"], [0.7150837988826816, \"#fc67fd\"], [0.8044692737430168, \"#fe88fc\"], [0.8938547486033519, \"#fea5fd\"], [0.9832402234636871, \"#febefe\"], [1.0, \"#fec3fe\"]], \"type\": \"histogram2d\"}], \"histogram2dcontour\": [{\"colorbar\": {\"outlinewidth\": 0, \"ticks\": \"\"}, \"colorscale\": [[0.0, \"#0508b8\"], [0.0893854748603352, \"#1910d8\"], [0.1787709497206704, \"#3c19f0\"], [0.2681564245810056, \"#6b1cfb\"], [0.3575418994413408, \"#981cfd\"], [0.44692737430167595, \"#bf1cfd\"], [0.5363128491620112, \"#dd2bfd\"], [0.6256983240223464, \"#f246fe\"], [0.7150837988826816, \"#fc67fd\"], [0.8044692737430168, \"#fe88fc\"], [0.8938547486033519, \"#fea5fd\"], [0.9832402234636871, \"#febefe\"], [1.0, \"#fec3fe\"]], \"type\": \"histogram2dcontour\"}], \"mesh3d\": [{\"colorbar\": {\"outlinewidth\": 0, \"ticks\": \"\"}, \"type\": \"mesh3d\"}], \"parcoords\": [{\"line\": {\"colorbar\": {\"outlinewidth\": 0, \"ticks\": \"\"}}, \"type\": \"parcoords\"}], \"scatter\": [{\"marker\": {\"colorbar\": {\"outlinewidth\": 0, \"ticks\": \"\"}}, \"type\": \"scatter\"}], \"scatter3d\": [{\"marker\": {\"colorbar\": {\"outlinewidth\": 0, \"ticks\": \"\"}}, \"type\": \"scatter3d\"}], \"scattercarpet\": [{\"marker\": {\"colorbar\": {\"outlinewidth\": 0, \"ticks\": \"\"}}, \"type\": \"scattercarpet\"}], \"scattergeo\": [{\"marker\": {\"colorbar\": {\"outlinewidth\": 0, \"ticks\": \"\"}}, \"type\": \"scattergeo\"}], \"scattergl\": [{\"marker\": {\"colorbar\": {\"outlinewidth\": 0, \"ticks\": \"\"}}, \"type\": \"scattergl\"}], \"scattermapbox\": [{\"marker\": {\"colorbar\": {\"outlinewidth\": 0, \"ticks\": \"\"}}, \"type\": \"scattermapbox\"}], \"scatterpolar\": [{\"marker\": {\"colorbar\": {\"outlinewidth\": 0, \"ticks\": \"\"}}, \"type\": \"scatterpolar\"}], \"scatterpolargl\": [{\"marker\": {\"colorbar\": {\"outlinewidth\": 0, \"ticks\": \"\"}}, \"type\": \"scatterpolargl\"}], \"scatterternary\": [{\"marker\": {\"colorbar\": {\"outlinewidth\": 0, \"ticks\": \"\"}}, \"type\": \"scatterternary\"}], \"surface\": [{\"colorbar\": {\"outlinewidth\": 0, \"ticks\": \"\"}, \"type\": \"surface\"}], \"table\": [{\"cells\": {\"fill\": {\"color\": \"#EBF0F8\"}, \"line\": {\"color\": \"white\"}}, \"header\": {\"fill\": {\"color\": \"#C8D4E3\"}, \"line\": {\"color\": \"white\"}}, \"type\": \"table\"}]}, \"layout\": {\"annotationdefaults\": {\"arrowcolor\": \"#506784\", \"arrowhead\": 0, \"arrowwidth\": 1}, \"colorscale\": {\"diverging\": [[0, \"#8e0152\"], [0.1, \"#c51b7d\"], [0.2, \"#de77ae\"], [0.3, \"#f1b6da\"], [0.4, \"#fde0ef\"], [0.5, \"#f7f7f7\"], [0.6, \"#e6f5d0\"], [0.7, \"#b8e186\"], [0.8, \"#7fbc41\"], [0.9, \"#4d9221\"], [1, \"#276419\"]], \"sequential\": [[0.0, \"#0508b8\"], [0.0893854748603352, \"#1910d8\"], [0.1787709497206704, \"#3c19f0\"], [0.2681564245810056, \"#6b1cfb\"], [0.3575418994413408, \"#981cfd\"], [0.44692737430167595, \"#bf1cfd\"], [0.5363128491620112, \"#dd2bfd\"], [0.6256983240223464, \"#f246fe\"], [0.7150837988826816, \"#fc67fd\"], [0.8044692737430168, \"#fe88fc\"], [0.8938547486033519, \"#fea5fd\"], [0.9832402234636871, \"#febefe\"], [1.0, \"#fec3fe\"]], \"sequentialminus\": [[0.0, \"#0508b8\"], [0.0893854748603352, \"#1910d8\"], [0.1787709497206704, \"#3c19f0\"], [0.2681564245810056, \"#6b1cfb\"], [0.3575418994413408, \"#981cfd\"], [0.44692737430167595, \"#bf1cfd\"], [0.5363128491620112, \"#dd2bfd\"], [0.6256983240223464, \"#f246fe\"], [0.7150837988826816, \"#fc67fd\"], [0.8044692737430168, \"#fe88fc\"], [0.8938547486033519, \"#fea5fd\"], [0.9832402234636871, \"#febefe\"], [1.0, \"#fec3fe\"]]}, \"colorway\": [\"#636efa\", \"#EF553B\", \"#00cc96\", \"#ab63fa\", \"#19d3f3\", \"#e763fa\", \"#FECB52\", \"#FFA15A\", \"#FF6692\", \"#B6E880\"], \"font\": {\"color\": \"#2a3f5f\"}, \"geo\": {\"bgcolor\": \"white\", \"lakecolor\": \"white\", \"landcolor\": \"#E5ECF6\", \"showlakes\": true, \"showland\": true, \"subunitcolor\": \"white\"}, \"hoverlabel\": {\"align\": \"left\"}, \"hovermode\": \"closest\", \"mapbox\": {\"style\": \"light\"}, \"paper_bgcolor\": \"white\", \"plot_bgcolor\": \"#E5ECF6\", \"polar\": {\"angularaxis\": {\"gridcolor\": \"white\", \"linecolor\": \"white\", \"ticks\": \"\"}, \"bgcolor\": \"#E5ECF6\", \"radialaxis\": {\"gridcolor\": \"white\", \"linecolor\": \"white\", \"ticks\": \"\"}}, \"scene\": {\"xaxis\": {\"backgroundcolor\": \"#E5ECF6\", \"gridcolor\": \"white\", \"gridwidth\": 2, \"linecolor\": \"white\", \"showbackground\": true, \"ticks\": \"\", \"zerolinecolor\": \"white\"}, \"yaxis\": {\"backgroundcolor\": \"#E5ECF6\", \"gridcolor\": \"white\", \"gridwidth\": 2, \"linecolor\": \"white\", \"showbackground\": true, \"ticks\": \"\", \"zerolinecolor\": \"white\"}, \"zaxis\": {\"backgroundcolor\": \"#E5ECF6\", \"gridcolor\": \"white\", \"gridwidth\": 2, \"linecolor\": \"white\", \"showbackground\": true, \"ticks\": \"\", \"zerolinecolor\": \"white\"}}, \"shapedefaults\": {\"fillcolor\": \"#506784\", \"line\": {\"width\": 0}, \"opacity\": 0.4}, \"ternary\": {\"aaxis\": {\"gridcolor\": \"white\", \"linecolor\": \"white\", \"ticks\": \"\"}, \"baxis\": {\"gridcolor\": \"white\", \"linecolor\": \"white\", \"ticks\": \"\"}, \"bgcolor\": \"#E5ECF6\", \"caxis\": {\"gridcolor\": \"white\", \"linecolor\": \"white\", \"ticks\": \"\"}}, \"title\": {\"x\": 0.05}, \"xaxis\": {\"automargin\": true, \"gridcolor\": \"white\", \"linecolor\": \"white\", \"ticks\": \"\", \"zerolinecolor\": \"white\", \"zerolinewidth\": 2}, \"yaxis\": {\"automargin\": true, \"gridcolor\": \"white\", \"linecolor\": \"white\", \"ticks\": \"\", \"zerolinecolor\": \"white\", \"zerolinewidth\": 2}}}, \"xaxis\": {\"title\": {\"text\": \"\\u5973\"}}, \"yaxis\": {\"title\": {\"text\": \"\\u81ea\\u7531\"}}},\n",
       "                        {\"showLink\": false, \"linkText\": \"Export to plot.ly\", \"plotlyServerURL\": \"https://plot.ly\", \"responsive\": true}\n",
       "                    ).then(function(){\n",
       "                            \n",
       "var gd = document.getElementById('1853bea0-431c-44ee-b2f6-0bfda14c03f2');\n",
       "var x = new MutationObserver(function (mutations, observer) {{\n",
       "        var display = window.getComputedStyle(gd).display;\n",
       "        if (!display || display === 'none') {{\n",
       "            console.log([gd, 'removed!']);\n",
       "            Plotly.purge(gd);\n",
       "            observer.disconnect();\n",
       "        }}\n",
       "}});\n",
       "\n",
       "// Listen for the removal of the full notebook cells\n",
       "var notebookContainer = gd.closest('#notebook-container');\n",
       "if (notebookContainer) {{\n",
       "    x.observe(notebookContainer, {childList: true});\n",
       "}}\n",
       "\n",
       "// Listen for the clearing of the current output cell\n",
       "var outputEl = gd.closest('.output');\n",
       "if (outputEl) {{\n",
       "    x.observe(outputEl, {childList: true});\n",
       "}}\n",
       "\n",
       "                        })\n",
       "                };\n",
       "                });\n",
       "            </script>\n",
       "        </div>"
      ]
     },
     "metadata": {},
     "output_type": "display_data"
    }
   ],
   "source": [
    "px.scatter(Meiroku_df, x='女', y='自由', hover_name='author')"
   ]
  },
  {
   "cell_type": "code",
   "execution_count": 33,
   "metadata": {},
   "outputs": [],
   "source": [
    "mask = Meiroku_df.text.str.count('男') != 0\n",
    "Meiroku_df['男'] = Meiroku_df.text.str.count('男')"
   ]
  },
  {
   "cell_type": "code",
   "execution_count": 34,
   "metadata": {},
   "outputs": [
    {
     "data": {
      "application/vnd.plotly.v1+json": {
       "config": {
        "linkText": "Export to plot.ly",
        "plotlyServerURL": "https://plot.ly",
        "showLink": false
       },
       "data": [
        {
         "hoverlabel": {
          "namelength": 0
         },
         "hovertemplate": "<b>%{hovertext}</b><br><br>女=%{x}<br>男=%{y}",
         "hovertext": [
          "西周",
          "西村茂樹",
          "加藤弘之",
          "森有礼",
          "津田真道",
          "西周",
          "森有礼",
          "西村茂樹",
          "森有礼",
          "杉亨二",
          "津田真道",
          "西周",
          "箕作麟祥",
          "加藤弘之",
          "杉亨二",
          "西周",
          "西周",
          "津田真道",
          "西周",
          "杉亨二",
          "箕作麟祥",
          "加藤弘之",
          "津田真道",
          "西周",
          "加藤弘之",
          "森有礼",
          "柴田昌吉",
          "森有礼",
          "加藤弘之",
          "箕作麟祥",
          "杉亨二",
          "津田真道",
          "清水卯三郎",
          "津田真道",
          "森有礼",
          "箕作秋坪",
          "杉亨二",
          "西周",
          "津田真道",
          "津田真道",
          "箕作麟祥",
          "西周",
          "津田真道",
          "津田真道",
          "杉亨二",
          "中村正直",
          "阪谷素",
          "津田真道",
          "森有礼",
          "中村正直",
          "阪谷素",
          "西周",
          "津田真道",
          "中村正直",
          "加藤弘之",
          "津田真道",
          "阪谷素",
          "西周",
          "箕作麟祥",
          "杉亨二",
          "津田真道",
          "森有礼",
          "中村正直",
          "阪谷素",
          "津田真道",
          "津田真道",
          "杉亨二",
          "中村正直",
          "西周",
          "神田孝平",
          "津田真道",
          "西周",
          "津田真道",
          "加藤弘之",
          "杉亨二",
          "阪谷素",
          "西周",
          "神田孝平",
          "西周",
          "神田孝平",
          "阪谷素",
          "杉亨二",
          "津田真道",
          "森有礼",
          "阪谷素",
          "阪谷素",
          "西周",
          "福沢諭吉",
          "津田真道",
          "杉亨二",
          "阪谷素",
          "西周",
          "津田真道",
          "阪谷素",
          "清水卯三郎",
          "神田孝平",
          "西周",
          "神田孝平",
          "中村正直",
          "津田真道",
          "杉亨二",
          "西周",
          "阪谷素",
          "津田真道",
          "福沢諭吉",
          "津田真道",
          "神田孝平",
          "森有礼",
          "阪谷素",
          "阪谷素",
          "西村茂樹",
          "西周",
          "西村茂樹",
          "柏原孝章",
          "森有礼",
          "津田真道",
          "柏原孝章",
          "中村正直",
          "加藤弘之",
          "西村茂樹",
          "柏原孝章",
          "福沢諭吉",
          "西周",
          "阪谷素",
          "森有礼",
          "中村正直",
          "西村茂樹",
          "柏原孝章",
          "神田孝平",
          "杉亨二",
          "神田孝平",
          "津田真道",
          "中村正直",
          "阪谷素",
          "津田真道",
          "阪谷素",
          "西村茂樹",
          "西村茂樹",
          "中村正直",
          "神田孝平",
          "西周",
          "阪谷素",
          "西周",
          "西村茂樹",
          "中村正直",
          "西周",
          "阪谷素",
          "津田真道",
          "津田仙",
          "阪谷素",
          "西村茂樹",
          "西周",
          "津田真道",
          "西村茂樹",
          "阪谷素"
         ],
         "legendgroup": "",
         "marker": {
          "color": "#636efa",
          "symbol": "circle"
         },
         "mode": "markers",
         "name": "",
         "showlegend": false,
         "type": "scatter",
         "uid": "668a1d6c-6fe5-4004-b467-40f49e58abab",
         "x": [
          0,
          0,
          0,
          0,
          0,
          0,
          0,
          0,
          0,
          0,
          0,
          0,
          0,
          0,
          0,
          0,
          0,
          0,
          0,
          0,
          0,
          0,
          0,
          0,
          0,
          0,
          0,
          0,
          0,
          0,
          0,
          0,
          0,
          0,
          0,
          1,
          0,
          0,
          0,
          0,
          0,
          0,
          0,
          0,
          0,
          0,
          0,
          0,
          0,
          0,
          0,
          0,
          0,
          0,
          0,
          0,
          0,
          0,
          0,
          0,
          0,
          1,
          0,
          0,
          0,
          0,
          1,
          0,
          0,
          0,
          0,
          0,
          0,
          0,
          1,
          0,
          0,
          0,
          0,
          0,
          0,
          0,
          0,
          1,
          0,
          0,
          0,
          0,
          0,
          0,
          18,
          0,
          1,
          0,
          0,
          0,
          0,
          0,
          0,
          0,
          0,
          0,
          0,
          0,
          1,
          0,
          0,
          2,
          0,
          1,
          0,
          0,
          0,
          0,
          0,
          0,
          0,
          0,
          1,
          0,
          0,
          4,
          0,
          11,
          0,
          0,
          0,
          0,
          0,
          0,
          0,
          0,
          0,
          2,
          1,
          0,
          0,
          0,
          0,
          0,
          0,
          0,
          0,
          0,
          0,
          0,
          1,
          0,
          0,
          0,
          0,
          0,
          0,
          0,
          1
         ],
         "xaxis": "x",
         "y": [
          1,
          0,
          0,
          0,
          0,
          0,
          0,
          0,
          0,
          0,
          0,
          0,
          0,
          0,
          0,
          0,
          0,
          0,
          0,
          0,
          0,
          0,
          0,
          0,
          2,
          0,
          0,
          0,
          0,
          0,
          0,
          0,
          0,
          0,
          0,
          0,
          0,
          0,
          0,
          0,
          0,
          0,
          0,
          0,
          0,
          0,
          0,
          0,
          1,
          0,
          0,
          0,
          0,
          0,
          1,
          0,
          1,
          0,
          0,
          0,
          0,
          6,
          0,
          0,
          0,
          0,
          1,
          0,
          0,
          0,
          0,
          0,
          0,
          0,
          2,
          2,
          1,
          0,
          0,
          0,
          1,
          0,
          2,
          1,
          0,
          1,
          0,
          0,
          0,
          0,
          13,
          0,
          2,
          0,
          0,
          0,
          0,
          0,
          0,
          0,
          0,
          0,
          0,
          0,
          0,
          0,
          0,
          2,
          0,
          0,
          0,
          0,
          0,
          0,
          0,
          0,
          0,
          0,
          8,
          0,
          0,
          10,
          0,
          17,
          0,
          8,
          0,
          0,
          0,
          5,
          0,
          5,
          0,
          0,
          6,
          0,
          0,
          0,
          0,
          0,
          0,
          0,
          0,
          0,
          0,
          0,
          1,
          0,
          0,
          0,
          0,
          0,
          0,
          0,
          1
         ],
         "yaxis": "y"
        }
       ],
       "layout": {
        "autosize": true,
        "grid": {
         "xaxes": [
          "x"
         ],
         "xgap": 0.1,
         "xside": "bottom",
         "yaxes": [
          "y"
         ],
         "ygap": 0.1,
         "yside": "left"
        },
        "legend": {
         "tracegroupgap": 0
        },
        "margin": {
         "t": 60
        },
        "template": {
         "data": {
          "bar": [
           {
            "marker": {
             "line": {
              "color": "#E5ECF6",
              "width": 0.5
             }
            },
            "type": "bar"
           }
          ],
          "barpolar": [
           {
            "marker": {
             "line": {
              "color": "#E5ECF6",
              "width": 0.5
             }
            },
            "type": "barpolar"
           }
          ],
          "carpet": [
           {
            "aaxis": {
             "endlinecolor": "#2a3f5f",
             "gridcolor": "white",
             "linecolor": "white",
             "minorgridcolor": "white",
             "startlinecolor": "#2a3f5f"
            },
            "baxis": {
             "endlinecolor": "#2a3f5f",
             "gridcolor": "white",
             "linecolor": "white",
             "minorgridcolor": "white",
             "startlinecolor": "#2a3f5f"
            },
            "type": "carpet"
           }
          ],
          "choropleth": [
           {
            "colorbar": {
             "outlinewidth": 0,
             "ticks": ""
            },
            "type": "choropleth"
           }
          ],
          "contour": [
           {
            "colorbar": {
             "outlinewidth": 0,
             "ticks": ""
            },
            "colorscale": [
             [
              0,
              "#0508b8"
             ],
             [
              0.0893854748603352,
              "#1910d8"
             ],
             [
              0.1787709497206704,
              "#3c19f0"
             ],
             [
              0.2681564245810056,
              "#6b1cfb"
             ],
             [
              0.3575418994413408,
              "#981cfd"
             ],
             [
              0.44692737430167595,
              "#bf1cfd"
             ],
             [
              0.5363128491620112,
              "#dd2bfd"
             ],
             [
              0.6256983240223464,
              "#f246fe"
             ],
             [
              0.7150837988826816,
              "#fc67fd"
             ],
             [
              0.8044692737430168,
              "#fe88fc"
             ],
             [
              0.8938547486033519,
              "#fea5fd"
             ],
             [
              0.9832402234636871,
              "#febefe"
             ],
             [
              1,
              "#fec3fe"
             ]
            ],
            "type": "contour"
           }
          ],
          "contourcarpet": [
           {
            "colorbar": {
             "outlinewidth": 0,
             "ticks": ""
            },
            "type": "contourcarpet"
           }
          ],
          "heatmap": [
           {
            "colorbar": {
             "outlinewidth": 0,
             "ticks": ""
            },
            "colorscale": [
             [
              0,
              "#0508b8"
             ],
             [
              0.0893854748603352,
              "#1910d8"
             ],
             [
              0.1787709497206704,
              "#3c19f0"
             ],
             [
              0.2681564245810056,
              "#6b1cfb"
             ],
             [
              0.3575418994413408,
              "#981cfd"
             ],
             [
              0.44692737430167595,
              "#bf1cfd"
             ],
             [
              0.5363128491620112,
              "#dd2bfd"
             ],
             [
              0.6256983240223464,
              "#f246fe"
             ],
             [
              0.7150837988826816,
              "#fc67fd"
             ],
             [
              0.8044692737430168,
              "#fe88fc"
             ],
             [
              0.8938547486033519,
              "#fea5fd"
             ],
             [
              0.9832402234636871,
              "#febefe"
             ],
             [
              1,
              "#fec3fe"
             ]
            ],
            "type": "heatmap"
           }
          ],
          "heatmapgl": [
           {
            "colorbar": {
             "outlinewidth": 0,
             "ticks": ""
            },
            "type": "heatmapgl"
           }
          ],
          "histogram": [
           {
            "marker": {
             "colorbar": {
              "outlinewidth": 0,
              "ticks": ""
             }
            },
            "type": "histogram"
           }
          ],
          "histogram2d": [
           {
            "colorbar": {
             "outlinewidth": 0,
             "ticks": ""
            },
            "colorscale": [
             [
              0,
              "#0508b8"
             ],
             [
              0.0893854748603352,
              "#1910d8"
             ],
             [
              0.1787709497206704,
              "#3c19f0"
             ],
             [
              0.2681564245810056,
              "#6b1cfb"
             ],
             [
              0.3575418994413408,
              "#981cfd"
             ],
             [
              0.44692737430167595,
              "#bf1cfd"
             ],
             [
              0.5363128491620112,
              "#dd2bfd"
             ],
             [
              0.6256983240223464,
              "#f246fe"
             ],
             [
              0.7150837988826816,
              "#fc67fd"
             ],
             [
              0.8044692737430168,
              "#fe88fc"
             ],
             [
              0.8938547486033519,
              "#fea5fd"
             ],
             [
              0.9832402234636871,
              "#febefe"
             ],
             [
              1,
              "#fec3fe"
             ]
            ],
            "type": "histogram2d"
           }
          ],
          "histogram2dcontour": [
           {
            "colorbar": {
             "outlinewidth": 0,
             "ticks": ""
            },
            "colorscale": [
             [
              0,
              "#0508b8"
             ],
             [
              0.0893854748603352,
              "#1910d8"
             ],
             [
              0.1787709497206704,
              "#3c19f0"
             ],
             [
              0.2681564245810056,
              "#6b1cfb"
             ],
             [
              0.3575418994413408,
              "#981cfd"
             ],
             [
              0.44692737430167595,
              "#bf1cfd"
             ],
             [
              0.5363128491620112,
              "#dd2bfd"
             ],
             [
              0.6256983240223464,
              "#f246fe"
             ],
             [
              0.7150837988826816,
              "#fc67fd"
             ],
             [
              0.8044692737430168,
              "#fe88fc"
             ],
             [
              0.8938547486033519,
              "#fea5fd"
             ],
             [
              0.9832402234636871,
              "#febefe"
             ],
             [
              1,
              "#fec3fe"
             ]
            ],
            "type": "histogram2dcontour"
           }
          ],
          "mesh3d": [
           {
            "colorbar": {
             "outlinewidth": 0,
             "ticks": ""
            },
            "type": "mesh3d"
           }
          ],
          "parcoords": [
           {
            "line": {
             "colorbar": {
              "outlinewidth": 0,
              "ticks": ""
             }
            },
            "type": "parcoords"
           }
          ],
          "scatter": [
           {
            "marker": {
             "colorbar": {
              "outlinewidth": 0,
              "ticks": ""
             }
            },
            "type": "scatter"
           }
          ],
          "scatter3d": [
           {
            "marker": {
             "colorbar": {
              "outlinewidth": 0,
              "ticks": ""
             }
            },
            "type": "scatter3d"
           }
          ],
          "scattercarpet": [
           {
            "marker": {
             "colorbar": {
              "outlinewidth": 0,
              "ticks": ""
             }
            },
            "type": "scattercarpet"
           }
          ],
          "scattergeo": [
           {
            "marker": {
             "colorbar": {
              "outlinewidth": 0,
              "ticks": ""
             }
            },
            "type": "scattergeo"
           }
          ],
          "scattergl": [
           {
            "marker": {
             "colorbar": {
              "outlinewidth": 0,
              "ticks": ""
             }
            },
            "type": "scattergl"
           }
          ],
          "scattermapbox": [
           {
            "marker": {
             "colorbar": {
              "outlinewidth": 0,
              "ticks": ""
             }
            },
            "type": "scattermapbox"
           }
          ],
          "scatterpolar": [
           {
            "marker": {
             "colorbar": {
              "outlinewidth": 0,
              "ticks": ""
             }
            },
            "type": "scatterpolar"
           }
          ],
          "scatterpolargl": [
           {
            "marker": {
             "colorbar": {
              "outlinewidth": 0,
              "ticks": ""
             }
            },
            "type": "scatterpolargl"
           }
          ],
          "scatterternary": [
           {
            "marker": {
             "colorbar": {
              "outlinewidth": 0,
              "ticks": ""
             }
            },
            "type": "scatterternary"
           }
          ],
          "surface": [
           {
            "colorbar": {
             "outlinewidth": 0,
             "ticks": ""
            },
            "type": "surface"
           }
          ],
          "table": [
           {
            "cells": {
             "fill": {
              "color": "#EBF0F8"
             },
             "line": {
              "color": "white"
             }
            },
            "header": {
             "fill": {
              "color": "#C8D4E3"
             },
             "line": {
              "color": "white"
             }
            },
            "type": "table"
           }
          ]
         },
         "layout": {
          "annotationdefaults": {
           "arrowcolor": "#506784",
           "arrowhead": 0,
           "arrowwidth": 1
          },
          "colorscale": {
           "diverging": [
            [
             0,
             "#8e0152"
            ],
            [
             0.1,
             "#c51b7d"
            ],
            [
             0.2,
             "#de77ae"
            ],
            [
             0.3,
             "#f1b6da"
            ],
            [
             0.4,
             "#fde0ef"
            ],
            [
             0.5,
             "#f7f7f7"
            ],
            [
             0.6,
             "#e6f5d0"
            ],
            [
             0.7,
             "#b8e186"
            ],
            [
             0.8,
             "#7fbc41"
            ],
            [
             0.9,
             "#4d9221"
            ],
            [
             1,
             "#276419"
            ]
           ],
           "sequential": [
            [
             0,
             "#0508b8"
            ],
            [
             0.0893854748603352,
             "#1910d8"
            ],
            [
             0.1787709497206704,
             "#3c19f0"
            ],
            [
             0.2681564245810056,
             "#6b1cfb"
            ],
            [
             0.3575418994413408,
             "#981cfd"
            ],
            [
             0.44692737430167595,
             "#bf1cfd"
            ],
            [
             0.5363128491620112,
             "#dd2bfd"
            ],
            [
             0.6256983240223464,
             "#f246fe"
            ],
            [
             0.7150837988826816,
             "#fc67fd"
            ],
            [
             0.8044692737430168,
             "#fe88fc"
            ],
            [
             0.8938547486033519,
             "#fea5fd"
            ],
            [
             0.9832402234636871,
             "#febefe"
            ],
            [
             1,
             "#fec3fe"
            ]
           ],
           "sequentialminus": [
            [
             0,
             "#0508b8"
            ],
            [
             0.0893854748603352,
             "#1910d8"
            ],
            [
             0.1787709497206704,
             "#3c19f0"
            ],
            [
             0.2681564245810056,
             "#6b1cfb"
            ],
            [
             0.3575418994413408,
             "#981cfd"
            ],
            [
             0.44692737430167595,
             "#bf1cfd"
            ],
            [
             0.5363128491620112,
             "#dd2bfd"
            ],
            [
             0.6256983240223464,
             "#f246fe"
            ],
            [
             0.7150837988826816,
             "#fc67fd"
            ],
            [
             0.8044692737430168,
             "#fe88fc"
            ],
            [
             0.8938547486033519,
             "#fea5fd"
            ],
            [
             0.9832402234636871,
             "#febefe"
            ],
            [
             1,
             "#fec3fe"
            ]
           ]
          },
          "colorway": [
           "#636efa",
           "#EF553B",
           "#00cc96",
           "#ab63fa",
           "#19d3f3",
           "#e763fa",
           "#FECB52",
           "#FFA15A",
           "#FF6692",
           "#B6E880"
          ],
          "font": {
           "color": "#2a3f5f"
          },
          "geo": {
           "bgcolor": "white",
           "lakecolor": "white",
           "landcolor": "#E5ECF6",
           "showlakes": true,
           "showland": true,
           "subunitcolor": "white"
          },
          "hoverlabel": {
           "align": "left"
          },
          "hovermode": "closest",
          "mapbox": {
           "style": "light"
          },
          "paper_bgcolor": "white",
          "plot_bgcolor": "#E5ECF6",
          "polar": {
           "angularaxis": {
            "gridcolor": "white",
            "linecolor": "white",
            "ticks": ""
           },
           "bgcolor": "#E5ECF6",
           "radialaxis": {
            "gridcolor": "white",
            "linecolor": "white",
            "ticks": ""
           }
          },
          "scene": {
           "xaxis": {
            "backgroundcolor": "#E5ECF6",
            "gridcolor": "white",
            "gridwidth": 2,
            "linecolor": "white",
            "showbackground": true,
            "ticks": "",
            "zerolinecolor": "white"
           },
           "yaxis": {
            "backgroundcolor": "#E5ECF6",
            "gridcolor": "white",
            "gridwidth": 2,
            "linecolor": "white",
            "showbackground": true,
            "ticks": "",
            "zerolinecolor": "white"
           },
           "zaxis": {
            "backgroundcolor": "#E5ECF6",
            "gridcolor": "white",
            "gridwidth": 2,
            "linecolor": "white",
            "showbackground": true,
            "ticks": "",
            "zerolinecolor": "white"
           }
          },
          "shapedefaults": {
           "fillcolor": "#506784",
           "line": {
            "width": 0
           },
           "opacity": 0.4
          },
          "ternary": {
           "aaxis": {
            "gridcolor": "white",
            "linecolor": "white",
            "ticks": ""
           },
           "baxis": {
            "gridcolor": "white",
            "linecolor": "white",
            "ticks": ""
           },
           "bgcolor": "#E5ECF6",
           "caxis": {
            "gridcolor": "white",
            "linecolor": "white",
            "ticks": ""
           }
          },
          "title": {
           "x": 0.05
          },
          "xaxis": {
           "automargin": true,
           "gridcolor": "white",
           "linecolor": "white",
           "ticks": "",
           "zerolinecolor": "white",
           "zerolinewidth": 2
          },
          "yaxis": {
           "automargin": true,
           "gridcolor": "white",
           "linecolor": "white",
           "ticks": "",
           "zerolinecolor": "white",
           "zerolinewidth": 2
          }
         }
        },
        "xaxis": {
         "autorange": true,
         "range": [
          -1.1292657704239915,
          19.12926577042399
         ],
         "title": {
          "text": "女"
         },
         "type": "linear"
        },
        "yaxis": {
         "autorange": true,
         "range": [
          -1.1186961869618697,
          18.11869618696187
         ],
         "title": {
          "text": "男"
         },
         "type": "linear"
        }
       }
      },
      "image/png": "[encoded data removed]",
      "text/html": [
       "<div>\n",
       "        \n",
       "        \n",
       "            <div id=\"ff7ce7ef-6a10-48ad-bec6-3431250147f8\" class=\"plotly-graph-div\" style=\"height:600px; width:100%;\"></div>\n",
       "            <script type=\"text/javascript\">\n",
       "                require([\"plotly\"], function(Plotly) {\n",
       "                    window.PLOTLYENV=window.PLOTLYENV || {};\n",
       "                    window.PLOTLYENV.BASE_URL='https://plot.ly';\n",
       "                    \n",
       "                if (document.getElementById(\"ff7ce7ef-6a10-48ad-bec6-3431250147f8\")) {\n",
       "                    Plotly.newPlot(\n",
       "                        'ff7ce7ef-6a10-48ad-bec6-3431250147f8',\n",
       "                        [{\"hoverlabel\": {\"namelength\": 0}, \"hovertemplate\": \"<b>%{hovertext}</b><br><br>\\u5973=%{x}<br>\\u7537=%{y}\", \"hovertext\": [\"\\u897f\\u5468\", \"\\u897f\\u6751\\u8302\\u6a39\", \"\\u52a0\\u85e4\\u5f18\\u4e4b\", \"\\u68ee\\u6709\\u793c\", \"\\u6d25\\u7530\\u771f\\u9053\", \"\\u897f\\u5468\", \"\\u68ee\\u6709\\u793c\", \"\\u897f\\u6751\\u8302\\u6a39\", \"\\u68ee\\u6709\\u793c\", \"\\u6749\\u4ea8\\u4e8c\", \"\\u6d25\\u7530\\u771f\\u9053\", \"\\u897f\\u5468\", \"\\u7b95\\u4f5c\\u9e9f\\u7965\", \"\\u52a0\\u85e4\\u5f18\\u4e4b\", \"\\u6749\\u4ea8\\u4e8c\", \"\\u897f\\u5468\", \"\\u897f\\u5468\", \"\\u6d25\\u7530\\u771f\\u9053\", \"\\u897f\\u5468\", \"\\u6749\\u4ea8\\u4e8c\", \"\\u7b95\\u4f5c\\u9e9f\\u7965\", \"\\u52a0\\u85e4\\u5f18\\u4e4b\", \"\\u6d25\\u7530\\u771f\\u9053\", \"\\u897f\\u5468\", \"\\u52a0\\u85e4\\u5f18\\u4e4b\", \"\\u68ee\\u6709\\u793c\", \"\\u67f4\\u7530\\u660c\\u5409\", \"\\u68ee\\u6709\\u793c\", \"\\u52a0\\u85e4\\u5f18\\u4e4b\", \"\\u7b95\\u4f5c\\u9e9f\\u7965\", \"\\u6749\\u4ea8\\u4e8c\", \"\\u6d25\\u7530\\u771f\\u9053\", \"\\u6e05\\u6c34\\u536f\\u4e09\\u90ce\", \"\\u6d25\\u7530\\u771f\\u9053\", \"\\u68ee\\u6709\\u793c\", \"\\u7b95\\u4f5c\\u79cb\\u576a\", \"\\u6749\\u4ea8\\u4e8c\", \"\\u897f\\u5468\", \"\\u6d25\\u7530\\u771f\\u9053\", \"\\u6d25\\u7530\\u771f\\u9053\", \"\\u7b95\\u4f5c\\u9e9f\\u7965\", \"\\u897f\\u5468\", \"\\u6d25\\u7530\\u771f\\u9053\", \"\\u6d25\\u7530\\u771f\\u9053\", \"\\u6749\\u4ea8\\u4e8c\", \"\\u4e2d\\u6751\\u6b63\\u76f4\", \"\\u962a\\u8c37\\u7d20\", \"\\u6d25\\u7530\\u771f\\u9053\", \"\\u68ee\\u6709\\u793c\", \"\\u4e2d\\u6751\\u6b63\\u76f4\", \"\\u962a\\u8c37\\u7d20\", \"\\u897f\\u5468\", \"\\u6d25\\u7530\\u771f\\u9053\", \"\\u4e2d\\u6751\\u6b63\\u76f4\", \"\\u52a0\\u85e4\\u5f18\\u4e4b\", \"\\u6d25\\u7530\\u771f\\u9053\", \"\\u962a\\u8c37\\u7d20\", \"\\u897f\\u5468\", \"\\u7b95\\u4f5c\\u9e9f\\u7965\", \"\\u6749\\u4ea8\\u4e8c\", \"\\u6d25\\u7530\\u771f\\u9053\", \"\\u68ee\\u6709\\u793c\", \"\\u4e2d\\u6751\\u6b63\\u76f4\", \"\\u962a\\u8c37\\u7d20\", \"\\u6d25\\u7530\\u771f\\u9053\", \"\\u6d25\\u7530\\u771f\\u9053\", \"\\u6749\\u4ea8\\u4e8c\", \"\\u4e2d\\u6751\\u6b63\\u76f4\", \"\\u897f\\u5468\", \"\\u795e\\u7530\\u5b5d\\u5e73\", \"\\u6d25\\u7530\\u771f\\u9053\", \"\\u897f\\u5468\", \"\\u6d25\\u7530\\u771f\\u9053\", \"\\u52a0\\u85e4\\u5f18\\u4e4b\", \"\\u6749\\u4ea8\\u4e8c\", \"\\u962a\\u8c37\\u7d20\", \"\\u897f\\u5468\", \"\\u795e\\u7530\\u5b5d\\u5e73\", \"\\u897f\\u5468\", \"\\u795e\\u7530\\u5b5d\\u5e73\", \"\\u962a\\u8c37\\u7d20\", \"\\u6749\\u4ea8\\u4e8c\", \"\\u6d25\\u7530\\u771f\\u9053\", \"\\u68ee\\u6709\\u793c\", \"\\u962a\\u8c37\\u7d20\", \"\\u962a\\u8c37\\u7d20\", \"\\u897f\\u5468\", \"\\u798f\\u6ca2\\u8aed\\u5409\", \"\\u6d25\\u7530\\u771f\\u9053\", \"\\u6749\\u4ea8\\u4e8c\", \"\\u962a\\u8c37\\u7d20\", \"\\u897f\\u5468\", \"\\u6d25\\u7530\\u771f\\u9053\", \"\\u962a\\u8c37\\u7d20\", \"\\u6e05\\u6c34\\u536f\\u4e09\\u90ce\", \"\\u795e\\u7530\\u5b5d\\u5e73\", \"\\u897f\\u5468\", \"\\u795e\\u7530\\u5b5d\\u5e73\", \"\\u4e2d\\u6751\\u6b63\\u76f4\", \"\\u6d25\\u7530\\u771f\\u9053\", \"\\u6749\\u4ea8\\u4e8c\", \"\\u897f\\u5468\", \"\\u962a\\u8c37\\u7d20\", \"\\u6d25\\u7530\\u771f\\u9053\", \"\\u798f\\u6ca2\\u8aed\\u5409\", \"\\u6d25\\u7530\\u771f\\u9053\", \"\\u795e\\u7530\\u5b5d\\u5e73\", \"\\u68ee\\u6709\\u793c\", \"\\u962a\\u8c37\\u7d20\", \"\\u962a\\u8c37\\u7d20\", \"\\u897f\\u6751\\u8302\\u6a39\", \"\\u897f\\u5468\", \"\\u897f\\u6751\\u8302\\u6a39\", \"\\u67cf\\u539f\\u5b5d\\u7ae0\", \"\\u68ee\\u6709\\u793c\", \"\\u6d25\\u7530\\u771f\\u9053\", \"\\u67cf\\u539f\\u5b5d\\u7ae0\", \"\\u4e2d\\u6751\\u6b63\\u76f4\", \"\\u52a0\\u85e4\\u5f18\\u4e4b\", \"\\u897f\\u6751\\u8302\\u6a39\", \"\\u67cf\\u539f\\u5b5d\\u7ae0\", \"\\u798f\\u6ca2\\u8aed\\u5409\", \"\\u897f\\u5468\", \"\\u962a\\u8c37\\u7d20\", \"\\u68ee\\u6709\\u793c\", \"\\u4e2d\\u6751\\u6b63\\u76f4\", \"\\u897f\\u6751\\u8302\\u6a39\", \"\\u67cf\\u539f\\u5b5d\\u7ae0\", \"\\u795e\\u7530\\u5b5d\\u5e73\", \"\\u6749\\u4ea8\\u4e8c\", \"\\u795e\\u7530\\u5b5d\\u5e73\", \"\\u6d25\\u7530\\u771f\\u9053\", \"\\u4e2d\\u6751\\u6b63\\u76f4\", \"\\u962a\\u8c37\\u7d20\", \"\\u6d25\\u7530\\u771f\\u9053\", \"\\u962a\\u8c37\\u7d20\", \"\\u897f\\u6751\\u8302\\u6a39\", \"\\u897f\\u6751\\u8302\\u6a39\", \"\\u4e2d\\u6751\\u6b63\\u76f4\", \"\\u795e\\u7530\\u5b5d\\u5e73\", \"\\u897f\\u5468\", \"\\u962a\\u8c37\\u7d20\", \"\\u897f\\u5468\", \"\\u897f\\u6751\\u8302\\u6a39\", \"\\u4e2d\\u6751\\u6b63\\u76f4\", \"\\u897f\\u5468\", \"\\u962a\\u8c37\\u7d20\", \"\\u6d25\\u7530\\u771f\\u9053\", \"\\u6d25\\u7530\\u4ed9\", \"\\u962a\\u8c37\\u7d20\", \"\\u897f\\u6751\\u8302\\u6a39\", \"\\u897f\\u5468\", \"\\u6d25\\u7530\\u771f\\u9053\", \"\\u897f\\u6751\\u8302\\u6a39\", \"\\u962a\\u8c37\\u7d20\"], \"legendgroup\": \"\", \"marker\": {\"color\": \"#636efa\", \"symbol\": \"circle\"}, \"mode\": \"markers\", \"name\": \"\", \"showlegend\": false, \"type\": \"scatter\", \"uid\": \"668a1d6c-6fe5-4004-b467-40f49e58abab\", \"x\": [0, 0, 0, 0, 0, 0, 0, 0, 0, 0, 0, 0, 0, 0, 0, 0, 0, 0, 0, 0, 0, 0, 0, 0, 0, 0, 0, 0, 0, 0, 0, 0, 0, 0, 0, 1, 0, 0, 0, 0, 0, 0, 0, 0, 0, 0, 0, 0, 0, 0, 0, 0, 0, 0, 0, 0, 0, 0, 0, 0, 0, 1, 0, 0, 0, 0, 1, 0, 0, 0, 0, 0, 0, 0, 1, 0, 0, 0, 0, 0, 0, 0, 0, 1, 0, 0, 0, 0, 0, 0, 18, 0, 1, 0, 0, 0, 0, 0, 0, 0, 0, 0, 0, 0, 1, 0, 0, 2, 0, 1, 0, 0, 0, 0, 0, 0, 0, 0, 1, 0, 0, 4, 0, 11, 0, 0, 0, 0, 0, 0, 0, 0, 0, 2, 1, 0, 0, 0, 0, 0, 0, 0, 0, 0, 0, 0, 1, 0, 0, 0, 0, 0, 0, 0, 1], \"xaxis\": \"x\", \"y\": [1, 0, 0, 0, 0, 0, 0, 0, 0, 0, 0, 0, 0, 0, 0, 0, 0, 0, 0, 0, 0, 0, 0, 0, 2, 0, 0, 0, 0, 0, 0, 0, 0, 0, 0, 0, 0, 0, 0, 0, 0, 0, 0, 0, 0, 0, 0, 0, 1, 0, 0, 0, 0, 0, 1, 0, 1, 0, 0, 0, 0, 6, 0, 0, 0, 0, 1, 0, 0, 0, 0, 0, 0, 0, 2, 2, 1, 0, 0, 0, 1, 0, 2, 1, 0, 1, 0, 0, 0, 0, 13, 0, 2, 0, 0, 0, 0, 0, 0, 0, 0, 0, 0, 0, 0, 0, 0, 2, 0, 0, 0, 0, 0, 0, 0, 0, 0, 0, 8, 0, 0, 10, 0, 17, 0, 8, 0, 0, 0, 5, 0, 5, 0, 0, 6, 0, 0, 0, 0, 0, 0, 0, 0, 0, 0, 0, 1, 0, 0, 0, 0, 0, 0, 0, 1], \"yaxis\": \"y\"}],\n",
       "                        {\"grid\": {\"xaxes\": [\"x\"], \"xgap\": 0.1, \"xside\": \"bottom\", \"yaxes\": [\"y\"], \"ygap\": 0.1, \"yside\": \"left\"}, \"height\": 600, \"legend\": {\"tracegroupgap\": 0}, \"margin\": {\"t\": 60}, \"template\": {\"data\": {\"bar\": [{\"marker\": {\"line\": {\"color\": \"#E5ECF6\", \"width\": 0.5}}, \"type\": \"bar\"}], \"barpolar\": [{\"marker\": {\"line\": {\"color\": \"#E5ECF6\", \"width\": 0.5}}, \"type\": \"barpolar\"}], \"carpet\": [{\"aaxis\": {\"endlinecolor\": \"#2a3f5f\", \"gridcolor\": \"white\", \"linecolor\": \"white\", \"minorgridcolor\": \"white\", \"startlinecolor\": \"#2a3f5f\"}, \"baxis\": {\"endlinecolor\": \"#2a3f5f\", \"gridcolor\": \"white\", \"linecolor\": \"white\", \"minorgridcolor\": \"white\", \"startlinecolor\": \"#2a3f5f\"}, \"type\": \"carpet\"}], \"choropleth\": [{\"colorbar\": {\"outlinewidth\": 0, \"ticks\": \"\"}, \"type\": \"choropleth\"}], \"contour\": [{\"colorbar\": {\"outlinewidth\": 0, \"ticks\": \"\"}, \"colorscale\": [[0.0, \"#0508b8\"], [0.0893854748603352, \"#1910d8\"], [0.1787709497206704, \"#3c19f0\"], [0.2681564245810056, \"#6b1cfb\"], [0.3575418994413408, \"#981cfd\"], [0.44692737430167595, \"#bf1cfd\"], [0.5363128491620112, \"#dd2bfd\"], [0.6256983240223464, \"#f246fe\"], [0.7150837988826816, \"#fc67fd\"], [0.8044692737430168, \"#fe88fc\"], [0.8938547486033519, \"#fea5fd\"], [0.9832402234636871, \"#febefe\"], [1.0, \"#fec3fe\"]], \"type\": \"contour\"}], \"contourcarpet\": [{\"colorbar\": {\"outlinewidth\": 0, \"ticks\": \"\"}, \"type\": \"contourcarpet\"}], \"heatmap\": [{\"colorbar\": {\"outlinewidth\": 0, \"ticks\": \"\"}, \"colorscale\": [[0.0, \"#0508b8\"], [0.0893854748603352, \"#1910d8\"], [0.1787709497206704, \"#3c19f0\"], [0.2681564245810056, \"#6b1cfb\"], [0.3575418994413408, \"#981cfd\"], [0.44692737430167595, \"#bf1cfd\"], [0.5363128491620112, \"#dd2bfd\"], [0.6256983240223464, \"#f246fe\"], [0.7150837988826816, \"#fc67fd\"], [0.8044692737430168, \"#fe88fc\"], [0.8938547486033519, \"#fea5fd\"], [0.9832402234636871, \"#febefe\"], [1.0, \"#fec3fe\"]], \"type\": \"heatmap\"}], \"heatmapgl\": [{\"colorbar\": {\"outlinewidth\": 0, \"ticks\": \"\"}, \"type\": \"heatmapgl\"}], \"histogram\": [{\"marker\": {\"colorbar\": {\"outlinewidth\": 0, \"ticks\": \"\"}}, \"type\": \"histogram\"}], \"histogram2d\": [{\"colorbar\": {\"outlinewidth\": 0, \"ticks\": \"\"}, \"colorscale\": [[0.0, \"#0508b8\"], [0.0893854748603352, \"#1910d8\"], [0.1787709497206704, \"#3c19f0\"], [0.2681564245810056, \"#6b1cfb\"], [0.3575418994413408, \"#981cfd\"], [0.44692737430167595, \"#bf1cfd\"], [0.5363128491620112, \"#dd2bfd\"], [0.6256983240223464, \"#f246fe\"], [0.7150837988826816, \"#fc67fd\"], [0.8044692737430168, \"#fe88fc\"], [0.8938547486033519, \"#fea5fd\"], [0.9832402234636871, \"#febefe\"], [1.0, \"#fec3fe\"]], \"type\": \"histogram2d\"}], \"histogram2dcontour\": [{\"colorbar\": {\"outlinewidth\": 0, \"ticks\": \"\"}, \"colorscale\": [[0.0, \"#0508b8\"], [0.0893854748603352, \"#1910d8\"], [0.1787709497206704, \"#3c19f0\"], [0.2681564245810056, \"#6b1cfb\"], [0.3575418994413408, \"#981cfd\"], [0.44692737430167595, \"#bf1cfd\"], [0.5363128491620112, \"#dd2bfd\"], [0.6256983240223464, \"#f246fe\"], [0.7150837988826816, \"#fc67fd\"], [0.8044692737430168, \"#fe88fc\"], [0.8938547486033519, \"#fea5fd\"], [0.9832402234636871, \"#febefe\"], [1.0, \"#fec3fe\"]], \"type\": \"histogram2dcontour\"}], \"mesh3d\": [{\"colorbar\": {\"outlinewidth\": 0, \"ticks\": \"\"}, \"type\": \"mesh3d\"}], \"parcoords\": [{\"line\": {\"colorbar\": {\"outlinewidth\": 0, \"ticks\": \"\"}}, \"type\": \"parcoords\"}], \"scatter\": [{\"marker\": {\"colorbar\": {\"outlinewidth\": 0, \"ticks\": \"\"}}, \"type\": \"scatter\"}], \"scatter3d\": [{\"marker\": {\"colorbar\": {\"outlinewidth\": 0, \"ticks\": \"\"}}, \"type\": \"scatter3d\"}], \"scattercarpet\": [{\"marker\": {\"colorbar\": {\"outlinewidth\": 0, \"ticks\": \"\"}}, \"type\": \"scattercarpet\"}], \"scattergeo\": [{\"marker\": {\"colorbar\": {\"outlinewidth\": 0, \"ticks\": \"\"}}, \"type\": \"scattergeo\"}], \"scattergl\": [{\"marker\": {\"colorbar\": {\"outlinewidth\": 0, \"ticks\": \"\"}}, \"type\": \"scattergl\"}], \"scattermapbox\": [{\"marker\": {\"colorbar\": {\"outlinewidth\": 0, \"ticks\": \"\"}}, \"type\": \"scattermapbox\"}], \"scatterpolar\": [{\"marker\": {\"colorbar\": {\"outlinewidth\": 0, \"ticks\": \"\"}}, \"type\": \"scatterpolar\"}], \"scatterpolargl\": [{\"marker\": {\"colorbar\": {\"outlinewidth\": 0, \"ticks\": \"\"}}, \"type\": \"scatterpolargl\"}], \"scatterternary\": [{\"marker\": {\"colorbar\": {\"outlinewidth\": 0, \"ticks\": \"\"}}, \"type\": \"scatterternary\"}], \"surface\": [{\"colorbar\": {\"outlinewidth\": 0, \"ticks\": \"\"}, \"type\": \"surface\"}], \"table\": [{\"cells\": {\"fill\": {\"color\": \"#EBF0F8\"}, \"line\": {\"color\": \"white\"}}, \"header\": {\"fill\": {\"color\": \"#C8D4E3\"}, \"line\": {\"color\": \"white\"}}, \"type\": \"table\"}]}, \"layout\": {\"annotationdefaults\": {\"arrowcolor\": \"#506784\", \"arrowhead\": 0, \"arrowwidth\": 1}, \"colorscale\": {\"diverging\": [[0, \"#8e0152\"], [0.1, \"#c51b7d\"], [0.2, \"#de77ae\"], [0.3, \"#f1b6da\"], [0.4, \"#fde0ef\"], [0.5, \"#f7f7f7\"], [0.6, \"#e6f5d0\"], [0.7, \"#b8e186\"], [0.8, \"#7fbc41\"], [0.9, \"#4d9221\"], [1, \"#276419\"]], \"sequential\": [[0.0, \"#0508b8\"], [0.0893854748603352, \"#1910d8\"], [0.1787709497206704, \"#3c19f0\"], [0.2681564245810056, \"#6b1cfb\"], [0.3575418994413408, \"#981cfd\"], [0.44692737430167595, \"#bf1cfd\"], [0.5363128491620112, \"#dd2bfd\"], [0.6256983240223464, \"#f246fe\"], [0.7150837988826816, \"#fc67fd\"], [0.8044692737430168, \"#fe88fc\"], [0.8938547486033519, \"#fea5fd\"], [0.9832402234636871, \"#febefe\"], [1.0, \"#fec3fe\"]], \"sequentialminus\": [[0.0, \"#0508b8\"], [0.0893854748603352, \"#1910d8\"], [0.1787709497206704, \"#3c19f0\"], [0.2681564245810056, \"#6b1cfb\"], [0.3575418994413408, \"#981cfd\"], [0.44692737430167595, \"#bf1cfd\"], [0.5363128491620112, \"#dd2bfd\"], [0.6256983240223464, \"#f246fe\"], [0.7150837988826816, \"#fc67fd\"], [0.8044692737430168, \"#fe88fc\"], [0.8938547486033519, \"#fea5fd\"], [0.9832402234636871, \"#febefe\"], [1.0, \"#fec3fe\"]]}, \"colorway\": [\"#636efa\", \"#EF553B\", \"#00cc96\", \"#ab63fa\", \"#19d3f3\", \"#e763fa\", \"#FECB52\", \"#FFA15A\", \"#FF6692\", \"#B6E880\"], \"font\": {\"color\": \"#2a3f5f\"}, \"geo\": {\"bgcolor\": \"white\", \"lakecolor\": \"white\", \"landcolor\": \"#E5ECF6\", \"showlakes\": true, \"showland\": true, \"subunitcolor\": \"white\"}, \"hoverlabel\": {\"align\": \"left\"}, \"hovermode\": \"closest\", \"mapbox\": {\"style\": \"light\"}, \"paper_bgcolor\": \"white\", \"plot_bgcolor\": \"#E5ECF6\", \"polar\": {\"angularaxis\": {\"gridcolor\": \"white\", \"linecolor\": \"white\", \"ticks\": \"\"}, \"bgcolor\": \"#E5ECF6\", \"radialaxis\": {\"gridcolor\": \"white\", \"linecolor\": \"white\", \"ticks\": \"\"}}, \"scene\": {\"xaxis\": {\"backgroundcolor\": \"#E5ECF6\", \"gridcolor\": \"white\", \"gridwidth\": 2, \"linecolor\": \"white\", \"showbackground\": true, \"ticks\": \"\", \"zerolinecolor\": \"white\"}, \"yaxis\": {\"backgroundcolor\": \"#E5ECF6\", \"gridcolor\": \"white\", \"gridwidth\": 2, \"linecolor\": \"white\", \"showbackground\": true, \"ticks\": \"\", \"zerolinecolor\": \"white\"}, \"zaxis\": {\"backgroundcolor\": \"#E5ECF6\", \"gridcolor\": \"white\", \"gridwidth\": 2, \"linecolor\": \"white\", \"showbackground\": true, \"ticks\": \"\", \"zerolinecolor\": \"white\"}}, \"shapedefaults\": {\"fillcolor\": \"#506784\", \"line\": {\"width\": 0}, \"opacity\": 0.4}, \"ternary\": {\"aaxis\": {\"gridcolor\": \"white\", \"linecolor\": \"white\", \"ticks\": \"\"}, \"baxis\": {\"gridcolor\": \"white\", \"linecolor\": \"white\", \"ticks\": \"\"}, \"bgcolor\": \"#E5ECF6\", \"caxis\": {\"gridcolor\": \"white\", \"linecolor\": \"white\", \"ticks\": \"\"}}, \"title\": {\"x\": 0.05}, \"xaxis\": {\"automargin\": true, \"gridcolor\": \"white\", \"linecolor\": \"white\", \"ticks\": \"\", \"zerolinecolor\": \"white\", \"zerolinewidth\": 2}, \"yaxis\": {\"automargin\": true, \"gridcolor\": \"white\", \"linecolor\": \"white\", \"ticks\": \"\", \"zerolinecolor\": \"white\", \"zerolinewidth\": 2}}}, \"xaxis\": {\"title\": {\"text\": \"\\u5973\"}}, \"yaxis\": {\"title\": {\"text\": \"\\u7537\"}}},\n",
       "                        {\"showLink\": false, \"linkText\": \"Export to plot.ly\", \"plotlyServerURL\": \"https://plot.ly\", \"responsive\": true}\n",
       "                    ).then(function(){\n",
       "                            \n",
       "var gd = document.getElementById('ff7ce7ef-6a10-48ad-bec6-3431250147f8');\n",
       "var x = new MutationObserver(function (mutations, observer) {{\n",
       "        var display = window.getComputedStyle(gd).display;\n",
       "        if (!display || display === 'none') {{\n",
       "            console.log([gd, 'removed!']);\n",
       "            Plotly.purge(gd);\n",
       "            observer.disconnect();\n",
       "        }}\n",
       "}});\n",
       "\n",
       "// Listen for the removal of the full notebook cells\n",
       "var notebookContainer = gd.closest('#notebook-container');\n",
       "if (notebookContainer) {{\n",
       "    x.observe(notebookContainer, {childList: true});\n",
       "}}\n",
       "\n",
       "// Listen for the clearing of the current output cell\n",
       "var outputEl = gd.closest('.output');\n",
       "if (outputEl) {{\n",
       "    x.observe(outputEl, {childList: true});\n",
       "}}\n",
       "\n",
       "                        })\n",
       "                };\n",
       "                });\n",
       "            </script>\n",
       "        </div>"
      ]
     },
     "metadata": {},
     "output_type": "display_data"
    }
   ],
   "source": [
    "px.scatter(Meiroku_df, x='女', y='男', hover_name='author')"
   ]
  },
  {
   "cell_type": "code",
   "execution_count": 35,
   "metadata": {},
   "outputs": [
    {
     "data": {
      "application/vnd.plotly.v1+json": {
       "config": {
        "linkText": "Export to plot.ly",
        "plotlyServerURL": "https://plot.ly",
        "showLink": false
       },
       "data": [
        {
         "hoverlabel": {
          "namelength": 0
         },
         "hovertemplate": "<b>%{hovertext}</b><br><br>issue=%{x}<br>女=%{y}",
         "hovertext": [
          "西周",
          "西村茂樹",
          "加藤弘之",
          "森有礼",
          "津田真道",
          "西周",
          "森有礼",
          "西村茂樹",
          "森有礼",
          "杉亨二",
          "津田真道",
          "西周",
          "箕作麟祥",
          "加藤弘之",
          "杉亨二",
          "西周",
          "西周",
          "津田真道",
          "西周",
          "杉亨二",
          "箕作麟祥",
          "加藤弘之",
          "津田真道",
          "西周",
          "加藤弘之",
          "森有礼",
          "柴田昌吉",
          "森有礼",
          "加藤弘之",
          "箕作麟祥",
          "杉亨二",
          "津田真道",
          "清水卯三郎",
          "津田真道",
          "森有礼",
          "箕作秋坪",
          "杉亨二",
          "西周",
          "津田真道",
          "津田真道",
          "箕作麟祥",
          "西周",
          "津田真道",
          "津田真道",
          "杉亨二",
          "中村正直",
          "阪谷素",
          "津田真道",
          "森有礼",
          "中村正直",
          "阪谷素",
          "西周",
          "津田真道",
          "中村正直",
          "加藤弘之",
          "津田真道",
          "阪谷素",
          "西周",
          "箕作麟祥",
          "杉亨二",
          "津田真道",
          "森有礼",
          "中村正直",
          "阪谷素",
          "津田真道",
          "津田真道",
          "杉亨二",
          "中村正直",
          "西周",
          "神田孝平",
          "津田真道",
          "西周",
          "津田真道",
          "加藤弘之",
          "杉亨二",
          "阪谷素",
          "西周",
          "神田孝平",
          "西周",
          "神田孝平",
          "阪谷素",
          "杉亨二",
          "津田真道",
          "森有礼",
          "阪谷素",
          "阪谷素",
          "西周",
          "福沢諭吉",
          "津田真道",
          "杉亨二",
          "阪谷素",
          "西周",
          "津田真道",
          "阪谷素",
          "清水卯三郎",
          "神田孝平",
          "西周",
          "神田孝平",
          "中村正直",
          "津田真道",
          "杉亨二",
          "西周",
          "阪谷素",
          "津田真道",
          "福沢諭吉",
          "津田真道",
          "神田孝平",
          "森有礼",
          "阪谷素",
          "阪谷素",
          "西村茂樹",
          "西周",
          "西村茂樹",
          "柏原孝章",
          "森有礼",
          "津田真道",
          "柏原孝章",
          "中村正直",
          "加藤弘之",
          "西村茂樹",
          "柏原孝章",
          "福沢諭吉",
          "西周",
          "阪谷素",
          "森有礼",
          "中村正直",
          "西村茂樹",
          "柏原孝章",
          "神田孝平",
          "杉亨二",
          "神田孝平",
          "津田真道",
          "中村正直",
          "阪谷素",
          "津田真道",
          "阪谷素",
          "西村茂樹",
          "西村茂樹",
          "中村正直",
          "神田孝平",
          "西周",
          "阪谷素",
          "西周",
          "西村茂樹",
          "中村正直",
          "西周",
          "阪谷素",
          "津田真道",
          "津田仙",
          "阪谷素",
          "西村茂樹",
          "西周",
          "津田真道",
          "西村茂樹",
          "阪谷素"
         ],
         "legendgroup": "",
         "marker": {
          "color": "#636efa",
          "symbol": "circle"
         },
         "mode": "markers",
         "name": "",
         "showlegend": false,
         "type": "scatter",
         "uid": "5c505c50-0962-4f1d-a52c-54007de71a3b",
         "x": [
          1,
          1,
          2,
          2,
          2,
          2,
          3,
          3,
          3,
          3,
          3,
          3,
          4,
          4,
          4,
          4,
          4,
          5,
          5,
          5,
          5,
          5,
          6,
          6,
          6,
          6,
          6,
          7,
          7,
          7,
          7,
          7,
          7,
          8,
          8,
          8,
          8,
          8,
          8,
          9,
          9,
          9,
          9,
          10,
          10,
          10,
          10,
          11,
          11,
          11,
          11,
          12,
          12,
          12,
          13,
          13,
          13,
          14,
          14,
          14,
          14,
          15,
          15,
          15,
          15,
          16,
          16,
          16,
          16,
          17,
          17,
          17,
          18,
          18,
          18,
          18,
          18,
          18,
          19,
          19,
          19,
          19,
          20,
          20,
          20,
          20,
          20,
          21,
          21,
          21,
          21,
          22,
          22,
          22,
          22,
          22,
          23,
          23,
          23,
          24,
          24,
          25,
          25,
          25,
          26,
          26,
          26,
          27,
          27,
          28,
          28,
          29,
          29,
          29,
          30,
          30,
          30,
          30,
          31,
          31,
          31,
          31,
          32,
          32,
          32,
          33,
          33,
          33,
          33,
          34,
          34,
          34,
          35,
          35,
          35,
          36,
          36,
          37,
          37,
          37,
          38,
          38,
          39,
          39,
          39,
          40,
          40,
          41,
          41,
          41,
          42,
          42,
          42,
          43,
          43
         ],
         "xaxis": "x",
         "y": [
          0,
          0,
          0,
          0,
          0,
          0,
          0,
          0,
          0,
          0,
          0,
          0,
          0,
          0,
          0,
          0,
          0,
          0,
          0,
          0,
          0,
          0,
          0,
          0,
          0,
          0,
          0,
          0,
          0,
          0,
          0,
          0,
          0,
          0,
          0,
          1,
          0,
          0,
          0,
          0,
          0,
          0,
          0,
          0,
          0,
          0,
          0,
          0,
          0,
          0,
          0,
          0,
          0,
          0,
          0,
          0,
          0,
          0,
          0,
          0,
          0,
          1,
          0,
          0,
          0,
          0,
          1,
          0,
          0,
          0,
          0,
          0,
          0,
          0,
          1,
          0,
          0,
          0,
          0,
          0,
          0,
          0,
          0,
          1,
          0,
          0,
          0,
          0,
          0,
          0,
          18,
          0,
          1,
          0,
          0,
          0,
          0,
          0,
          0,
          0,
          0,
          0,
          0,
          0,
          1,
          0,
          0,
          2,
          0,
          1,
          0,
          0,
          0,
          0,
          0,
          0,
          0,
          0,
          1,
          0,
          0,
          4,
          0,
          11,
          0,
          0,
          0,
          0,
          0,
          0,
          0,
          0,
          0,
          2,
          1,
          0,
          0,
          0,
          0,
          0,
          0,
          0,
          0,
          0,
          0,
          0,
          1,
          0,
          0,
          0,
          0,
          0,
          0,
          0,
          1
         ],
         "yaxis": "y"
        }
       ],
       "layout": {
        "autosize": true,
        "grid": {
         "xaxes": [
          "x"
         ],
         "xgap": 0.1,
         "xside": "bottom",
         "yaxes": [
          "y"
         ],
         "ygap": 0.1,
         "yside": "left"
        },
        "legend": {
         "tracegroupgap": 0
        },
        "margin": {
         "t": 60
        },
        "template": {
         "data": {
          "bar": [
           {
            "marker": {
             "line": {
              "color": "#E5ECF6",
              "width": 0.5
             }
            },
            "type": "bar"
           }
          ],
          "barpolar": [
           {
            "marker": {
             "line": {
              "color": "#E5ECF6",
              "width": 0.5
             }
            },
            "type": "barpolar"
           }
          ],
          "carpet": [
           {
            "aaxis": {
             "endlinecolor": "#2a3f5f",
             "gridcolor": "white",
             "linecolor": "white",
             "minorgridcolor": "white",
             "startlinecolor": "#2a3f5f"
            },
            "baxis": {
             "endlinecolor": "#2a3f5f",
             "gridcolor": "white",
             "linecolor": "white",
             "minorgridcolor": "white",
             "startlinecolor": "#2a3f5f"
            },
            "type": "carpet"
           }
          ],
          "choropleth": [
           {
            "colorbar": {
             "outlinewidth": 0,
             "ticks": ""
            },
            "type": "choropleth"
           }
          ],
          "contour": [
           {
            "colorbar": {
             "outlinewidth": 0,
             "ticks": ""
            },
            "colorscale": [
             [
              0,
              "#0508b8"
             ],
             [
              0.0893854748603352,
              "#1910d8"
             ],
             [
              0.1787709497206704,
              "#3c19f0"
             ],
             [
              0.2681564245810056,
              "#6b1cfb"
             ],
             [
              0.3575418994413408,
              "#981cfd"
             ],
             [
              0.44692737430167595,
              "#bf1cfd"
             ],
             [
              0.5363128491620112,
              "#dd2bfd"
             ],
             [
              0.6256983240223464,
              "#f246fe"
             ],
             [
              0.7150837988826816,
              "#fc67fd"
             ],
             [
              0.8044692737430168,
              "#fe88fc"
             ],
             [
              0.8938547486033519,
              "#fea5fd"
             ],
             [
              0.9832402234636871,
              "#febefe"
             ],
             [
              1,
              "#fec3fe"
             ]
            ],
            "type": "contour"
           }
          ],
          "contourcarpet": [
           {
            "colorbar": {
             "outlinewidth": 0,
             "ticks": ""
            },
            "type": "contourcarpet"
           }
          ],
          "heatmap": [
           {
            "colorbar": {
             "outlinewidth": 0,
             "ticks": ""
            },
            "colorscale": [
             [
              0,
              "#0508b8"
             ],
             [
              0.0893854748603352,
              "#1910d8"
             ],
             [
              0.1787709497206704,
              "#3c19f0"
             ],
             [
              0.2681564245810056,
              "#6b1cfb"
             ],
             [
              0.3575418994413408,
              "#981cfd"
             ],
             [
              0.44692737430167595,
              "#bf1cfd"
             ],
             [
              0.5363128491620112,
              "#dd2bfd"
             ],
             [
              0.6256983240223464,
              "#f246fe"
             ],
             [
              0.7150837988826816,
              "#fc67fd"
             ],
             [
              0.8044692737430168,
              "#fe88fc"
             ],
             [
              0.8938547486033519,
              "#fea5fd"
             ],
             [
              0.9832402234636871,
              "#febefe"
             ],
             [
              1,
              "#fec3fe"
             ]
            ],
            "type": "heatmap"
           }
          ],
          "heatmapgl": [
           {
            "colorbar": {
             "outlinewidth": 0,
             "ticks": ""
            },
            "type": "heatmapgl"
           }
          ],
          "histogram": [
           {
            "marker": {
             "colorbar": {
              "outlinewidth": 0,
              "ticks": ""
             }
            },
            "type": "histogram"
           }
          ],
          "histogram2d": [
           {
            "colorbar": {
             "outlinewidth": 0,
             "ticks": ""
            },
            "colorscale": [
             [
              0,
              "#0508b8"
             ],
             [
              0.0893854748603352,
              "#1910d8"
             ],
             [
              0.1787709497206704,
              "#3c19f0"
             ],
             [
              0.2681564245810056,
              "#6b1cfb"
             ],
             [
              0.3575418994413408,
              "#981cfd"
             ],
             [
              0.44692737430167595,
              "#bf1cfd"
             ],
             [
              0.5363128491620112,
              "#dd2bfd"
             ],
             [
              0.6256983240223464,
              "#f246fe"
             ],
             [
              0.7150837988826816,
              "#fc67fd"
             ],
             [
              0.8044692737430168,
              "#fe88fc"
             ],
             [
              0.8938547486033519,
              "#fea5fd"
             ],
             [
              0.9832402234636871,
              "#febefe"
             ],
             [
              1,
              "#fec3fe"
             ]
            ],
            "type": "histogram2d"
           }
          ],
          "histogram2dcontour": [
           {
            "colorbar": {
             "outlinewidth": 0,
             "ticks": ""
            },
            "colorscale": [
             [
              0,
              "#0508b8"
             ],
             [
              0.0893854748603352,
              "#1910d8"
             ],
             [
              0.1787709497206704,
              "#3c19f0"
             ],
             [
              0.2681564245810056,
              "#6b1cfb"
             ],
             [
              0.3575418994413408,
              "#981cfd"
             ],
             [
              0.44692737430167595,
              "#bf1cfd"
             ],
             [
              0.5363128491620112,
              "#dd2bfd"
             ],
             [
              0.6256983240223464,
              "#f246fe"
             ],
             [
              0.7150837988826816,
              "#fc67fd"
             ],
             [
              0.8044692737430168,
              "#fe88fc"
             ],
             [
              0.8938547486033519,
              "#fea5fd"
             ],
             [
              0.9832402234636871,
              "#febefe"
             ],
             [
              1,
              "#fec3fe"
             ]
            ],
            "type": "histogram2dcontour"
           }
          ],
          "mesh3d": [
           {
            "colorbar": {
             "outlinewidth": 0,
             "ticks": ""
            },
            "type": "mesh3d"
           }
          ],
          "parcoords": [
           {
            "line": {
             "colorbar": {
              "outlinewidth": 0,
              "ticks": ""
             }
            },
            "type": "parcoords"
           }
          ],
          "scatter": [
           {
            "marker": {
             "colorbar": {
              "outlinewidth": 0,
              "ticks": ""
             }
            },
            "type": "scatter"
           }
          ],
          "scatter3d": [
           {
            "marker": {
             "colorbar": {
              "outlinewidth": 0,
              "ticks": ""
             }
            },
            "type": "scatter3d"
           }
          ],
          "scattercarpet": [
           {
            "marker": {
             "colorbar": {
              "outlinewidth": 0,
              "ticks": ""
             }
            },
            "type": "scattercarpet"
           }
          ],
          "scattergeo": [
           {
            "marker": {
             "colorbar": {
              "outlinewidth": 0,
              "ticks": ""
             }
            },
            "type": "scattergeo"
           }
          ],
          "scattergl": [
           {
            "marker": {
             "colorbar": {
              "outlinewidth": 0,
              "ticks": ""
             }
            },
            "type": "scattergl"
           }
          ],
          "scattermapbox": [
           {
            "marker": {
             "colorbar": {
              "outlinewidth": 0,
              "ticks": ""
             }
            },
            "type": "scattermapbox"
           }
          ],
          "scatterpolar": [
           {
            "marker": {
             "colorbar": {
              "outlinewidth": 0,
              "ticks": ""
             }
            },
            "type": "scatterpolar"
           }
          ],
          "scatterpolargl": [
           {
            "marker": {
             "colorbar": {
              "outlinewidth": 0,
              "ticks": ""
             }
            },
            "type": "scatterpolargl"
           }
          ],
          "scatterternary": [
           {
            "marker": {
             "colorbar": {
              "outlinewidth": 0,
              "ticks": ""
             }
            },
            "type": "scatterternary"
           }
          ],
          "surface": [
           {
            "colorbar": {
             "outlinewidth": 0,
             "ticks": ""
            },
            "type": "surface"
           }
          ],
          "table": [
           {
            "cells": {
             "fill": {
              "color": "#EBF0F8"
             },
             "line": {
              "color": "white"
             }
            },
            "header": {
             "fill": {
              "color": "#C8D4E3"
             },
             "line": {
              "color": "white"
             }
            },
            "type": "table"
           }
          ]
         },
         "layout": {
          "annotationdefaults": {
           "arrowcolor": "#506784",
           "arrowhead": 0,
           "arrowwidth": 1
          },
          "colorscale": {
           "diverging": [
            [
             0,
             "#8e0152"
            ],
            [
             0.1,
             "#c51b7d"
            ],
            [
             0.2,
             "#de77ae"
            ],
            [
             0.3,
             "#f1b6da"
            ],
            [
             0.4,
             "#fde0ef"
            ],
            [
             0.5,
             "#f7f7f7"
            ],
            [
             0.6,
             "#e6f5d0"
            ],
            [
             0.7,
             "#b8e186"
            ],
            [
             0.8,
             "#7fbc41"
            ],
            [
             0.9,
             "#4d9221"
            ],
            [
             1,
             "#276419"
            ]
           ],
           "sequential": [
            [
             0,
             "#0508b8"
            ],
            [
             0.0893854748603352,
             "#1910d8"
            ],
            [
             0.1787709497206704,
             "#3c19f0"
            ],
            [
             0.2681564245810056,
             "#6b1cfb"
            ],
            [
             0.3575418994413408,
             "#981cfd"
            ],
            [
             0.44692737430167595,
             "#bf1cfd"
            ],
            [
             0.5363128491620112,
             "#dd2bfd"
            ],
            [
             0.6256983240223464,
             "#f246fe"
            ],
            [
             0.7150837988826816,
             "#fc67fd"
            ],
            [
             0.8044692737430168,
             "#fe88fc"
            ],
            [
             0.8938547486033519,
             "#fea5fd"
            ],
            [
             0.9832402234636871,
             "#febefe"
            ],
            [
             1,
             "#fec3fe"
            ]
           ],
           "sequentialminus": [
            [
             0,
             "#0508b8"
            ],
            [
             0.0893854748603352,
             "#1910d8"
            ],
            [
             0.1787709497206704,
             "#3c19f0"
            ],
            [
             0.2681564245810056,
             "#6b1cfb"
            ],
            [
             0.3575418994413408,
             "#981cfd"
            ],
            [
             0.44692737430167595,
             "#bf1cfd"
            ],
            [
             0.5363128491620112,
             "#dd2bfd"
            ],
            [
             0.6256983240223464,
             "#f246fe"
            ],
            [
             0.7150837988826816,
             "#fc67fd"
            ],
            [
             0.8044692737430168,
             "#fe88fc"
            ],
            [
             0.8938547486033519,
             "#fea5fd"
            ],
            [
             0.9832402234636871,
             "#febefe"
            ],
            [
             1,
             "#fec3fe"
            ]
           ]
          },
          "colorway": [
           "#636efa",
           "#EF553B",
           "#00cc96",
           "#ab63fa",
           "#19d3f3",
           "#e763fa",
           "#FECB52",
           "#FFA15A",
           "#FF6692",
           "#B6E880"
          ],
          "font": {
           "color": "#2a3f5f"
          },
          "geo": {
           "bgcolor": "white",
           "lakecolor": "white",
           "landcolor": "#E5ECF6",
           "showlakes": true,
           "showland": true,
           "subunitcolor": "white"
          },
          "hoverlabel": {
           "align": "left"
          },
          "hovermode": "closest",
          "mapbox": {
           "style": "light"
          },
          "paper_bgcolor": "white",
          "plot_bgcolor": "#E5ECF6",
          "polar": {
           "angularaxis": {
            "gridcolor": "white",
            "linecolor": "white",
            "ticks": ""
           },
           "bgcolor": "#E5ECF6",
           "radialaxis": {
            "gridcolor": "white",
            "linecolor": "white",
            "ticks": ""
           }
          },
          "scene": {
           "xaxis": {
            "backgroundcolor": "#E5ECF6",
            "gridcolor": "white",
            "gridwidth": 2,
            "linecolor": "white",
            "showbackground": true,
            "ticks": "",
            "zerolinecolor": "white"
           },
           "yaxis": {
            "backgroundcolor": "#E5ECF6",
            "gridcolor": "white",
            "gridwidth": 2,
            "linecolor": "white",
            "showbackground": true,
            "ticks": "",
            "zerolinecolor": "white"
           },
           "zaxis": {
            "backgroundcolor": "#E5ECF6",
            "gridcolor": "white",
            "gridwidth": 2,
            "linecolor": "white",
            "showbackground": true,
            "ticks": "",
            "zerolinecolor": "white"
           }
          },
          "shapedefaults": {
           "fillcolor": "#506784",
           "line": {
            "width": 0
           },
           "opacity": 0.4
          },
          "ternary": {
           "aaxis": {
            "gridcolor": "white",
            "linecolor": "white",
            "ticks": ""
           },
           "baxis": {
            "gridcolor": "white",
            "linecolor": "white",
            "ticks": ""
           },
           "bgcolor": "#E5ECF6",
           "caxis": {
            "gridcolor": "white",
            "linecolor": "white",
            "ticks": ""
           }
          },
          "title": {
           "x": 0.05
          },
          "xaxis": {
           "automargin": true,
           "gridcolor": "white",
           "linecolor": "white",
           "ticks": "",
           "zerolinecolor": "white",
           "zerolinewidth": 2
          },
          "yaxis": {
           "automargin": true,
           "gridcolor": "white",
           "linecolor": "white",
           "ticks": "",
           "zerolinecolor": "white",
           "zerolinewidth": 2
          }
         }
        },
        "xaxis": {
         "autorange": true,
         "range": [
          -1.6349534643226473,
          45.63495346432265
         ],
         "title": {
          "text": "issue"
         },
         "type": "linear"
        },
        "yaxis": {
         "autorange": true,
         "range": [
          -1.1845018450184501,
          19.18450184501845
         ],
         "title": {
          "text": "女"
         },
         "type": "linear"
        }
       }
      },
      "image/png": "[encoded data removed]",
      "text/html": [
       "<div>\n",
       "        \n",
       "        \n",
       "            <div id=\"94c1915d-3e3d-43ad-a84d-c006c2acae5d\" class=\"plotly-graph-div\" style=\"height:600px; width:100%;\"></div>\n",
       "            <script type=\"text/javascript\">\n",
       "                require([\"plotly\"], function(Plotly) {\n",
       "                    window.PLOTLYENV=window.PLOTLYENV || {};\n",
       "                    window.PLOTLYENV.BASE_URL='https://plot.ly';\n",
       "                    \n",
       "                if (document.getElementById(\"94c1915d-3e3d-43ad-a84d-c006c2acae5d\")) {\n",
       "                    Plotly.newPlot(\n",
       "                        '94c1915d-3e3d-43ad-a84d-c006c2acae5d',\n",
       "                        [{\"hoverlabel\": {\"namelength\": 0}, \"hovertemplate\": \"<b>%{hovertext}</b><br><br>issue=%{x}<br>\\u5973=%{y}\", \"hovertext\": [\"\\u897f\\u5468\", \"\\u897f\\u6751\\u8302\\u6a39\", \"\\u52a0\\u85e4\\u5f18\\u4e4b\", \"\\u68ee\\u6709\\u793c\", \"\\u6d25\\u7530\\u771f\\u9053\", \"\\u897f\\u5468\", \"\\u68ee\\u6709\\u793c\", \"\\u897f\\u6751\\u8302\\u6a39\", \"\\u68ee\\u6709\\u793c\", \"\\u6749\\u4ea8\\u4e8c\", \"\\u6d25\\u7530\\u771f\\u9053\", \"\\u897f\\u5468\", \"\\u7b95\\u4f5c\\u9e9f\\u7965\", \"\\u52a0\\u85e4\\u5f18\\u4e4b\", \"\\u6749\\u4ea8\\u4e8c\", \"\\u897f\\u5468\", \"\\u897f\\u5468\", \"\\u6d25\\u7530\\u771f\\u9053\", \"\\u897f\\u5468\", \"\\u6749\\u4ea8\\u4e8c\", \"\\u7b95\\u4f5c\\u9e9f\\u7965\", \"\\u52a0\\u85e4\\u5f18\\u4e4b\", \"\\u6d25\\u7530\\u771f\\u9053\", \"\\u897f\\u5468\", \"\\u52a0\\u85e4\\u5f18\\u4e4b\", \"\\u68ee\\u6709\\u793c\", \"\\u67f4\\u7530\\u660c\\u5409\", \"\\u68ee\\u6709\\u793c\", \"\\u52a0\\u85e4\\u5f18\\u4e4b\", \"\\u7b95\\u4f5c\\u9e9f\\u7965\", \"\\u6749\\u4ea8\\u4e8c\", \"\\u6d25\\u7530\\u771f\\u9053\", \"\\u6e05\\u6c34\\u536f\\u4e09\\u90ce\", \"\\u6d25\\u7530\\u771f\\u9053\", \"\\u68ee\\u6709\\u793c\", \"\\u7b95\\u4f5c\\u79cb\\u576a\", \"\\u6749\\u4ea8\\u4e8c\", \"\\u897f\\u5468\", \"\\u6d25\\u7530\\u771f\\u9053\", \"\\u6d25\\u7530\\u771f\\u9053\", \"\\u7b95\\u4f5c\\u9e9f\\u7965\", \"\\u897f\\u5468\", \"\\u6d25\\u7530\\u771f\\u9053\", \"\\u6d25\\u7530\\u771f\\u9053\", \"\\u6749\\u4ea8\\u4e8c\", \"\\u4e2d\\u6751\\u6b63\\u76f4\", \"\\u962a\\u8c37\\u7d20\", \"\\u6d25\\u7530\\u771f\\u9053\", \"\\u68ee\\u6709\\u793c\", \"\\u4e2d\\u6751\\u6b63\\u76f4\", \"\\u962a\\u8c37\\u7d20\", \"\\u897f\\u5468\", \"\\u6d25\\u7530\\u771f\\u9053\", \"\\u4e2d\\u6751\\u6b63\\u76f4\", \"\\u52a0\\u85e4\\u5f18\\u4e4b\", \"\\u6d25\\u7530\\u771f\\u9053\", \"\\u962a\\u8c37\\u7d20\", \"\\u897f\\u5468\", \"\\u7b95\\u4f5c\\u9e9f\\u7965\", \"\\u6749\\u4ea8\\u4e8c\", \"\\u6d25\\u7530\\u771f\\u9053\", \"\\u68ee\\u6709\\u793c\", \"\\u4e2d\\u6751\\u6b63\\u76f4\", \"\\u962a\\u8c37\\u7d20\", \"\\u6d25\\u7530\\u771f\\u9053\", \"\\u6d25\\u7530\\u771f\\u9053\", \"\\u6749\\u4ea8\\u4e8c\", \"\\u4e2d\\u6751\\u6b63\\u76f4\", \"\\u897f\\u5468\", \"\\u795e\\u7530\\u5b5d\\u5e73\", \"\\u6d25\\u7530\\u771f\\u9053\", \"\\u897f\\u5468\", \"\\u6d25\\u7530\\u771f\\u9053\", \"\\u52a0\\u85e4\\u5f18\\u4e4b\", \"\\u6749\\u4ea8\\u4e8c\", \"\\u962a\\u8c37\\u7d20\", \"\\u897f\\u5468\", \"\\u795e\\u7530\\u5b5d\\u5e73\", \"\\u897f\\u5468\", \"\\u795e\\u7530\\u5b5d\\u5e73\", \"\\u962a\\u8c37\\u7d20\", \"\\u6749\\u4ea8\\u4e8c\", \"\\u6d25\\u7530\\u771f\\u9053\", \"\\u68ee\\u6709\\u793c\", \"\\u962a\\u8c37\\u7d20\", \"\\u962a\\u8c37\\u7d20\", \"\\u897f\\u5468\", \"\\u798f\\u6ca2\\u8aed\\u5409\", \"\\u6d25\\u7530\\u771f\\u9053\", \"\\u6749\\u4ea8\\u4e8c\", \"\\u962a\\u8c37\\u7d20\", \"\\u897f\\u5468\", \"\\u6d25\\u7530\\u771f\\u9053\", \"\\u962a\\u8c37\\u7d20\", \"\\u6e05\\u6c34\\u536f\\u4e09\\u90ce\", \"\\u795e\\u7530\\u5b5d\\u5e73\", \"\\u897f\\u5468\", \"\\u795e\\u7530\\u5b5d\\u5e73\", \"\\u4e2d\\u6751\\u6b63\\u76f4\", \"\\u6d25\\u7530\\u771f\\u9053\", \"\\u6749\\u4ea8\\u4e8c\", \"\\u897f\\u5468\", \"\\u962a\\u8c37\\u7d20\", \"\\u6d25\\u7530\\u771f\\u9053\", \"\\u798f\\u6ca2\\u8aed\\u5409\", \"\\u6d25\\u7530\\u771f\\u9053\", \"\\u795e\\u7530\\u5b5d\\u5e73\", \"\\u68ee\\u6709\\u793c\", \"\\u962a\\u8c37\\u7d20\", \"\\u962a\\u8c37\\u7d20\", \"\\u897f\\u6751\\u8302\\u6a39\", \"\\u897f\\u5468\", \"\\u897f\\u6751\\u8302\\u6a39\", \"\\u67cf\\u539f\\u5b5d\\u7ae0\", \"\\u68ee\\u6709\\u793c\", \"\\u6d25\\u7530\\u771f\\u9053\", \"\\u67cf\\u539f\\u5b5d\\u7ae0\", \"\\u4e2d\\u6751\\u6b63\\u76f4\", \"\\u52a0\\u85e4\\u5f18\\u4e4b\", \"\\u897f\\u6751\\u8302\\u6a39\", \"\\u67cf\\u539f\\u5b5d\\u7ae0\", \"\\u798f\\u6ca2\\u8aed\\u5409\", \"\\u897f\\u5468\", \"\\u962a\\u8c37\\u7d20\", \"\\u68ee\\u6709\\u793c\", \"\\u4e2d\\u6751\\u6b63\\u76f4\", \"\\u897f\\u6751\\u8302\\u6a39\", \"\\u67cf\\u539f\\u5b5d\\u7ae0\", \"\\u795e\\u7530\\u5b5d\\u5e73\", \"\\u6749\\u4ea8\\u4e8c\", \"\\u795e\\u7530\\u5b5d\\u5e73\", \"\\u6d25\\u7530\\u771f\\u9053\", \"\\u4e2d\\u6751\\u6b63\\u76f4\", \"\\u962a\\u8c37\\u7d20\", \"\\u6d25\\u7530\\u771f\\u9053\", \"\\u962a\\u8c37\\u7d20\", \"\\u897f\\u6751\\u8302\\u6a39\", \"\\u897f\\u6751\\u8302\\u6a39\", \"\\u4e2d\\u6751\\u6b63\\u76f4\", \"\\u795e\\u7530\\u5b5d\\u5e73\", \"\\u897f\\u5468\", \"\\u962a\\u8c37\\u7d20\", \"\\u897f\\u5468\", \"\\u897f\\u6751\\u8302\\u6a39\", \"\\u4e2d\\u6751\\u6b63\\u76f4\", \"\\u897f\\u5468\", \"\\u962a\\u8c37\\u7d20\", \"\\u6d25\\u7530\\u771f\\u9053\", \"\\u6d25\\u7530\\u4ed9\", \"\\u962a\\u8c37\\u7d20\", \"\\u897f\\u6751\\u8302\\u6a39\", \"\\u897f\\u5468\", \"\\u6d25\\u7530\\u771f\\u9053\", \"\\u897f\\u6751\\u8302\\u6a39\", \"\\u962a\\u8c37\\u7d20\"], \"legendgroup\": \"\", \"marker\": {\"color\": \"#636efa\", \"symbol\": \"circle\"}, \"mode\": \"markers\", \"name\": \"\", \"showlegend\": false, \"type\": \"scatter\", \"uid\": \"5c505c50-0962-4f1d-a52c-54007de71a3b\", \"x\": [1, 1, 2, 2, 2, 2, 3, 3, 3, 3, 3, 3, 4, 4, 4, 4, 4, 5, 5, 5, 5, 5, 6, 6, 6, 6, 6, 7, 7, 7, 7, 7, 7, 8, 8, 8, 8, 8, 8, 9, 9, 9, 9, 10, 10, 10, 10, 11, 11, 11, 11, 12, 12, 12, 13, 13, 13, 14, 14, 14, 14, 15, 15, 15, 15, 16, 16, 16, 16, 17, 17, 17, 18, 18, 18, 18, 18, 18, 19, 19, 19, 19, 20, 20, 20, 20, 20, 21, 21, 21, 21, 22, 22, 22, 22, 22, 23, 23, 23, 24, 24, 25, 25, 25, 26, 26, 26, 27, 27, 28, 28, 29, 29, 29, 30, 30, 30, 30, 31, 31, 31, 31, 32, 32, 32, 33, 33, 33, 33, 34, 34, 34, 35, 35, 35, 36, 36, 37, 37, 37, 38, 38, 39, 39, 39, 40, 40, 41, 41, 41, 42, 42, 42, 43, 43], \"xaxis\": \"x\", \"y\": [0, 0, 0, 0, 0, 0, 0, 0, 0, 0, 0, 0, 0, 0, 0, 0, 0, 0, 0, 0, 0, 0, 0, 0, 0, 0, 0, 0, 0, 0, 0, 0, 0, 0, 0, 1, 0, 0, 0, 0, 0, 0, 0, 0, 0, 0, 0, 0, 0, 0, 0, 0, 0, 0, 0, 0, 0, 0, 0, 0, 0, 1, 0, 0, 0, 0, 1, 0, 0, 0, 0, 0, 0, 0, 1, 0, 0, 0, 0, 0, 0, 0, 0, 1, 0, 0, 0, 0, 0, 0, 18, 0, 1, 0, 0, 0, 0, 0, 0, 0, 0, 0, 0, 0, 1, 0, 0, 2, 0, 1, 0, 0, 0, 0, 0, 0, 0, 0, 1, 0, 0, 4, 0, 11, 0, 0, 0, 0, 0, 0, 0, 0, 0, 2, 1, 0, 0, 0, 0, 0, 0, 0, 0, 0, 0, 0, 1, 0, 0, 0, 0, 0, 0, 0, 1], \"yaxis\": \"y\"}],\n",
       "                        {\"grid\": {\"xaxes\": [\"x\"], \"xgap\": 0.1, \"xside\": \"bottom\", \"yaxes\": [\"y\"], \"ygap\": 0.1, \"yside\": \"left\"}, \"height\": 600, \"legend\": {\"tracegroupgap\": 0}, \"margin\": {\"t\": 60}, \"template\": {\"data\": {\"bar\": [{\"marker\": {\"line\": {\"color\": \"#E5ECF6\", \"width\": 0.5}}, \"type\": \"bar\"}], \"barpolar\": [{\"marker\": {\"line\": {\"color\": \"#E5ECF6\", \"width\": 0.5}}, \"type\": \"barpolar\"}], \"carpet\": [{\"aaxis\": {\"endlinecolor\": \"#2a3f5f\", \"gridcolor\": \"white\", \"linecolor\": \"white\", \"minorgridcolor\": \"white\", \"startlinecolor\": \"#2a3f5f\"}, \"baxis\": {\"endlinecolor\": \"#2a3f5f\", \"gridcolor\": \"white\", \"linecolor\": \"white\", \"minorgridcolor\": \"white\", \"startlinecolor\": \"#2a3f5f\"}, \"type\": \"carpet\"}], \"choropleth\": [{\"colorbar\": {\"outlinewidth\": 0, \"ticks\": \"\"}, \"type\": \"choropleth\"}], \"contour\": [{\"colorbar\": {\"outlinewidth\": 0, \"ticks\": \"\"}, \"colorscale\": [[0.0, \"#0508b8\"], [0.0893854748603352, \"#1910d8\"], [0.1787709497206704, \"#3c19f0\"], [0.2681564245810056, \"#6b1cfb\"], [0.3575418994413408, \"#981cfd\"], [0.44692737430167595, \"#bf1cfd\"], [0.5363128491620112, \"#dd2bfd\"], [0.6256983240223464, \"#f246fe\"], [0.7150837988826816, \"#fc67fd\"], [0.8044692737430168, \"#fe88fc\"], [0.8938547486033519, \"#fea5fd\"], [0.9832402234636871, \"#febefe\"], [1.0, \"#fec3fe\"]], \"type\": \"contour\"}], \"contourcarpet\": [{\"colorbar\": {\"outlinewidth\": 0, \"ticks\": \"\"}, \"type\": \"contourcarpet\"}], \"heatmap\": [{\"colorbar\": {\"outlinewidth\": 0, \"ticks\": \"\"}, \"colorscale\": [[0.0, \"#0508b8\"], [0.0893854748603352, \"#1910d8\"], [0.1787709497206704, \"#3c19f0\"], [0.2681564245810056, \"#6b1cfb\"], [0.3575418994413408, \"#981cfd\"], [0.44692737430167595, \"#bf1cfd\"], [0.5363128491620112, \"#dd2bfd\"], [0.6256983240223464, \"#f246fe\"], [0.7150837988826816, \"#fc67fd\"], [0.8044692737430168, \"#fe88fc\"], [0.8938547486033519, \"#fea5fd\"], [0.9832402234636871, \"#febefe\"], [1.0, \"#fec3fe\"]], \"type\": \"heatmap\"}], \"heatmapgl\": [{\"colorbar\": {\"outlinewidth\": 0, \"ticks\": \"\"}, \"type\": \"heatmapgl\"}], \"histogram\": [{\"marker\": {\"colorbar\": {\"outlinewidth\": 0, \"ticks\": \"\"}}, \"type\": \"histogram\"}], \"histogram2d\": [{\"colorbar\": {\"outlinewidth\": 0, \"ticks\": \"\"}, \"colorscale\": [[0.0, \"#0508b8\"], [0.0893854748603352, \"#1910d8\"], [0.1787709497206704, \"#3c19f0\"], [0.2681564245810056, \"#6b1cfb\"], [0.3575418994413408, \"#981cfd\"], [0.44692737430167595, \"#bf1cfd\"], [0.5363128491620112, \"#dd2bfd\"], [0.6256983240223464, \"#f246fe\"], [0.7150837988826816, \"#fc67fd\"], [0.8044692737430168, \"#fe88fc\"], [0.8938547486033519, \"#fea5fd\"], [0.9832402234636871, \"#febefe\"], [1.0, \"#fec3fe\"]], \"type\": \"histogram2d\"}], \"histogram2dcontour\": [{\"colorbar\": {\"outlinewidth\": 0, \"ticks\": \"\"}, \"colorscale\": [[0.0, \"#0508b8\"], [0.0893854748603352, \"#1910d8\"], [0.1787709497206704, \"#3c19f0\"], [0.2681564245810056, \"#6b1cfb\"], [0.3575418994413408, \"#981cfd\"], [0.44692737430167595, \"#bf1cfd\"], [0.5363128491620112, \"#dd2bfd\"], [0.6256983240223464, \"#f246fe\"], [0.7150837988826816, \"#fc67fd\"], [0.8044692737430168, \"#fe88fc\"], [0.8938547486033519, \"#fea5fd\"], [0.9832402234636871, \"#febefe\"], [1.0, \"#fec3fe\"]], \"type\": \"histogram2dcontour\"}], \"mesh3d\": [{\"colorbar\": {\"outlinewidth\": 0, \"ticks\": \"\"}, \"type\": \"mesh3d\"}], \"parcoords\": [{\"line\": {\"colorbar\": {\"outlinewidth\": 0, \"ticks\": \"\"}}, \"type\": \"parcoords\"}], \"scatter\": [{\"marker\": {\"colorbar\": {\"outlinewidth\": 0, \"ticks\": \"\"}}, \"type\": \"scatter\"}], \"scatter3d\": [{\"marker\": {\"colorbar\": {\"outlinewidth\": 0, \"ticks\": \"\"}}, \"type\": \"scatter3d\"}], \"scattercarpet\": [{\"marker\": {\"colorbar\": {\"outlinewidth\": 0, \"ticks\": \"\"}}, \"type\": \"scattercarpet\"}], \"scattergeo\": [{\"marker\": {\"colorbar\": {\"outlinewidth\": 0, \"ticks\": \"\"}}, \"type\": \"scattergeo\"}], \"scattergl\": [{\"marker\": {\"colorbar\": {\"outlinewidth\": 0, \"ticks\": \"\"}}, \"type\": \"scattergl\"}], \"scattermapbox\": [{\"marker\": {\"colorbar\": {\"outlinewidth\": 0, \"ticks\": \"\"}}, \"type\": \"scattermapbox\"}], \"scatterpolar\": [{\"marker\": {\"colorbar\": {\"outlinewidth\": 0, \"ticks\": \"\"}}, \"type\": \"scatterpolar\"}], \"scatterpolargl\": [{\"marker\": {\"colorbar\": {\"outlinewidth\": 0, \"ticks\": \"\"}}, \"type\": \"scatterpolargl\"}], \"scatterternary\": [{\"marker\": {\"colorbar\": {\"outlinewidth\": 0, \"ticks\": \"\"}}, \"type\": \"scatterternary\"}], \"surface\": [{\"colorbar\": {\"outlinewidth\": 0, \"ticks\": \"\"}, \"type\": \"surface\"}], \"table\": [{\"cells\": {\"fill\": {\"color\": \"#EBF0F8\"}, \"line\": {\"color\": \"white\"}}, \"header\": {\"fill\": {\"color\": \"#C8D4E3\"}, \"line\": {\"color\": \"white\"}}, \"type\": \"table\"}]}, \"layout\": {\"annotationdefaults\": {\"arrowcolor\": \"#506784\", \"arrowhead\": 0, \"arrowwidth\": 1}, \"colorscale\": {\"diverging\": [[0, \"#8e0152\"], [0.1, \"#c51b7d\"], [0.2, \"#de77ae\"], [0.3, \"#f1b6da\"], [0.4, \"#fde0ef\"], [0.5, \"#f7f7f7\"], [0.6, \"#e6f5d0\"], [0.7, \"#b8e186\"], [0.8, \"#7fbc41\"], [0.9, \"#4d9221\"], [1, \"#276419\"]], \"sequential\": [[0.0, \"#0508b8\"], [0.0893854748603352, \"#1910d8\"], [0.1787709497206704, \"#3c19f0\"], [0.2681564245810056, \"#6b1cfb\"], [0.3575418994413408, \"#981cfd\"], [0.44692737430167595, \"#bf1cfd\"], [0.5363128491620112, \"#dd2bfd\"], [0.6256983240223464, \"#f246fe\"], [0.7150837988826816, \"#fc67fd\"], [0.8044692737430168, \"#fe88fc\"], [0.8938547486033519, \"#fea5fd\"], [0.9832402234636871, \"#febefe\"], [1.0, \"#fec3fe\"]], \"sequentialminus\": [[0.0, \"#0508b8\"], [0.0893854748603352, \"#1910d8\"], [0.1787709497206704, \"#3c19f0\"], [0.2681564245810056, \"#6b1cfb\"], [0.3575418994413408, \"#981cfd\"], [0.44692737430167595, \"#bf1cfd\"], [0.5363128491620112, \"#dd2bfd\"], [0.6256983240223464, \"#f246fe\"], [0.7150837988826816, \"#fc67fd\"], [0.8044692737430168, \"#fe88fc\"], [0.8938547486033519, \"#fea5fd\"], [0.9832402234636871, \"#febefe\"], [1.0, \"#fec3fe\"]]}, \"colorway\": [\"#636efa\", \"#EF553B\", \"#00cc96\", \"#ab63fa\", \"#19d3f3\", \"#e763fa\", \"#FECB52\", \"#FFA15A\", \"#FF6692\", \"#B6E880\"], \"font\": {\"color\": \"#2a3f5f\"}, \"geo\": {\"bgcolor\": \"white\", \"lakecolor\": \"white\", \"landcolor\": \"#E5ECF6\", \"showlakes\": true, \"showland\": true, \"subunitcolor\": \"white\"}, \"hoverlabel\": {\"align\": \"left\"}, \"hovermode\": \"closest\", \"mapbox\": {\"style\": \"light\"}, \"paper_bgcolor\": \"white\", \"plot_bgcolor\": \"#E5ECF6\", \"polar\": {\"angularaxis\": {\"gridcolor\": \"white\", \"linecolor\": \"white\", \"ticks\": \"\"}, \"bgcolor\": \"#E5ECF6\", \"radialaxis\": {\"gridcolor\": \"white\", \"linecolor\": \"white\", \"ticks\": \"\"}}, \"scene\": {\"xaxis\": {\"backgroundcolor\": \"#E5ECF6\", \"gridcolor\": \"white\", \"gridwidth\": 2, \"linecolor\": \"white\", \"showbackground\": true, \"ticks\": \"\", \"zerolinecolor\": \"white\"}, \"yaxis\": {\"backgroundcolor\": \"#E5ECF6\", \"gridcolor\": \"white\", \"gridwidth\": 2, \"linecolor\": \"white\", \"showbackground\": true, \"ticks\": \"\", \"zerolinecolor\": \"white\"}, \"zaxis\": {\"backgroundcolor\": \"#E5ECF6\", \"gridcolor\": \"white\", \"gridwidth\": 2, \"linecolor\": \"white\", \"showbackground\": true, \"ticks\": \"\", \"zerolinecolor\": \"white\"}}, \"shapedefaults\": {\"fillcolor\": \"#506784\", \"line\": {\"width\": 0}, \"opacity\": 0.4}, \"ternary\": {\"aaxis\": {\"gridcolor\": \"white\", \"linecolor\": \"white\", \"ticks\": \"\"}, \"baxis\": {\"gridcolor\": \"white\", \"linecolor\": \"white\", \"ticks\": \"\"}, \"bgcolor\": \"#E5ECF6\", \"caxis\": {\"gridcolor\": \"white\", \"linecolor\": \"white\", \"ticks\": \"\"}}, \"title\": {\"x\": 0.05}, \"xaxis\": {\"automargin\": true, \"gridcolor\": \"white\", \"linecolor\": \"white\", \"ticks\": \"\", \"zerolinecolor\": \"white\", \"zerolinewidth\": 2}, \"yaxis\": {\"automargin\": true, \"gridcolor\": \"white\", \"linecolor\": \"white\", \"ticks\": \"\", \"zerolinecolor\": \"white\", \"zerolinewidth\": 2}}}, \"xaxis\": {\"title\": {\"text\": \"issue\"}}, \"yaxis\": {\"title\": {\"text\": \"\\u5973\"}}},\n",
       "                        {\"showLink\": false, \"linkText\": \"Export to plot.ly\", \"plotlyServerURL\": \"https://plot.ly\", \"responsive\": true}\n",
       "                    ).then(function(){\n",
       "                            \n",
       "var gd = document.getElementById('94c1915d-3e3d-43ad-a84d-c006c2acae5d');\n",
       "var x = new MutationObserver(function (mutations, observer) {{\n",
       "        var display = window.getComputedStyle(gd).display;\n",
       "        if (!display || display === 'none') {{\n",
       "            console.log([gd, 'removed!']);\n",
       "            Plotly.purge(gd);\n",
       "            observer.disconnect();\n",
       "        }}\n",
       "}});\n",
       "\n",
       "// Listen for the removal of the full notebook cells\n",
       "var notebookContainer = gd.closest('#notebook-container');\n",
       "if (notebookContainer) {{\n",
       "    x.observe(notebookContainer, {childList: true});\n",
       "}}\n",
       "\n",
       "// Listen for the clearing of the current output cell\n",
       "var outputEl = gd.closest('.output');\n",
       "if (outputEl) {{\n",
       "    x.observe(outputEl, {childList: true});\n",
       "}}\n",
       "\n",
       "                        })\n",
       "                };\n",
       "                });\n",
       "            </script>\n",
       "        </div>"
      ]
     },
     "metadata": {},
     "output_type": "display_data"
    }
   ],
   "source": [
    "px.scatter(Meiroku_df, x='issue', y='女', hover_name='author')"
   ]
  },
  {
   "cell_type": "code",
   "execution_count": null,
   "metadata": {},
   "outputs": [],
   "source": []
  }
 ],
 "metadata": {
  "kernelspec": {
   "display_name": "Python 3",
   "language": "python",
   "name": "python3"
  },
  "language_info": {
   "codemirror_mode": {
    "name": "ipython",
    "version": 3
   },
   "file_extension": ".py",
   "mimetype": "text/x-python",
   "name": "python",
   "nbconvert_exporter": "python",
   "pygments_lexer": "ipython3",
   "version": "3.7.3"
  }
 },
 "nbformat": 4,
 "nbformat_minor": 2
}
