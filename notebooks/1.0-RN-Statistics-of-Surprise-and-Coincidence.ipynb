{
 "cells": [
  {
   "cell_type": "code",
   "execution_count": null,
   "metadata": {},
   "outputs": [],
   "source": [
    "from collections import Counter \n",
    "import math\n",
    "import re\n",
    "from functools import reduce\n",
    "import pandas as pd\n",
    "# import matplotlib\n",
    "# import matplotlib.pyplot as plot\n",
    "import io\n",
    "\n",
    "import plotly_express as px\n",
    "import plotly.graph_objs as go"
   ]
  },
  {
   "cell_type": "code",
   "execution_count": null,
   "metadata": {},
   "outputs": [],
   "source": [
    "from src.models import WordLevelStatistics\n",
    "from src.visualization import word_distributions"
   ]
  },
  {
   "cell_type": "code",
   "execution_count": null,
   "metadata": {},
   "outputs": [],
   "source": [
    "def count(file):\n",
    "    '''Counts the words contained in a file'''\n",
    "    with open(file) as f:\n",
    "        return Counter(re.findall('\\w+', re.sub('[\\r\\n]', ' ', f.read().lower())))"
   ]
  },
  {
   "cell_type": "code",
   "execution_count": null,
   "metadata": {},
   "outputs": [],
   "source": [
    "hobbit = count('../data/raw/hobbit_flat_clean.txt')\n",
    "pryftan = count('../data/raw/pryftan.txt')\n",
    "simple = count('../data/processed/simplewiki.txt')"
   ]
  },
  {
   "cell_type": "code",
   "execution_count": null,
   "metadata": {},
   "outputs": [],
   "source": [
    "def llr(k):\n",
    "    '''Computes an LLR score for a list of Count objects'''\n",
    "    all = flatten([kx.values() for kx in k])\n",
    "    rows = rowSums(k)\n",
    "    cols = colSums(k)\n",
    "    return 2 * (denormEntropy(rows) + denormEntropy(cols) - denormEntropy(all))"
   ]
  },
  {
   "cell_type": "code",
   "execution_count": null,
   "metadata": {},
   "outputs": [],
   "source": [
    "def llr_compare(k1, k2):\n",
    "    '''Compute root-LLR values for all the things in k1 and k2'''\n",
    "    t1 = sum(k1.values())\n",
    "    t2 = sum(k2.values())\n",
    "    r = {}\n",
    "    for x in set(k1.keys()).union(set(k2.keys())):\n",
    "        k11 = k1[x]\n",
    "        k21 = k2[x]\n",
    "        k12 = t1 - k11\n",
    "        k22 = t2 - k21\n",
    "        r[x] = llr_root(k11, k12, k21, k22)\n",
    "    return r"
   ]
  },
  {
   "cell_type": "code",
   "execution_count": null,
   "metadata": {},
   "outputs": [],
   "source": [
    "def llr_2x2(k11, k12, k21, k22):\n",
    "    '''Special case of llr with a 2x2 table'''\n",
    "    return 2 * (denormEntropy([k11+k12, k21+k22]) +\n",
    "                denormEntropy([k11+k21, k12+k22]) -\n",
    "                denormEntropy([k11, k12, k21, k22]))"
   ]
  },
  {
   "cell_type": "code",
   "execution_count": null,
   "metadata": {},
   "outputs": [],
   "source": [
    "def llr_root(k11, k12, k21, k22):\n",
    "    '''Computes a score for a 2x2 contingency table, but then adds a sign according \n",
    "    to whether k11 is larger (result is positive) or smaller (result is negative) \n",
    "    than might be expected. The magnitude of the result can be roughly interpreted \n",
    "    on a scale similar to standard deviations'''\n",
    "    row = k11 + k21\n",
    "    total = (k11 + k12 + k21 + k22)\n",
    "    sign = cmp(float(k11) / (k11 + k12), float(row) / total)\n",
    "    llr22 = llr_2x2(k11, k12, k21, k22)\n",
    "    if llr22 < 0: return 0.0\n",
    "    return math.copysign(math.sqrt(llr22), sign)"
   ]
  },
  {
   "cell_type": "code",
   "execution_count": null,
   "metadata": {},
   "outputs": [],
   "source": [
    "def cmp(a, b):\n",
    "    return int(a > b) - int(a < b)\n",
    "\n",
    "\n",
    "def flatten(list_of_lists):\n",
    "    '''Iterates through the elements in a list of lists'''\n",
    "    for xl in list_of_lists:\n",
    "        for x in xl:\n",
    "            yield x\n",
    "\n",
    "def rowSums(k):\n",
    "    '''Combines a list of counters into a summed counter'''\n",
    "    return reduce(lambda x, y: x + y, k, Counter()).values()\n",
    "\n",
    "def colSums(k):\n",
    "    '''Computes a list of total counts from a list of Count objects'''\n",
    "    return [sum(x.values()) for x in k]"
   ]
  },
  {
   "cell_type": "code",
   "execution_count": null,
   "metadata": {},
   "outputs": [],
   "source": [
    "def denormEntropy(counts):\n",
    "    '''Computes the entropy of a list of counts scaled by the sum of the counts. \n",
    "    If the inputs sum to one, this is just the normal definition of entropy'''\n",
    "    counts = list(counts)\n",
    "    total = float(sum(counts))\n",
    "    # Note tricky way to avoid 0*log(0)\n",
    "    return -sum([k * math.log(k/total + (k==0)) for k in counts])"
   ]
  },
  {
   "cell_type": "code",
   "execution_count": null,
   "metadata": {},
   "outputs": [],
   "source": [
    "diff = llr_compare(hobbit, simple)\n",
    "ranked = sorted(diff.items(), key=lambda x: x[1])"
   ]
  },
  {
   "cell_type": "code",
   "execution_count": null,
   "metadata": {},
   "outputs": [],
   "source": [
    "print(\"\\nMore in Simple\")\n",
    "for k,v in ranked[:20]:\n",
    "    print(k, v)"
   ]
  },
  {
   "cell_type": "code",
   "execution_count": null,
   "metadata": {},
   "outputs": [],
   "source": [
    "print(\"\\nMore in Hobbit\")\n",
    "for k,v in ranked[-20:]:\n",
    "    print(k, v)"
   ]
  },
  {
   "cell_type": "code",
   "execution_count": null,
   "metadata": {},
   "outputs": [],
   "source": [
    "diff = llr_compare(pryftan, simple)\n",
    "ranked = sorted(diff.items(), key=lambda x: x[1])"
   ]
  },
  {
   "cell_type": "code",
   "execution_count": null,
   "metadata": {},
   "outputs": [],
   "source": [
    "print(\"\\nMore in Pryftan\")\n",
    "for k,v in ranked[-20:]:\n",
    "    print(k, v)"
   ]
  },
  {
   "cell_type": "code",
   "execution_count": null,
   "metadata": {},
   "outputs": [],
   "source": [
    "# plot.rcParams[\"figure.figsize\"] = [10, 10]\n",
    "# plot.style.use('fivethirtyeight')"
   ]
  },
  {
   "cell_type": "code",
   "execution_count": null,
   "metadata": {},
   "outputs": [],
   "source": [
    "text = hobbit\n",
    "vocab = [{'term':term, 'count':text[term]} for term in text] \n",
    "vocab = pd.DataFrame(vocab)\n",
    "vocab = vocab.sort_values(by='count', ascending=False)\n",
    "vocab['index'] = list(range(0,len(vocab)))\n",
    "px.scatter(vocab, x='index', y='count', log_x=True, log_y=True, hover_name='term')\n",
    "# vocab.plot(kind='scatter', x='index', y='count', loglog=True, xlim=(0.5,10**4));"
   ]
  },
  {
   "cell_type": "code",
   "execution_count": null,
   "metadata": {},
   "outputs": [],
   "source": [
    "with open('../data/raw/hobbit_flat_clean.txt') as fp:\n",
    "    all_text = fp.read().lower()"
   ]
  },
  {
   "cell_type": "code",
   "execution_count": null,
   "metadata": {},
   "outputs": [],
   "source": [
    "all_sents = all_text.split('\\n')"
   ]
  },
  {
   "cell_type": "code",
   "execution_count": null,
   "metadata": {},
   "outputs": [],
   "source": [
    "fp = io.StringIO(all_text)\n",
    "word_level_statistics = WordLevelStatistics(corpus_file=fp, percentile_C=90)\n",
    "word_level_statistics.compute_spectra()"
   ]
  },
  {
   "cell_type": "code",
   "execution_count": null,
   "metadata": {},
   "outputs": [],
   "source": [
    "lvls_df = pd.DataFrame(word_level_statistics.level_stat_thresholded)\n",
    "significant_terms = word_level_statistics.significant_terms\n",
    "print('With threshold = {}, ({} percentile) find {} significant terms.'.format(\n",
    "    word_level_statistics.threshold, word_level_statistics.percentile_C, len(significant_terms)))"
   ]
  },
  {
   "cell_type": "code",
   "execution_count": null,
   "metadata": {},
   "outputs": [],
   "source": [
    "lvls_df = lvls_df.sort_values(by='sigma_nor', ascending=False)\n",
    "lvls_df.head(15)"
   ]
  },
  {
   "cell_type": "code",
   "execution_count": null,
   "metadata": {},
   "outputs": [],
   "source": [
    "chapters = {1:{'start':612,  'end':1102, 'title':'An Unexpected Party'},\n",
    "            2:{'start':1102, 'end':1420, 'title':'Roast Mutton'},\n",
    "            3:{'start':1420, 'end':1612, 'title':'A Short Rest'},\n",
    "            4:{'start':1612, 'end':1774, 'title':'Over Hill and under Hill'},\n",
    "            5:{'start':1774, 'end':2192, 'title':'Riddles in the Dark'},\n",
    "            6:{'start':2192, 'end':2466, 'title':'Out of the Frying-Pan into the Fire'},\n",
    "            7:{'start':2466, 'end':2878, 'title':'Queer Lodgings'},\n",
    "            8:{'start':2878, 'end':3224, 'title':'Flies and Spiders'},\n",
    "            9:{'start':3224, 'end':3452, 'title':'Barrels Out of Bond'},\n",
    "           10:{'start':3452, 'end':3624, 'title':'A Warm Welcome'},\n",
    "           11:{'start':3624, 'end':3726, 'title':'On the Doorstep'},\n",
    "           12:{'start':3726, 'end':3954, 'title':'Inside Information'},\n",
    "           13:{'start':3954, 'end':4112, 'title':'Not at Home'},\n",
    "           14:{'start':4112, 'end':4212, 'title':'Fire and Water'},\n",
    "           15:{'start':4212, 'end':4414, 'title':'The Gathering of the Clouds'},\n",
    "           16:{'start':4414, 'end':4524, 'title':'A Thief in the Night'},\n",
    "           17:{'start':4524, 'end':4670, 'title':'The Clouds Burst'},\n",
    "           18:{'start':4670, 'end':4790, 'title':'The Return Journey'},\n",
    "           19:{'start':4790, 'end':5096-50, 'title':'The Last Stage'},  \n",
    "                                              # Last 50 lines of Chapter actually are back matter.\n",
    "                                              # Back matter includes 1st chapter of Lord of the Rings.\n",
    "           'front_matter':{'start':0, 'end':612, 'title':'Front Matter'},\n",
    "           'back_matter':{'start':5096-50, 'end':5726, 'title':'Back Matter'}}"
   ]
  },
  {
   "cell_type": "code",
   "execution_count": null,
   "metadata": {},
   "outputs": [],
   "source": [
    "tokens = re.findall('\\w+', all_text)\n",
    "chapter_boundaries = [(n, tokens[n], tokens[n+1]) for n in word_level_statistics.word_pos['chapter']\n",
    "                                                  if tokens[n+1] not in ['you', 'beginning']]\n",
    "chapter_labels = [str(n) for n in range(1, 20)]\n",
    "# chapter_labels = ['']\n",
    "chapter_labels = [chapters[n]['title'] for n in range(1, 20)]"
   ]
  },
  {
   "cell_type": "code",
   "execution_count": null,
   "metadata": {},
   "outputs": [],
   "source": [
    "diff = llr_compare(hobbit, simple)\n",
    "ranked = sorted(diff.items(), key=lambda x: x[1])\n",
    "word_list = [k for k,v in ranked[-20:]]\n",
    "fig = word_distributions(word_list=word_list, word_level_statistics=word_level_statistics)\n",
    "fig.layout.xaxis.tickvals=[c[0] for c in chapter_boundaries]\n",
    "fig.layout.xaxis.ticktext=chapter_labels\n",
    "fig"
   ]
  },
  {
   "cell_type": "code",
   "execution_count": null,
   "metadata": {},
   "outputs": [],
   "source": [
    "lvls_df[lvls_df.word.isin(word_list)]"
   ]
  },
  {
   "cell_type": "code",
   "execution_count": null,
   "metadata": {},
   "outputs": [],
   "source": [
    "diff = llr_compare(hobbit, simple)\n",
    "ranked = sorted(diff.items(), key=lambda x: x[1])\n",
    "mask = lvls_df.word.isin(word_list)\n",
    "word_list = list(lvls_df[mask]['word'])\n",
    "print(set([k for k,v in ranked[-20:]]).difference(word_list))\n",
    "fig = word_distributions(word_list=word_list, word_level_statistics=word_level_statistics)\n",
    "fig.layout.xaxis.tickvals=[c[0] for c in chapter_boundaries]\n",
    "fig.layout.xaxis.ticktext=chapter_labels\n",
    "fig"
   ]
  },
  {
   "cell_type": "code",
   "execution_count": null,
   "metadata": {},
   "outputs": [],
   "source": []
  }
 ],
 "metadata": {
  "kernelspec": {
   "display_name": "Python 3",
   "language": "python",
   "name": "python3"
  },
  "language_info": {
   "codemirror_mode": {
    "name": "ipython",
    "version": 3
   },
   "file_extension": ".py",
   "mimetype": "text/x-python",
   "name": "python",
   "nbconvert_exporter": "python",
   "pygments_lexer": "ipython3",
   "version": "3.7.3"
  },
  "toc": {
   "base_numbering": 1,
   "nav_menu": {},
   "number_sections": true,
   "sideBar": true,
   "skip_h1_title": false,
   "title_cell": "Table of Contents",
   "title_sidebar": "Contents",
   "toc_cell": false,
   "toc_position": {},
   "toc_section_display": true,
   "toc_window_display": false
  }
 },
 "nbformat": 4,
 "nbformat_minor": 2
}
