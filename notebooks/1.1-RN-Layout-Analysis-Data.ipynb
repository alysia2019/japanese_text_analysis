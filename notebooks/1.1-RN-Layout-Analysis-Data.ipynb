{
 "cells": [
  {
   "cell_type": "code",
   "execution_count": null,
   "metadata": {},
   "outputs": [],
   "source": [
    "from pathlib import Path\n",
    "import random\n",
    "import numpy as np\n",
    "import bs4 as BeautifulSoup\n",
    "\n",
    "from io import BytesIO\n",
    "from PIL import Image as pi\n",
    "from ipywidgets import HBox, VBox, Layout, HTML\n",
    "from ipywidgets import Image as Image_widget\n",
    "import colorlover as cl\n",
    "\n",
    "import drawSvg as draw\n",
    "import cairosvg\n",
    "\n",
    "try:\n",
    "    from fastai.vision import *\n",
    "    from fastai.metrics import error_rate\n",
    "    fastai_imported = True\n",
    "except Exception as ex:\n",
    "    print('Switch to fastapi-cpu kernel to train or use model.')\n",
    "    fastai_imported = False"
   ]
  },
  {
   "cell_type": "code",
   "execution_count": null,
   "metadata": {},
   "outputs": [],
   "source": [
    "path = Path('/Users/ray/data/PRImA_Layout_Analysis_Dataset/')\n",
    "image_path = path / 'Images'\n",
    "mask_path = path / 'XML'"
   ]
  },
  {
   "cell_type": "code",
   "execution_count": null,
   "metadata": {},
   "outputs": [],
   "source": [
    "filenames = image_path.ls()\n",
    "data_names = [f.stem for f in filenames]"
   ]
  },
  {
   "cell_type": "markdown",
   "metadata": {},
   "source": [
    "    <element name=\"TextRegion\" type=\"pc:TextRegionType\"/>\n",
    "    <element name=\"ImageRegion\" type=\"pc:ImageRegionType\"/>\n",
    "    <element name=\"LineDrawingRegion\" type=\"pc:LineDrawingRegionType\"/>\n",
    "    <element name=\"GraphicRegion\" type=\"pc:GraphicRegionType\"/>\n",
    "    <element name=\"TableRegion\" type=\"pc:TableRegionType\"/>\n",
    "    <element name=\"ChartRegion\" type=\"pc:ChartRegionType\"/>\n",
    "    <element name=\"MapRegion\" type=\"pc:MapRegionType\"/>\n",
    "    <element name=\"SeparatorRegion\" type=\"pc:SeparatorRegionType\"/>\n",
    "    <element name=\"MathsRegion\" type=\"pc:MathsRegionType\"/>\n",
    "    <element name=\"ChemRegion\" type=\"pc:ChemRegionType\"/>\n",
    "    <element name=\"MusicRegion\" type=\"pc:MusicRegionType\"/>\n",
    "    <element name=\"AdvertRegion\" type=\"pc:AdvertRegionType\"/>\n",
    "    <element name=\"NoiseRegion\" type=\"pc:NoiseRegionType\"/>\n",
    "    <element name=\"UnknownRegion\" type=\"pc:UnknownRegionType\"/>\n",
    "    <element name=\"CustomRegion\" type=\"pc:CustomRegionType\"/>"
   ]
  },
  {
   "cell_type": "code",
   "execution_count": null,
   "metadata": {},
   "outputs": [],
   "source": [
    "regions = ['textregion', 'imageregion', 'linedrawingregion', 'graphicregion', 'tableregion', 'chartregion', \n",
    "           'mapregion', 'separatorregion', 'mathsregion', 'chemregion', 'musicregion', 'advertregion', \n",
    "           'noiseregion', 'unknownregion', 'customregion']"
   ]
  },
  {
   "cell_type": "code",
   "execution_count": null,
   "metadata": {},
   "outputs": [],
   "source": [
    "colors =['#e6194B', '#3cb44b', '#ffe119', '#4363d8', '#f58231', '#911eb4', '#42d4f4', '#f032e6', \n",
    "         '#bfef45', '#fabebe', '#469990', '#e6beff', '#9A6324', '#fffac8', '#800000', '#aaffc3', \n",
    "         '#808000', '#ffd8b1', '#000075', '#a9a9a9', '#ffffff', '#000000']"
   ]
  },
  {
   "cell_type": "code",
   "execution_count": null,
   "metadata": {},
   "outputs": [],
   "source": [
    "color_map = dict(zip(regions, colors))"
   ]
  },
  {
   "cell_type": "code",
   "execution_count": null,
   "metadata": {},
   "outputs": [],
   "source": [
    "def xml_to_svg(data_name=None, alpha=1.0):\n",
    "    image_filename =  image_path / (data_name + '.tif')\n",
    "    image_xml = mask_path / (data_name + '.xml')\n",
    "    if not image_xml.exists():\n",
    "        image_xml = mask_path / ('pc-' + data_name + '.xml')\n",
    "    \n",
    "    doc_image = pi.open(image_filename)\n",
    "    with open(image_xml) as fp:\n",
    "        soup = BeautifulSoup.BeautifulSoup(fp)\n",
    "        \n",
    "    width, height = doc_image.size\n",
    "    d = draw.Drawing(width, height, origin = (0, -height))\n",
    "    used_regions = set()\n",
    "    for region in regions:\n",
    "        for tag in soup.find_all(region):\n",
    "            count = 0\n",
    "            # Without shape_rendering=\"crispEdges\", cairosvg will anti-alias paths and break the 1-1\n",
    "            # mapping of colors to pixel values for groundtruth image masks. Some test images that\n",
    "            # display the effect w/out the crispEdges are in bad_greyscale.\n",
    "            # bad_greyscale = ['00001203', '00001164', '00001131', '00000941', '00001131', '00001153', \n",
    "            #                  '00001287', '00001275']\n",
    "            p = draw.Path(stroke_width=0, stroke=color_map[region],\n",
    "                      fill=color_map[region], fill_opacity=alpha, shape_rendering=\"crispEdges\")\n",
    "            for t in tag.find_all('point'):\n",
    "                used_regions.add(region)\n",
    "                x = int(t['x'])\n",
    "                y = -int(t['y'])\n",
    "                if count == 0:\n",
    "                    p.M(x, y)\n",
    "                else:\n",
    "                    p.L(x,y)\n",
    "                count += 1\n",
    "            p.Z()\n",
    "            d.append(p)\n",
    "            \n",
    "    print(used_regions)\n",
    "    return d.asSvg()\n"
   ]
  },
  {
   "cell_type": "code",
   "execution_count": null,
   "metadata": {},
   "outputs": [],
   "source": [
    "def convert_image(data_name):\n",
    "    svg = xml_to_svg(data_name)\n",
    "    out = BytesIO()\n",
    "    cairosvg.svg2png(svg, write_to=out)\n",
    "    png = pi.open(out)\n",
    "    return png.convert(mode='L')"
   ]
  },
  {
   "cell_type": "code",
   "execution_count": null,
   "metadata": {},
   "outputs": [],
   "source": [
    "def show_mask(data_name):\n",
    "    image_filename =  data_name + '.tif'    \n",
    "    b = BytesIO()\n",
    "    im = pi.open(image_path / image_filename)\n",
    "    im.save(b, format='png')\n",
    "    \n",
    "    svg = xml_to_svg(data_name)\n",
    "    png = cairosvg.svg2png(svg)\n",
    "    mask = Image_widget(value=png, layout=Layout(width='40%', height='600px', border='1px solid black'))\n",
    "    document_image = Image_widget(value=b.getvalue(), layout=Layout(width='40%', height='600px', \n",
    "                                                                    border='1px solid black'))\n",
    "    return HBox([mask, document_image])"
   ]
  },
  {
   "cell_type": "code",
   "execution_count": null,
   "metadata": {},
   "outputs": [],
   "source": [
    "png_data = np.asarray(convert_image('00001287'))\n",
    "set([d for row in png_data for d in row])"
   ]
  },
  {
   "cell_type": "code",
   "execution_count": null,
   "metadata": {},
   "outputs": [],
   "source": [
    "# Without shape_rendering=\"crispEdges\", cairosvg will anti-alias paths and break the 1-1\n",
    "# mapping of colors to pixel values for groundtruth image masks. Some test images that\n",
    "# display the effect w/out the crispEdges are in bad_greyscale.\n",
    "bad_greyscale = ['00001203', '00001164', '00001131', '00000941', '00001131', '00001153', \n",
    "                 '00001287', '00001275']\n",
    "bad_groundtruth = ['00000272', '00001255', '00000726', '00000130', '00000127', '00000128',\n",
    "                   '00000997', '00000925', '00001298', '00000874', '00001057', '00001107',\n",
    "                   '00000657', '00000709', '00000820', '00001285', '00000662', '00000636',\n",
    "                   '00000273', '00000989', '00001298', '00000087', '00001287', '00001289',\n",
    "                   '00000826', '00000090', '00000657', '00001297', '00000699', '00001292',\n",
    "                   '00000989', '00001288']\n",
    "data_name = random.choice(data_names)\n",
    "print(data_name)\n",
    "png_data = np.asarray(convert_image(data_name))\n",
    "print(set([d for row in png_data for d in row]))\n",
    "show_mask(data_name)"
   ]
  },
  {
   "cell_type": "code",
   "execution_count": null,
   "metadata": {},
   "outputs": [],
   "source": [
    "data_name = '00001115'\n",
    "png_data = np.asarray(convert_image(data_name))\n",
    "print(set([d for row in png_data for d in row]))\n",
    "show_mask(data_name)"
   ]
  },
  {
   "cell_type": "code",
   "execution_count": null,
   "metadata": {},
   "outputs": [],
   "source": [
    "data_name = '00001203'\n",
    "svg = xml_to_svg(data_name=data_name, alpha=0.4)\n",
    "out = BytesIO()\n",
    "cairosvg.svg2png(svg, write_to=out)\n",
    "png = pi.open(out)"
   ]
  },
  {
   "cell_type": "code",
   "execution_count": null,
   "metadata": {},
   "outputs": [],
   "source": [
    "image_filename =  data_name + '.tif'    \n",
    "b = BytesIO()\n",
    "im = pi.open(image_path / image_filename)\n",
    "im.save(b, format='png')"
   ]
  },
  {
   "cell_type": "code",
   "execution_count": null,
   "metadata": {},
   "outputs": [],
   "source": [
    "background = im.convert(\"RGBA\")\n",
    "foreground = png.convert(\"RGBA\")\n",
    "merged = pi.alpha_composite(background, foreground)\n",
    "merged"
   ]
  },
  {
   "cell_type": "code",
   "execution_count": null,
   "metadata": {},
   "outputs": [],
   "source": []
  }
 ],
 "metadata": {
  "kernelspec": {
   "display_name": "Python [conda env:fastai-cpu]",
   "language": "python",
   "name": "conda-env-fastai-cpu-py"
  },
  "language_info": {
   "codemirror_mode": {
    "name": "ipython",
    "version": 3
   },
   "file_extension": ".py",
   "mimetype": "text/x-python",
   "name": "python",
   "nbconvert_exporter": "python",
   "pygments_lexer": "ipython3",
   "version": "3.6.8"
  },
  "toc": {
   "base_numbering": 1,
   "nav_menu": {},
   "number_sections": true,
   "sideBar": true,
   "skip_h1_title": false,
   "title_cell": "Table of Contents",
   "title_sidebar": "Contents",
   "toc_cell": false,
   "toc_position": {},
   "toc_section_display": true,
   "toc_window_display": false
  }
 },
 "nbformat": 4,
 "nbformat_minor": 2
}
