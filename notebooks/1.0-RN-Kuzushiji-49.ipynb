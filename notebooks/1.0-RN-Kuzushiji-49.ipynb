{
 "cells": [
  {
   "cell_type": "markdown",
   "metadata": {},
   "source": [
    "# くずし字\n",
    "<img src=\"images/kuzushiji.png\" alt=\"kuzushiji illustration\" width=\"100%\"/>"
   ]
  },
  {
   "cell_type": "markdown",
   "metadata": {},
   "source": [
    "## Imports"
   ]
  },
  {
   "cell_type": "code",
   "execution_count": null,
   "metadata": {},
   "outputs": [],
   "source": [
    "from pathlib import Path\n",
    "import requests\n",
    "from zipfile import ZipFile\n",
    "\n",
    "import struct\n",
    "from pathlib import Path\n",
    "import numpy as np\n",
    "import pandas as pd\n",
    "from io import BytesIO\n",
    "from PIL import Image as pi\n",
    "from ipywidgets import HBox, VBox, Layout, HTML\n",
    "from ipywidgets import Image as Image_widget\n",
    "\n",
    "try:\n",
    "    from fastai.vision import *\n",
    "    from fastai.metrics import error_rate\n",
    "    fastai_imported = True\n",
    "except Exception as ex:\n",
    "    print('Switch to fastapi-cpu kernel to train or use model.')\n",
    "    fastai_imported = False"
   ]
  },
  {
   "cell_type": "markdown",
   "metadata": {},
   "source": [
    "## Kuzushiji-49\n",
    "\n",
    "くずし字　[Kuzushiji-49 Dataset description](http://codh.rois.ac.jp/kmnist/)\n",
    "\n",
    "[Resources for hentaigana](https://wakancambridge.files.wordpress.com/2017/05/useful-resources-for-the-study-of-hentaigana-with-recommended1.pdf)\n",
    "<img src=\"images/hentaigana.png\" alt=\"hentaigana chart\" width=\"48%\" align=\"left\"/>\n",
    "\n",
    "[Kuzushiji-49](https://github.com/rois-codh/kmnist) contains 270,912 images spanning 49 classes, and is an extension of the Kuzushiji-MNIST dataset.\n",
    "\n",
    "| File            | Examples |  Download (NumPy format)      |\n",
    "|-----------------|--------------------|----------------------------|\n",
    "| Training images | 232,365            | [k49-train-imgs.npz](http://codh.rois.ac.jp/kmnist/dataset/k49/k49-train-imgs.npz) (63MB)   |\n",
    "| Training labels | 232,365            | [k49-train-labels.npz](http://codh.rois.ac.jp/kmnist/dataset/k49/k49-train-labels.npz) (200KB)  |\n",
    "| Testing images  | 38,547             | [k49-test-imgs.npz](http://codh.rois.ac.jp/kmnist/dataset/k49/k49-test-imgs.npz) (11MB)   |\n",
    "| Testing labels  | 38,547             | [k49-test-labels.npz](http://codh.rois.ac.jp/kmnist/dataset/k49/k49-test-labels.npz) (50KB) |\n",
    "\n",
    "Mapping from class indices to characters: [k49_classmap.csv](http://codh.rois.ac.jp/kmnist/dataset/k49/k49_classmap.csv) (1KB)"
   ]
  },
  {
   "cell_type": "code",
   "execution_count": null,
   "metadata": {},
   "outputs": [],
   "source": [
    "path = Path(\"../data/raw\") / \"k49\"\n",
    "\n",
    "path.mkdir(parents=True, exist_ok=True)\n",
    "\n",
    "URL = \"http://codh.rois.ac.jp/kmnist/dataset/k49/\"\n",
    "filenames = ['k49-train-imgs.npz', 'k49-train-labels.npz', \n",
    "             'k49-test-imgs.npz', 'k49-test-labels.npz',\n",
    "             'k49_classmap.csv']\n",
    "\n",
    "for fn in filenames:\n",
    "    if not (path / fn).exists():\n",
    "            content = requests.get(URL + fn).content\n",
    "            (path / fn).open(\"wb\").write(content)"
   ]
  },
  {
   "cell_type": "code",
   "execution_count": null,
   "metadata": {},
   "outputs": [],
   "source": [
    "def extract_k49():\n",
    "    metadata = []\n",
    "        \n",
    "    data = np.load(path / 'k49-test-labels.npz')\n",
    "    array_name = data.files[0]\n",
    "    test_labels = data[array_name]\n",
    "    \n",
    "    data = np.load(path / 'k49-test-imgs.npz')\n",
    "    array_name = data.files[0]\n",
    "    test_images = data[array_name]\n",
    "\n",
    "    valid_path = path / 'valid'\n",
    "    valid_path.mkdir(parents=True, exist_ok=True)\n",
    "    for n,label in zip(range(len(test_images)), test_labels):\n",
    "        im = pi.fromarray(test_images[n,:,:])\n",
    "        outfilename = str(n) + '.png'\n",
    "        outfile = valid_path / outfilename\n",
    "        im.save(outfile, format='png')\n",
    "        metadata.append(['valid/' + outfilename, label])\n",
    "\n",
    "    # Now Training data.\n",
    "    data = np.load(path / 'k49-train-labels.npz')\n",
    "    array_name = data.files[0]\n",
    "    train_labels = data[array_name]\n",
    "    \n",
    "    data = np.load(path / 'k49-train-imgs.npz')\n",
    "    array_name = data.files[0]\n",
    "    train_images = data[array_name]\n",
    "        \n",
    "    train_path = path / 'train'\n",
    "    train_path.mkdir(parents=True, exist_ok=True)\n",
    "    for n,label in zip(range(len(train_images)), train_labels):\n",
    "        im = pi.fromarray(train_images[n,:,:])\n",
    "        outfilename = str(n) + '.png'\n",
    "        outfile = train_path / outfilename\n",
    "        im.save(outfile, format='png')\n",
    "        metadata.append(['train/' + outfilename, label])\n",
    "\n",
    "    metadata_df = pd.DataFrame(metadata, columns=['name', 'label'])\n",
    "    metadata_df.to_csv(path / 'labels.csv', index=False)"
   ]
  },
  {
   "cell_type": "code",
   "execution_count": null,
   "metadata": {},
   "outputs": [],
   "source": [
    "if not (path / 'train').exists():\n",
    "    extract_k49()"
   ]
  },
  {
   "cell_type": "code",
   "execution_count": null,
   "metadata": {},
   "outputs": [],
   "source": [
    "if fastai_imported == True:\n",
    "    data = ImageDataBunch.from_csv(path)\n",
    "    data.show_batch(rows=3, figsize=(5,5))"
   ]
  },
  {
   "cell_type": "code",
   "execution_count": null,
   "metadata": {},
   "outputs": [],
   "source": [
    "if fastai_imported == True:\n",
    "    learn = cnn_learner(data, models.resnet50, metrics=accuracy)\n",
    "    if not learn.load('kmnist-stage-2-50'):\n",
    "        print('Could not load model, training instead.')\n",
    "        learn.fit(4)\n",
    "        learn.save('kmnist-stage-1-50');"
   ]
  },
  {
   "cell_type": "code",
   "execution_count": null,
   "metadata": {},
   "outputs": [],
   "source": [
    "# learn = cnn_learner(data, models.resnet50, metrics=accuracy)\n",
    "# learn.fit(4, 3e-3)\n",
    "# learn.save('kmnist-stage-1-50');\n",
    "# learn.lr_find()\n",
    "# learn.recorder.plot()\n",
    "# learn.unfreeze()\n",
    "# learn.fit_one_cycle(4, slice(3e-5, 3e-4))\n",
    "# learn.save('kmnist-stage-2-50');"
   ]
  },
  {
   "cell_type": "code",
   "execution_count": null,
   "metadata": {},
   "outputs": [],
   "source": [
    "if fastai_imported == True:\n",
    "    interp = ClassificationInterpretation.from_learner(learn)\n",
    "    losses,idxs = interp.top_losses()\n",
    "    len(data.valid_ds)==len(losses)==len(idxs)"
   ]
  },
  {
   "cell_type": "code",
   "execution_count": null,
   "metadata": {},
   "outputs": [],
   "source": [
    "if fastai_imported == True:\n",
    "    interp.plot_top_losses(9, figsize=(15,11))"
   ]
  },
  {
   "cell_type": "code",
   "execution_count": null,
   "metadata": {},
   "outputs": [],
   "source": [
    "if fastai_imported == True:\n",
    "    interp.plot_confusion_matrix(figsize=(12,12), dpi=60)"
   ]
  },
  {
   "cell_type": "markdown",
   "metadata": {},
   "source": [
    "## Hentaigana"
   ]
  },
  {
   "cell_type": "code",
   "execution_count": null,
   "metadata": {},
   "outputs": [],
   "source": [
    "df = pd.read_html('https://en.wikipedia.org/wiki/Hentaigana', attrs={\"class\": \"wikitable\"})[-1]"
   ]
  },
  {
   "cell_type": "code",
   "execution_count": null,
   "metadata": {},
   "outputs": [],
   "source": [
    "df"
   ]
  },
  {
   "cell_type": "code",
   "execution_count": null,
   "metadata": {},
   "outputs": [],
   "source": [
    "hentaigana = {}\n",
    "hentaigana['あ'] = list('安悪亜愛')\n",
    "hentaigana['お'] = list('於')\n",
    "hentaigana['か'] = list('加閑可我駕賀歌哥香家嘉歟謌佳')"
   ]
  },
  {
   "cell_type": "code",
   "execution_count": null,
   "metadata": {},
   "outputs": [],
   "source": [
    "hentaigana"
   ]
  },
  {
   "cell_type": "code",
   "execution_count": null,
   "metadata": {},
   "outputs": [],
   "source": [
    "path = Path(\"../data/raw\") / \"kkanji\"\n",
    "path.mkdir(parents=True, exist_ok=True)\n",
    "\n",
    "kkanji_url = 'http://codh.rois.ac.jp/kmnist/dataset/kkanji/'\n",
    "filename = 'kkanji.tar'\n",
    "\n",
    "if not (path / filename).exists():\n",
    "    content = requests.get(kkanji_url + filename).content\n",
    "    (path / filename).open(\"wb\").write(content)\n",
    "    \n",
    "pathnames = !tar tvf {path/filename}"
   ]
  },
  {
   "cell_type": "code",
   "execution_count": null,
   "metadata": {},
   "outputs": [],
   "source": [
    "images = []\n",
    "filenames = []\n",
    "\n",
    "for char in hentaigana['か']:\n",
    "    char_filenames = []\n",
    "    char_filenames = [p.split()[-1] for p in pathnames if 'U+%04X' % ord(char) in p]\n",
    "    char_filenames = char_filenames[1:]\n",
    "    filenames.extend(char_filenames)\n",
    "\n",
    "for fn in filenames:\n",
    "    b = BytesIO()\n",
    "    im = pi.open(path / fn)\n",
    "    im.save(b, format='png')\n",
    "    images.append(b.getvalue())"
   ]
  },
  {
   "cell_type": "code",
   "execution_count": null,
   "metadata": {},
   "outputs": [],
   "source": [
    "from math import ceil\n",
    "no_columns = 20\n",
    "no_rows = ceil(len(images)/no_columns)"
   ]
  },
  {
   "cell_type": "code",
   "execution_count": null,
   "metadata": {},
   "outputs": [],
   "source": [
    "z_container_layout = Layout(border='0px solid  grey', margin='0px 0px 0px 0px')\n",
    "a_container_layout = Layout(border='0px solid red')\n",
    "b_container_layout = Layout(border='0px solid green', justify_content='flex-start')\n",
    "c_container_layout = Layout(border='0px solid black', width='90%', flex_direction='column', justify_content='space-around')\n",
    "no_boxes_per_line = 10\n",
    "fig1 = VBox(children=[HBox(children=[VBox(children=[Image_widget(value=image, layout=z_container_layout)], layout=a_container_layout) \n",
    "                     for image in images[no_columns*m:no_columns*(m+1)]], layout=b_container_layout) for m in range(no_rows)], \n",
    "            layout=c_container_layout)"
   ]
  },
  {
   "cell_type": "code",
   "execution_count": null,
   "metadata": {},
   "outputs": [],
   "source": [
    "fig1"
   ]
  },
  {
   "cell_type": "code",
   "execution_count": null,
   "metadata": {},
   "outputs": [],
   "source": []
  }
 ],
 "metadata": {
  "kernelspec": {
   "display_name": "Python [conda env:fastai-cpu]",
   "language": "python",
   "name": "conda-env-fastai-cpu-py"
  },
  "language_info": {
   "codemirror_mode": {
    "name": "ipython",
    "version": 3
   },
   "file_extension": ".py",
   "mimetype": "text/x-python",
   "name": "python",
   "nbconvert_exporter": "python",
   "pygments_lexer": "ipython3",
   "version": "3.6.8"
  }
 },
 "nbformat": 4,
 "nbformat_minor": 4
}
