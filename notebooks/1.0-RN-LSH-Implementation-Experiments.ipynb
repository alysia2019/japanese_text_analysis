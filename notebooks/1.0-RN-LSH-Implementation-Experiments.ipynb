{
 "cells": [
  {
   "cell_type": "markdown",
   "metadata": {},
   "source": [
    "# Locality Sensitive Hashing: Exploration\n",
    "\n",
    "This is a redo of Alex Klibisz's [sample notebook](https://github.com/alexklibisz/elastik-nearest-neighbors/blob/master/scratch/lsh-experiments/lsh-explore.ipynb) using [`plotly express`](https://medium.com/@plotlygraphs/introducing-plotly-express-808df010143d) instead of `matplotlib`."
   ]
  },
  {
   "cell_type": "code",
   "execution_count": null,
   "metadata": {},
   "outputs": [],
   "source": [
    "import plotly.graph_objs as go\n",
    "import numpy as np\n",
    "import pandas as pd\n",
    "\n",
    "from sklearn.neighbors import NearestNeighbors"
   ]
  },
  {
   "cell_type": "code",
   "execution_count": null,
   "metadata": {},
   "outputs": [],
   "source": [
    "# Generate random points in 2D space.\n",
    "rng = np.random.RandomState(33)\n",
    "X = rng.normal(5, 1, size=(200, 2))\n",
    "\n",
    "df = pd.DataFrame(X, columns=['x', 'y'])\n",
    "fig = go.FigureWidget(data=[dict(type='scatter', x = df.x, y = df.y,\n",
    "                      mode = 'markers', showlegend=False)])\n",
    "# fig.layout.xaxis.rangemode = fig.layout.yaxis.rangemode = 'tozero'\n",
    "fig.layout.width = fig.layout.height = 600\n",
    "fig.layout.yaxis = {'scaleanchor':'x', 'scaleratio':1}\n",
    "fig.layout.hovermode = 'closest'"
   ]
  },
  {
   "cell_type": "code",
   "execution_count": null,
   "metadata": {},
   "outputs": [],
   "source": [
    "# Value closer to 0.5 are good here..\n",
    "# print('Proportion positive at each hash: ', H.mean())\n",
    "\n",
    "# Compute the recall @ 10...\n",
    "knn = NearestNeighbors(n_neighbors=10, algorithm='brute', metric='euclidean')\n",
    "nbrs_true = knn.fit(X).kneighbors(X, return_distance=False)\n",
    "# nbrs_hash = knn.fit(H).kneighbors(H, return_distance=False)\n",
    "\n",
    "# recalls = np.array([len(np.intersect1d(a, b)) for a, b in zip(nbrs_true, nbrs_hash)])\n",
    "# print('Recall @10 min, mean, median, max = %.2lf, %.2lf, %.2lf, %.2lf' % (\n",
    "#     recalls.min(), recalls.mean(), np.median(recalls), recalls.max()))"
   ]
  },
  {
   "cell_type": "code",
   "execution_count": null,
   "metadata": {},
   "outputs": [],
   "source": [
    "def hover_fn(trace, points, state):\n",
    "    point_of_interest = points.point_inds[0]\n",
    "    neighbor_colors = ['blue']*len(X)\n",
    "#     neighbors = [n for n,h in enumerate(H) if (h == H[point_of_interest]).all()]\n",
    "    nbrs_true = knn.fit(X).kneighbors(X, return_distance=False)\n",
    "    for n in nbrs_true[point_of_interest]:\n",
    "        neighbor_colors[n] = 'orange'\n",
    "    neighbor_colors[point_of_interest] = 'green'\n",
    "    fig.data[0].marker.color = neighbor_colors\n",
    "    fig.data[0].marker.opacity = 1\n",
    "    \n",
    "    C_index = [n for n,x in enumerate(X) if (x in C)]\n",
    "#     c_colors = ['blue']*len(X)\n",
    "    for n in C_index:\n",
    "        neighbor_colors[n] = 'red'\n",
    "    fig.data[0].marker.color = neighbor_colors"
   ]
  },
  {
   "cell_type": "code",
   "execution_count": null,
   "metadata": {},
   "outputs": [],
   "source": [
    "def make_lsh_model(nb_tables, nb_bits, nb_dimensions, vector_sample):\n",
    "    # vector_sample: np arr w/ shape (2 * nb_tables * nb_tables, nb_dimensions).\n",
    "    # normals, midpoints: np arrs w/ shape (nb_bits, nb_dimensions)\n",
    "    # thresholds: np arrs w/ shape (nb_bits)\n",
    "    # all_normals, all_thresholds: lists w/ one normal, one threshold per table.\n",
    "    all_normals, all_thresholds = [], []\n",
    "    for i in range(0, len(vector_sample), 2 * nb_bits):\n",
    "            vector_sample_a = vector_sample[i:i + nb_bits]\n",
    "            vector_sample_b = vector_sample[i + nb_bits: i + 2 * nb_bits]\n",
    "            midpoints = (vector_sample_a + vector_sample_b) / 2\n",
    "            normals = vector_sample_a - midpoints\n",
    "            thresholds = np.zeros(nb_bits)\n",
    "    for j in range(nb_bits):\n",
    "            thresholds[j] = normals[j].dot(midpoints[j])\n",
    "            all_normals.append(normals)\n",
    "            all_thresholds.append(thresholds)\n",
    "    return all_normals, all_thresholds"
   ]
  },
  {
   "cell_type": "code",
   "execution_count": null,
   "metadata": {},
   "outputs": [],
   "source": [
    "def get_lsh_hashes(vec, all_normals, all_thresholds):\n",
    "    # vec: np arr w/ shape (nb_dimensions, )\n",
    "    # hashes: one hash per table.\n",
    "    hashes = dict()\n",
    "    for normal, thresholds in zip(all_normals, all_thresholds):\n",
    "        hsh = 0\n",
    "        dot = vec.dot(normal.T)  # shape (nb_bits,)\n",
    "    for i, (d, t) in enumerate(zip(dot, thresholds)):\n",
    "        if d > t:\n",
    "            hsh += i ** 2\n",
    "            hashes[len(hashes)] = hsh\n",
    "    return hashes"
   ]
  },
  {
   "cell_type": "code",
   "execution_count": null,
   "metadata": {},
   "outputs": [],
   "source": [
    "nb_tabs = 10\n",
    "nb_bits = 2\n",
    "nb_dims = 2\n",
    "vector_sample = np.random.normal(0, 3, (2 * nb_tabs * nb_bits, nb_dims))\n",
    "all_normals, all_thresholds = make_lsh_model(nb_tabs, nb_bits, nb_dims, vector_sample)\n",
    "vec = np.random.normal(0, 3, (nb_dims,))\n",
    "hashes = get_lsh_hashes(vec, all_normals, all_thresholds)"
   ]
  },
  {
   "cell_type": "code",
   "execution_count": null,
   "metadata": {},
   "outputs": [],
   "source": [
    "vec"
   ]
  },
  {
   "cell_type": "code",
   "execution_count": null,
   "metadata": {},
   "outputs": [],
   "source": [
    "hashes"
   ]
  },
  {
   "cell_type": "code",
   "execution_count": null,
   "metadata": {},
   "outputs": [],
   "source": [
    "bits = 2\n",
    "nb_tables = 1\n",
    "nb_dimensions = X.shape[-1]\n",
    "# Randomly sample (indices of) dataset X.\n",
    "vector_sample = np.array([X[i] for i in rng.choice(np.arange(len(X)), size=2*nb_tables*bits, replace=False)])\n",
    "\n",
    "all_normals, all_thresholds = [], []\n",
    "vector_sample_p, vector_sample_q = [], []\n",
    "for i in range(0, len(vector_sample), 2 * bits):\n",
    "    vector_sample_p.append(vector_sample[i:i + bits][0])\n",
    "    vector_sample_q.append(vector_sample[i + bits: i + 2 * bits][0])\n",
    "    \n",
    "# midpoints = (vector_sample_a + vector_sample_b) / 2\n",
    "# normals = vector_sample_a - midpoints\n",
    "# thresholds = np.zeros(bits)\n",
    "# for j in range(bits):\n",
    "#         thresholds[j] = normals[j].dot(midpoints[j])\n",
    "#         all_normals.append(normals)\n",
    "#         all_thresholds.append(thresholds)\n",
    "\n",
    "for p,q in zip(vector_sample_p, vector_sample_q):\n",
    "    # This is effectively the only information that needs to be stored.\n",
    "    m = (p + q) / 2 # Midpoint.\n",
    "    n = m - q       # Normal vector.\n",
    "\n",
    "    fig.add_scatter(x=[p[0], q[0]], y=[p[1], q[1]], mode='markers')\n",
    "\n",
    "    # Some arithmetic to plot the lines.\n",
    "    Z = np.vstack([np.linspace(0, 10, 2), np.zeros(2)]).T\n",
    "    Z[:,1] = (n[0] * Z[:,0] - n.dot(m)) / (-1 * n[1])\n",
    "    fig.add_scatter(x=Z[:,0], y=Z[:,1], mode='lines', line={'dash':'dash', 'color':'red'}, showlegend=False)\n",
    "\n",
    "fig.data[0].on_hover(hover_fn)\n",
    "# fig.data[0].hoverinfo = 'none'\n",
    "fig"
   ]
  },
  {
   "cell_type": "code",
   "execution_count": null,
   "metadata": {},
   "outputs": [],
   "source": [
    "vector_sample"
   ]
  },
  {
   "cell_type": "code",
   "execution_count": null,
   "metadata": {},
   "outputs": [],
   "source": [
    "vector_sample_p"
   ]
  },
  {
   "cell_type": "code",
   "execution_count": null,
   "metadata": {},
   "outputs": [],
   "source": []
  }
 ],
 "metadata": {
  "kernelspec": {
   "display_name": "Python 3",
   "language": "python",
   "name": "python3"
  },
  "language_info": {
   "codemirror_mode": {
    "name": "ipython",
    "version": 3
   },
   "file_extension": ".py",
   "mimetype": "text/x-python",
   "name": "python",
   "nbconvert_exporter": "python",
   "pygments_lexer": "ipython3",
   "version": "3.7.3"
  }
 },
 "nbformat": 4,
 "nbformat_minor": 2
}
