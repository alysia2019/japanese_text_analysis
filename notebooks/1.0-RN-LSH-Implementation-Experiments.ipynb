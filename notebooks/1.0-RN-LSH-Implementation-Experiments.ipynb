{
 "cells": [
  {
   "cell_type": "markdown",
   "metadata": {},
   "source": [
    "# Locality Sensitive Hashing: Exploration\n",
    "\n",
    "This is a redo of Alex Klibisz's [sample notebook](https://github.com/alexklibisz/elastik-nearest-neighbors/blob/master/scratch/lsh-experiments/lsh-explore.ipynb) using [`plotly express`](https://medium.com/@plotlygraphs/introducing-plotly-express-808df010143d) instead of `matplotlib`."
   ]
  },
  {
   "cell_type": "code",
   "execution_count": null,
   "metadata": {},
   "outputs": [],
   "source": [
    "import plotly_express as px\n",
    "import plotly.graph_objs as go\n",
    "import numpy as np\n",
    "import pandas as pd\n",
    "\n",
    "from sklearn.neighbors import NearestNeighbors"
   ]
  },
  {
   "cell_type": "code",
   "execution_count": null,
   "metadata": {},
   "outputs": [],
   "source": [
    "# This was a first pass at LSH, but it doesn't handle the case where points are not centered at (0, 0)..\n",
    "# The implementation further down handles this case nicely.\n",
    "rng = np.random.RandomState(22)\n",
    "\n",
    "# Generate random points in 2D space.\n",
    "X = rng.normal(0, 1, size=(100, 2))\n",
    "\n",
    "# Sample random coefficients. In practice you probably don't know \n",
    "# the true distribution, so sample from the dataset. You might\n",
    "# also benefit from adding some gaussian noise.\n",
    "bits = 20\n",
    "# C = rng.choice(X.ravel(), size=(bits, X.shape[-1]))\n",
    "\n",
    "# Sample a random choice of rows from X? Is this what Klibisz intended?\n",
    "C = X[rng.choice(X.shape[0], bits, replace=False)]\n",
    "\n",
    "# Compute bias.\n",
    "B = rng.normal(0, 2, size=bits)\n",
    "# B = rng.choice(X.ravel(), size=(bits,))\n",
    "\n",
    "# Hash the points.\n",
    "H = ((X.dot(C.T) + B) >= 0).astype(np.uint8)\n",
    "\n",
    "# Value closer to 0.5 are good here..\n",
    "print('Proportion positive at each hash: ', H.mean())\n",
    "\n",
    "# Compute the recall @ 10...\n",
    "knn = NearestNeighbors(n_neighbors=10, algorithm='brute', metric='euclidean')\n",
    "nbrs_true = knn.fit(X).kneighbors(X, return_distance=False)\n",
    "nbrs_hash = knn.fit(H).kneighbors(H, return_distance=False)\n",
    "\n",
    "recalls = np.array([len(np.intersect1d(a, b)) for a, b in zip(nbrs_true, nbrs_hash)])\n",
    "print('Recall @10 min, mean, median, max = %.2lf, %.2lf, %.2lf, %.2lf' % (\n",
    "    recalls.min(), recalls.mean(), np.median(recalls), recalls.max()))\n",
    "\n",
    "df = pd.DataFrame(X, columns=['x', 'y'])\n",
    "fig = px.scatter(df, x='x', y='y', labels={'x':'', 'y':''}, width=600, height=600)\n",
    "# fig.data[0].update(mode='markers+text', text=[\"$p=(1,2)$\", \"$q=(2,1)$\"], cliponaxis=False, textposition='top right')\n",
    "fig.layout.xaxis.range = fig.layout.yaxis.range = [-2, 2]\n",
    "fig.layout.xaxis.rangemode = fig.layout.yaxis.rangemode = 'tozero'\n",
    "\n",
    "lineX = np.linspace(X.min() - 1, X.max() + 1, 3)\n",
    "for i in range(bits):\n",
    "    c0, c1 = C[i]\n",
    "    b = B[i]\n",
    "    y = ((c0 * lineX) + b) / (c1 + 1e-7)\n",
    "    df_line = pd.DataFrame({'x':lineX, 'y':y})\n",
    "    fig.add_scatter(x=df_line.x, y=df_line.y, showlegend=False)\n",
    "    fig.data[i+1].update(mode='lines', line={'dash':'dash', 'color':'red'})\n",
    "    \n",
    "fig"
   ]
  },
  {
   "cell_type": "code",
   "execution_count": null,
   "metadata": {},
   "outputs": [],
   "source": [
    "for c in X[np.random.choice(X.shape[0], 20, replace=False)]:\n",
    "    if c not in X:\n",
    "        print(c)"
   ]
  },
  {
   "cell_type": "code",
   "execution_count": null,
   "metadata": {},
   "outputs": [],
   "source": [
    "for c in rng.choice(X.ravel(), size=(bits, X.shape[-1])):\n",
    "    if c not in X:\n",
    "        print(c)"
   ]
  },
  {
   "cell_type": "code",
   "execution_count": null,
   "metadata": {},
   "outputs": [],
   "source": [
    "B"
   ]
  },
  {
   "cell_type": "code",
   "execution_count": null,
   "metadata": {},
   "outputs": [],
   "source": []
  }
 ],
 "metadata": {
  "kernelspec": {
   "display_name": "Python 3",
   "language": "python",
   "name": "python3"
  },
  "language_info": {
   "codemirror_mode": {
    "name": "ipython",
    "version": 3
   },
   "file_extension": ".py",
   "mimetype": "text/x-python",
   "name": "python",
   "nbconvert_exporter": "python",
   "pygments_lexer": "ipython3",
   "version": "3.7.3"
  }
 },
 "nbformat": 4,
 "nbformat_minor": 2
}
