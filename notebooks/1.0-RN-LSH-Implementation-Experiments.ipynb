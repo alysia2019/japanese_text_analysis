{
 "cells": [
  {
   "cell_type": "markdown",
   "metadata": {},
   "source": [
    "# Locality Sensitive Hashing: Exploration\n",
    "\n",
    "This is a redo of Alex Klibisz's [sample notebook](https://github.com/alexklibisz/elastik-nearest-neighbors/blob/master/scratch/lsh-experiments/lsh-explore.ipynb) using [`plotly express`](https://medium.com/@plotlygraphs/introducing-plotly-express-808df010143d) instead of `matplotlib`."
   ]
  },
  {
   "cell_type": "code",
   "execution_count": null,
   "metadata": {},
   "outputs": [],
   "source": [
    "import plotly_express as px\n",
    "import plotly.graph_objs as go\n",
    "import numpy as np\n",
    "import pandas as pd\n",
    "\n",
    "from sklearn.neighbors import NearestNeighbors"
   ]
  },
  {
   "cell_type": "code",
   "execution_count": null,
   "metadata": {},
   "outputs": [],
   "source": [
    "# Generate random points in 2D space.\n",
    "rng = np.random.RandomState(33)\n",
    "X = rng.normal(5, 1, size=(200, 2))\n",
    "\n",
    "df = pd.DataFrame(X, columns=['x', 'y'])\n",
    "fig = go.FigureWidget(data=[dict(type='scatter', x = df.x, y = df.y,\n",
    "                      mode = 'markers', showlegend=False)])\n",
    "# fig.layout.xaxis.rangemode = fig.layout.yaxis.rangemode = 'tozero'\n",
    "fig.layout.width = fig.layout.height = 600\n",
    "fig.layout.yaxis = {'scaleanchor':'x', 'scaleratio':1}\n",
    "fig.layout.hovermode = 'closest'"
   ]
  },
  {
   "cell_type": "code",
   "execution_count": null,
   "metadata": {},
   "outputs": [],
   "source": [
    "# Value closer to 0.5 are good here..\n",
    "# print('Proportion positive at each hash: ', H.mean())\n",
    "\n",
    "# Compute the recall @ 10...\n",
    "knn = NearestNeighbors(n_neighbors=10, algorithm='brute', metric='euclidean')\n",
    "nbrs_true = knn.fit(X).kneighbors(X, return_distance=False)\n",
    "# nbrs_hash = knn.fit(H).kneighbors(H, return_distance=False)\n",
    "\n",
    "# recalls = np.array([len(np.intersect1d(a, b)) for a, b in zip(nbrs_true, nbrs_hash)])\n",
    "# print('Recall @10 min, mean, median, max = %.2lf, %.2lf, %.2lf, %.2lf' % (\n",
    "#     recalls.min(), recalls.mean(), np.median(recalls), recalls.max()))"
   ]
  },
  {
   "cell_type": "code",
   "execution_count": null,
   "metadata": {},
   "outputs": [],
   "source": [
    "def hover_fn(trace, points, state):\n",
    "    point_of_interest = points.point_inds[0]\n",
    "    neighbor_colors = ['blue']*len(X)\n",
    "#     neighbors = [n for n,h in enumerate(H) if (h == H[point_of_interest]).all()]\n",
    "    nbrs_true = knn.fit(X).kneighbors(X, return_distance=False)\n",
    "    for n in nbrs_true[point_of_interest]:\n",
    "        neighbor_colors[n] = 'orange'\n",
    "    neighbor_colors[point_of_interest] = 'green'\n",
    "    fig.data[0].marker.color = neighbor_colors\n",
    "    fig.data[0].marker.opacity = 1\n",
    "    \n",
    "    C_index = [n for n,x in enumerate(X) if (x in C)]\n",
    "#     c_colors = ['blue']*len(X)\n",
    "    for n in C_index:\n",
    "        neighbor_colors[n] = 'red'\n",
    "    fig.data[0].marker.color = neighbor_colors"
   ]
  },
  {
   "cell_type": "code",
   "execution_count": null,
   "metadata": {},
   "outputs": [],
   "source": [
    "bits = 2\n",
    "# Randomly sample (indices of) dataset X.\n",
    "vector_sample = rng.choice(np.arange(len(X)), size=(bits, 2), replace=False)\n",
    "for i0, i1 in vector_sample:\n",
    "    p, q = X[i0], X[i1]\n",
    "\n",
    "    # This is effectively the only information that needs to be stored.\n",
    "    m = (p + q) / 2 # Midpoint.\n",
    "    n = m - q       # Normal vector.\n",
    "    \n",
    "#     fig.add_scatter(x=[p[0], q[0]], y=[p[1], q[1]], mode='markers')\n",
    "    \n",
    "    # Some arithmetic to plot the lines.\n",
    "    Z = np.vstack([np.linspace(0, 10, 2), np.zeros(2)]).T\n",
    "    Z[:,1] = (n[0] * Z[:,0] - n.dot(m)) / (-1 * n[1])\n",
    "    fig.add_scatter(x=Z[:,0], y=Z[:,1], mode='lines', line={'dash':'dash', 'color':'red'}, showlegend=False)\n",
    "    \n",
    "fig.data[0].on_hover(hover_fn)\n",
    "fig.data[0].hoverinfo = 'none'\n",
    "fig"
   ]
  },
  {
   "cell_type": "code",
   "execution_count": null,
   "metadata": {},
   "outputs": [],
   "source": [
    "# # Value closer to 0.5 are good here..\n",
    "# print('Proportion positive at each hash: ', H.mean())\n",
    "\n",
    "# # Compute the recall @ 10...\n",
    "# knn = NearestNeighbors(n_neighbors=10, algorithm='brute', metric='euclidean')\n",
    "# nbrs_true = knn.fit(X).kneighbors(X, return_distance=False)\n",
    "# nbrs_hash = knn.fit(H).kneighbors(H, return_distance=False)\n",
    "\n",
    "# recalls = np.array([len(np.intersect1d(a, b)) for a, b in zip(nbrs_true, nbrs_hash)])\n",
    "# print('Recall @10 min, mean, median, max = %.2lf, %.2lf, %.2lf, %.2lf' % (\n",
    "#     recalls.min(), recalls.mean(), np.median(recalls), recalls.max()))\n",
    "\n",
    "# lineX = np.linspace(X.min() - 1, X.max() + 1, 3)\n",
    "# for i in range(bits):\n",
    "#     c0, c1 = C[i]\n",
    "#     b = B[i]\n",
    "#     y = ((c0 * lineX) + b) / (c1 + 1e-7)\n",
    "#     df_line = pd.DataFrame({'x':lineX, 'y':y})\n",
    "#     fig.add_scatter(x=df_line.x, y=df_line.y, showlegend=False)\n",
    "#     fig.data[i+1].update(mode='lines', line={'dash':'dash', 'color':'red'})\n",
    "    \n",
    "\n",
    "# point_of_interest = 55\n",
    "# neighbor_colors = ['blue']*len(X)\n",
    "# neighbors = [n for n,h in enumerate(H) if (h == H[point_of_interest]).all()]\n",
    "# for n in nbrs_true[point_of_interest]:\n",
    "#     neighbor_colors[n] = 'orange'\n",
    "# neighbor_colors[point_of_interest] = 'green'\n",
    "# fig.data[0].marker.color = neighbor_colors\n",
    "# fig.data[0].marker.opacity = 1\n",
    "# fig.data[0].on_hover(hover_fn)\n",
    "# fig.data[0].hoverinfo = 'none'\n",
    "\n",
    "# C_index = [n for n,x in enumerate(X) if (x in C)]\n",
    "# c_colors = ['blue']*len(X)\n",
    "# for n in C_index:\n",
    "#     c_colors[n] = 'red'\n",
    "# fig.data[0].marker.color = c_colors\n",
    "\n",
    "# fig.layout.hovermode = 'closest'\n",
    "# fig"
   ]
  },
  {
   "cell_type": "code",
   "execution_count": null,
   "metadata": {},
   "outputs": [],
   "source": [
    "knn.fit(X).kneighbors(X, return_distance=False)"
   ]
  },
  {
   "cell_type": "code",
   "execution_count": null,
   "metadata": {},
   "outputs": [],
   "source": []
  }
 ],
 "metadata": {
  "kernelspec": {
   "display_name": "Python 3",
   "language": "python",
   "name": "python3"
  },
  "language_info": {
   "codemirror_mode": {
    "name": "ipython",
    "version": 3
   },
   "file_extension": ".py",
   "mimetype": "text/x-python",
   "name": "python",
   "nbconvert_exporter": "python",
   "pygments_lexer": "ipython3",
   "version": "3.7.3"
  }
 },
 "nbformat": 4,
 "nbformat_minor": 2
}
