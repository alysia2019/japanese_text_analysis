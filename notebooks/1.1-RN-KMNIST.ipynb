{
 "cells": [
  {
   "cell_type": "markdown",
   "metadata": {},
   "source": [
    "## KMNIST Data Setup\n",
    "\n",
    "[KMNIST Dataset description: ](http://codh.rois.ac.jp/kmnist/)\n",
    "\n",
    "\n",
    "[Dataset on github:](https://github.com/rois-codh/kmnist)\n",
    "\n",
    "| File            | Examples | Download (MNIST format)    | Download (NumPy format)      |\n",
    "|-----------------|--------------------|----------------------------|------------------------------|\n",
    "| Training images | 60,000             | [train-images-idx3-ubyte.gz](http://codh.rois.ac.jp/kmnist/dataset/kmnist/train-images-idx3-ubyte.gz) (18MB) | [kmnist-train-imgs.npz](http://codh.rois.ac.jp/kmnist/dataset/kmnist/kmnist-train-imgs.npz) (18MB)   |\n",
    "| Training labels | 60,000             | [train-labels-idx1-ubyte.gz](http://codh.rois.ac.jp/kmnist/dataset/kmnist/train-labels-idx1-ubyte.gz) (30KB) | [kmnist-train-labels.npz](http://codh.rois.ac.jp/kmnist/dataset/kmnist/kmnist-train-labels.npz) (30KB)  |\n",
    "| Testing images  | 10,000             | [t10k-images-idx3-ubyte.gz](http://codh.rois.ac.jp/kmnist/dataset/kmnist/t10k-images-idx3-ubyte.gz) (3MB) | [kmnist-test-imgs.npz](http://codh.rois.ac.jp/kmnist/dataset/kmnist/kmnist-test-imgs.npz) (3MB)   |\n",
    "| Testing labels  | 10,000             | [t10k-labels-idx1-ubyte.gz](http://codh.rois.ac.jp/kmnist/dataset/kmnist/t10k-labels-idx1-ubyte.gz) (5KB)  | [kmnist-test-labels.npz](http://codh.rois.ac.jp/kmnist/dataset/kmnist/kmnist-test-labels.npz) (5KB) |"
   ]
  },
  {
   "cell_type": "code",
   "execution_count": null,
   "metadata": {},
   "outputs": [],
   "source": [
    "from pathlib import Path\n",
    "import requests\n",
    "import gzip\n",
    "\n",
    "import struct\n",
    "from pathlib import Path\n",
    "import numpy as np\n",
    "import pandas as pd\n",
    "from io import BytesIO\n",
    "from PIL import Image as pi\n",
    "\n",
    "try:\n",
    "    from fastai.vision import *\n",
    "    from fastai.metrics import error_rate\n",
    "    fastai_imported = True\n",
    "except Exception as ex:\n",
    "    print('Switch to fastapi-cpu kernel to train model.')\n",
    "    fastai_imported = False"
   ]
  },
  {
   "cell_type": "code",
   "execution_count": null,
   "metadata": {},
   "outputs": [],
   "source": [
    "from pathlib import Path\n",
    "import requests\n",
    "\n",
    "DATA_PATH = Path(\"../data/raw\")\n",
    "PATH = DATA_PATH / \"kmnist\"\n",
    "\n",
    "PATH.mkdir(parents=True, exist_ok=True)\n",
    "\n",
    "URL = \"http://codh.rois.ac.jp/kmnist/dataset/kmnist/\"\n",
    "FILENAMES = ['train-images-idx3-ubyte.gz', 'train-labels-idx1-ubyte.gz', \n",
    "             't10k-images-idx3-ubyte.gz', 't10k-labels-idx1-ubyte.gz']\n",
    "\n",
    "for FILENAME in FILENAMES:\n",
    "    if not (PATH / FILENAME).exists():\n",
    "            content = requests.get(URL + FILENAME).content\n",
    "            (PATH / FILENAME).open(\"wb\").write(content)"
   ]
  },
  {
   "cell_type": "code",
   "execution_count": null,
   "metadata": {},
   "outputs": [],
   "source": [
    "def extract_kmnist():\n",
    "    metadata = []\n",
    "    \n",
    "    with gzip.open(PATH / 't10k-labels-idx1-ubyte.gz', 'rb') as fp:\n",
    "        magic, size = struct.unpack(\">II\", fp.read(8))\n",
    "        labels = np.frombuffer(fp.read(), dtype=np.dtype(np.uint8).newbyteorder('>'))\n",
    "        print(magic, size)\n",
    "\n",
    "    with gzip.open(PATH / 't10k-images-idx3-ubyte.gz', 'rb') as fp:\n",
    "        magic, size = struct.unpack(\">II\", fp.read(8))\n",
    "        nrows, ncols = struct.unpack(\">II\", fp.read(8))\n",
    "        data = np.frombuffer(fp.read(), dtype=np.dtype(np.uint8).newbyteorder('>'))\n",
    "        data = data.reshape((size, nrows, ncols))\n",
    "        print(magic, size, nrows, ncols)\n",
    "\n",
    "    VALID_PATH = PATH / 'valid'\n",
    "    VALID_PATH.mkdir(parents=True, exist_ok=True)\n",
    "    for n,label in zip(range(len(data)), labels):\n",
    "        im = pi.fromarray(data[n,:,:])\n",
    "        outfilename = str(n) + '.png'\n",
    "        outfile = VALID_PATH / outfilename\n",
    "        im.save(outfile, format='png')\n",
    "        metadata.append(['valid/' + outfilename, label])\n",
    "\n",
    "    # Now Training data.\n",
    "    with gzip.open(PATH / 'train-labels-idx1-ubyte.gz', 'rb') as fp:\n",
    "        magic, size = struct.unpack(\">II\", fp.read(8))\n",
    "        labels = np.frombuffer(fp.read(), dtype=np.dtype(np.uint8).newbyteorder('>'))\n",
    "        print(magic, size)\n",
    "\n",
    "    with gzip.open(PATH / 'train-images-idx3-ubyte.gz', 'r') as fp:\n",
    "        magic, size = struct.unpack(\">II\", fp.read(8))\n",
    "        nrows, ncols = struct.unpack(\">II\", fp.read(8))\n",
    "        data = np.frombuffer(fp.read(), dtype=np.dtype(np.uint8).newbyteorder('>'))\n",
    "        data = data.reshape((size, nrows, ncols))\n",
    "        print(magic, size, nrows, ncols)\n",
    "        \n",
    "    TRAIN_PATH = PATH / 'train'\n",
    "    TRAIN_PATH.mkdir(parents=True, exist_ok=True)\n",
    "    for n,label in zip(range(len(data)), labels):\n",
    "        im = pi.fromarray(data[n,:,:])\n",
    "        outfilename = str(n) + '.png'\n",
    "        outfile = TRAIN_PATH / outfilename\n",
    "        im.save(outfile, format='png')\n",
    "        metadata.append(['train/' + outfilename, label])\n",
    "\n",
    "    metadata_df = pd.DataFrame(metadata, columns=['name', 'label'])\n",
    "    metadata_df.to_csv(PATH / 'labels.csv', index=False)"
   ]
  },
  {
   "cell_type": "code",
   "execution_count": null,
   "metadata": {},
   "outputs": [],
   "source": [
    "if not (PATH / 'train').exists():\n",
    "    extract_kmnist()"
   ]
  },
  {
   "cell_type": "code",
   "execution_count": null,
   "metadata": {},
   "outputs": [],
   "source": [
    "if fastai_imported == True:\n",
    "    data = ImageDataBunch.from_csv(PATH)\n",
    "    data.show_batch(rows=3, figsize=(5,5))"
   ]
  },
  {
   "cell_type": "code",
   "execution_count": null,
   "metadata": {},
   "outputs": [],
   "source": [
    "if fastai_imported == True:\n",
    "    learn = cnn_learner(data, models.resnet50, metrics=accuracy)\n",
    "    if not learn.load('kmnist-stage-1-50'):\n",
    "        print('Could not load model, training instead.')\n",
    "        learn.fit(4)\n",
    "        learn.save('kmnist-stage-1-50');"
   ]
  },
  {
   "cell_type": "code",
   "execution_count": null,
   "metadata": {},
   "outputs": [],
   "source": [
    "if fastai_imported == True:\n",
    "    interp = ClassificationInterpretation.from_learner(learn)\n",
    "    losses,idxs = interp.top_losses()\n",
    "    len(data.valid_ds)==len(losses)==len(idxs)"
   ]
  },
  {
   "cell_type": "code",
   "execution_count": null,
   "metadata": {},
   "outputs": [],
   "source": [
    "if fastai_imported == True:\n",
    "    interp.plot_top_losses(9, figsize=(15,11))"
   ]
  },
  {
   "cell_type": "code",
   "execution_count": null,
   "metadata": {},
   "outputs": [],
   "source": [
    "if fastai_imported == True:\n",
    "    interp.plot_confusion_matrix(figsize=(12,12), dpi=60)"
   ]
  },
  {
   "cell_type": "code",
   "execution_count": null,
   "metadata": {},
   "outputs": [],
   "source": [
    "with gzip.open(PATH / 't10k-images-idx3-ubyte.gz', 'rb') as fp:\n",
    "    magic, size = struct.unpack(\">II\", fp.read(8))\n",
    "    nrows, ncols = struct.unpack(\">II\", fp.read(8))\n",
    "    data_raw = np.frombuffer(fp.read(), dtype=np.dtype(np.uint8).newbyteorder('>'))\n",
    "    data_raw = data_raw.reshape((size, nrows, ncols))\n",
    "    print(magic, size, nrows, ncols)\n",
    "\n",
    "images = [pi.fromarray(data_raw[n,:,:]) for n in range(len(data_raw))]"
   ]
  },
  {
   "cell_type": "code",
   "execution_count": null,
   "metadata": {},
   "outputs": [],
   "source": [
    "images = [pi.fromarray(data_raw[n,:,:]) for n in range(len(data_raw))]"
   ]
  },
  {
   "cell_type": "code",
   "execution_count": null,
   "metadata": {},
   "outputs": [],
   "source": [
    "images[0]"
   ]
  },
  {
   "cell_type": "code",
   "execution_count": null,
   "metadata": {},
   "outputs": [],
   "source": [
    "images = []\n",
    "for n in range(len(data_raw)):\n",
    "    b = BytesIO()\n",
    "    im = pi.fromarray(data_raw[n,:,:])\n",
    "    im.save(b, format='png')\n",
    "    images.append(b.getvalue())"
   ]
  },
  {
   "cell_type": "code",
   "execution_count": null,
   "metadata": {},
   "outputs": [],
   "source": [
    "from ipywidgets import Image as Image_widget"
   ]
  },
  {
   "cell_type": "code",
   "execution_count": null,
   "metadata": {},
   "outputs": [],
   "source": [
    "Image_widget(value=images[0])"
   ]
  },
  {
   "cell_type": "code",
   "execution_count": null,
   "metadata": {},
   "outputs": [],
   "source": []
  }
 ],
 "metadata": {
  "kernelspec": {
   "display_name": "Python [conda env:fastai-cpu]",
   "language": "python",
   "name": "conda-env-fastai-cpu-py"
  },
  "language_info": {
   "codemirror_mode": {
    "name": "ipython",
    "version": 3
   },
   "file_extension": ".py",
   "mimetype": "text/x-python",
   "name": "python",
   "nbconvert_exporter": "python",
   "pygments_lexer": "ipython3",
   "version": "3.6.8"
  }
 },
 "nbformat": 4,
 "nbformat_minor": 4
}
